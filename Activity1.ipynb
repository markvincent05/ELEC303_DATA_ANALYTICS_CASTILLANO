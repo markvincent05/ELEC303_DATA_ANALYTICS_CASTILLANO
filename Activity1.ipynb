{
 "cells": [
  {
   "cell_type": "markdown",
   "id": "2b11a21d-2a0e-4625-b110-290438b1ee15",
   "metadata": {},
   "source": [
    "<h1> Palmer Penguins </h1>\n",
    "<hr>\n",
    "<h3> Analysis: Castillano </h3>"
   ]
  },
  {
   "cell_type": "code",
   "execution_count": 1,
   "id": "4dbb602f-a81c-4431-b785-e2cef1f74a13",
   "metadata": {},
   "outputs": [],
   "source": [
    "import numpy as np"
   ]
  },
  {
   "cell_type": "code",
   "execution_count": 2,
   "id": "d2e37806-2726-42c2-83a8-cccc895a67dc",
   "metadata": {},
   "outputs": [],
   "source": [
    "import pandas as pd"
   ]
  },
  {
   "cell_type": "code",
   "execution_count": 3,
   "id": "ec325d0e-65fc-4cdc-9f62-4723dd093b47",
   "metadata": {},
   "outputs": [],
   "source": [
    "import warnings\n",
    "warnings.filterwarnings('ignore')"
   ]
  },
  {
   "cell_type": "code",
   "execution_count": 4,
   "id": "48178151-b0fc-4f0a-a6f1-1a96493ae016",
   "metadata": {},
   "outputs": [],
   "source": [
    "Data = pd.read_csv('Datasets\\\\penguins.csv')"
   ]
  },
  {
   "cell_type": "code",
   "execution_count": 5,
   "id": "637df46e-6a8d-49ff-ac79-0ebf898c3caa",
   "metadata": {},
   "outputs": [
    {
     "data": {
      "text/html": [
       "<div>\n",
       "<style scoped>\n",
       "    .dataframe tbody tr th:only-of-type {\n",
       "        vertical-align: middle;\n",
       "    }\n",
       "\n",
       "    .dataframe tbody tr th {\n",
       "        vertical-align: top;\n",
       "    }\n",
       "\n",
       "    .dataframe thead th {\n",
       "        text-align: right;\n",
       "    }\n",
       "</style>\n",
       "<table border=\"1\" class=\"dataframe\">\n",
       "  <thead>\n",
       "    <tr style=\"text-align: right;\">\n",
       "      <th></th>\n",
       "      <th>species</th>\n",
       "      <th>island</th>\n",
       "      <th>bill_length_mm</th>\n",
       "      <th>bill_depth_mm</th>\n",
       "      <th>flipper_length_mm</th>\n",
       "      <th>body_mass_g</th>\n",
       "      <th>sex</th>\n",
       "      <th>year</th>\n",
       "    </tr>\n",
       "  </thead>\n",
       "  <tbody>\n",
       "    <tr>\n",
       "      <th>0</th>\n",
       "      <td>Adelie</td>\n",
       "      <td>Torgersen</td>\n",
       "      <td>39.1</td>\n",
       "      <td>18.7</td>\n",
       "      <td>181.0</td>\n",
       "      <td>3750.0</td>\n",
       "      <td>male</td>\n",
       "      <td>2007</td>\n",
       "    </tr>\n",
       "    <tr>\n",
       "      <th>1</th>\n",
       "      <td>Adelie</td>\n",
       "      <td>Torgersen</td>\n",
       "      <td>39.5</td>\n",
       "      <td>17.4</td>\n",
       "      <td>186.0</td>\n",
       "      <td>3800.0</td>\n",
       "      <td>female</td>\n",
       "      <td>2007</td>\n",
       "    </tr>\n",
       "    <tr>\n",
       "      <th>2</th>\n",
       "      <td>Adelie</td>\n",
       "      <td>Torgersen</td>\n",
       "      <td>40.3</td>\n",
       "      <td>18.0</td>\n",
       "      <td>195.0</td>\n",
       "      <td>3250.0</td>\n",
       "      <td>female</td>\n",
       "      <td>2007</td>\n",
       "    </tr>\n",
       "    <tr>\n",
       "      <th>3</th>\n",
       "      <td>Adelie</td>\n",
       "      <td>Torgersen</td>\n",
       "      <td>NaN</td>\n",
       "      <td>NaN</td>\n",
       "      <td>NaN</td>\n",
       "      <td>NaN</td>\n",
       "      <td>NaN</td>\n",
       "      <td>2007</td>\n",
       "    </tr>\n",
       "    <tr>\n",
       "      <th>4</th>\n",
       "      <td>Adelie</td>\n",
       "      <td>Torgersen</td>\n",
       "      <td>36.7</td>\n",
       "      <td>19.3</td>\n",
       "      <td>193.0</td>\n",
       "      <td>3450.0</td>\n",
       "      <td>female</td>\n",
       "      <td>2007</td>\n",
       "    </tr>\n",
       "    <tr>\n",
       "      <th>...</th>\n",
       "      <td>...</td>\n",
       "      <td>...</td>\n",
       "      <td>...</td>\n",
       "      <td>...</td>\n",
       "      <td>...</td>\n",
       "      <td>...</td>\n",
       "      <td>...</td>\n",
       "      <td>...</td>\n",
       "    </tr>\n",
       "    <tr>\n",
       "      <th>339</th>\n",
       "      <td>Chinstrap</td>\n",
       "      <td>Dream</td>\n",
       "      <td>55.8</td>\n",
       "      <td>19.8</td>\n",
       "      <td>207.0</td>\n",
       "      <td>4000.0</td>\n",
       "      <td>male</td>\n",
       "      <td>2009</td>\n",
       "    </tr>\n",
       "    <tr>\n",
       "      <th>340</th>\n",
       "      <td>Chinstrap</td>\n",
       "      <td>Dream</td>\n",
       "      <td>43.5</td>\n",
       "      <td>18.1</td>\n",
       "      <td>202.0</td>\n",
       "      <td>3400.0</td>\n",
       "      <td>female</td>\n",
       "      <td>2009</td>\n",
       "    </tr>\n",
       "    <tr>\n",
       "      <th>341</th>\n",
       "      <td>Chinstrap</td>\n",
       "      <td>Dream</td>\n",
       "      <td>49.6</td>\n",
       "      <td>18.2</td>\n",
       "      <td>193.0</td>\n",
       "      <td>3775.0</td>\n",
       "      <td>male</td>\n",
       "      <td>2009</td>\n",
       "    </tr>\n",
       "    <tr>\n",
       "      <th>342</th>\n",
       "      <td>Chinstrap</td>\n",
       "      <td>Dream</td>\n",
       "      <td>50.8</td>\n",
       "      <td>19.0</td>\n",
       "      <td>210.0</td>\n",
       "      <td>4100.0</td>\n",
       "      <td>male</td>\n",
       "      <td>2009</td>\n",
       "    </tr>\n",
       "    <tr>\n",
       "      <th>343</th>\n",
       "      <td>Chinstrap</td>\n",
       "      <td>Dream</td>\n",
       "      <td>50.2</td>\n",
       "      <td>18.7</td>\n",
       "      <td>198.0</td>\n",
       "      <td>3775.0</td>\n",
       "      <td>female</td>\n",
       "      <td>2009</td>\n",
       "    </tr>\n",
       "  </tbody>\n",
       "</table>\n",
       "<p>344 rows × 8 columns</p>\n",
       "</div>"
      ],
      "text/plain": [
       "       species     island  bill_length_mm  bill_depth_mm  flipper_length_mm  \\\n",
       "0       Adelie  Torgersen            39.1           18.7              181.0   \n",
       "1       Adelie  Torgersen            39.5           17.4              186.0   \n",
       "2       Adelie  Torgersen            40.3           18.0              195.0   \n",
       "3       Adelie  Torgersen             NaN            NaN                NaN   \n",
       "4       Adelie  Torgersen            36.7           19.3              193.0   \n",
       "..         ...        ...             ...            ...                ...   \n",
       "339  Chinstrap      Dream            55.8           19.8              207.0   \n",
       "340  Chinstrap      Dream            43.5           18.1              202.0   \n",
       "341  Chinstrap      Dream            49.6           18.2              193.0   \n",
       "342  Chinstrap      Dream            50.8           19.0              210.0   \n",
       "343  Chinstrap      Dream            50.2           18.7              198.0   \n",
       "\n",
       "     body_mass_g     sex  year  \n",
       "0         3750.0    male  2007  \n",
       "1         3800.0  female  2007  \n",
       "2         3250.0  female  2007  \n",
       "3            NaN     NaN  2007  \n",
       "4         3450.0  female  2007  \n",
       "..           ...     ...   ...  \n",
       "339       4000.0    male  2009  \n",
       "340       3400.0  female  2009  \n",
       "341       3775.0    male  2009  \n",
       "342       4100.0    male  2009  \n",
       "343       3775.0  female  2009  \n",
       "\n",
       "[344 rows x 8 columns]"
      ]
     },
     "execution_count": 5,
     "metadata": {},
     "output_type": "execute_result"
    }
   ],
   "source": [
    "Data"
   ]
  },
  {
   "cell_type": "markdown",
   "id": "d6a9f33c-473a-45a9-81ec-6f2a6ba2a176",
   "metadata": {},
   "source": [
    "<h1> EXPLORATORY DAAT ANALYTICS(EDA) </h1>"
   ]
  },
  {
   "cell_type": "markdown",
   "id": "f824232c-5cc9-4cd7-a0ad-c0930c3dd6d3",
   "metadata": {},
   "source": [
    "<h1>1. How many Male has Identify in year 2008?</h1>"
   ]
  },
  {
   "cell_type": "code",
   "execution_count": 6,
   "id": "2f182e9c-cdf1-4f0a-bba1-a9131ff8bac8",
   "metadata": {},
   "outputs": [],
   "source": [
    "y_2008 = Data[Data['year'] == 2008]"
   ]
  },
  {
   "cell_type": "code",
   "execution_count": 7,
   "id": "a55a7d54-4df4-418b-876c-9676be2d725f",
   "metadata": {},
   "outputs": [
    {
     "data": {
      "text/html": [
       "<div>\n",
       "<style scoped>\n",
       "    .dataframe tbody tr th:only-of-type {\n",
       "        vertical-align: middle;\n",
       "    }\n",
       "\n",
       "    .dataframe tbody tr th {\n",
       "        vertical-align: top;\n",
       "    }\n",
       "\n",
       "    .dataframe thead th {\n",
       "        text-align: right;\n",
       "    }\n",
       "</style>\n",
       "<table border=\"1\" class=\"dataframe\">\n",
       "  <thead>\n",
       "    <tr style=\"text-align: right;\">\n",
       "      <th></th>\n",
       "      <th>species</th>\n",
       "      <th>island</th>\n",
       "      <th>bill_length_mm</th>\n",
       "      <th>bill_depth_mm</th>\n",
       "      <th>flipper_length_mm</th>\n",
       "      <th>body_mass_g</th>\n",
       "      <th>sex</th>\n",
       "      <th>year</th>\n",
       "    </tr>\n",
       "  </thead>\n",
       "  <tbody>\n",
       "    <tr>\n",
       "      <th>51</th>\n",
       "      <td>Adelie</td>\n",
       "      <td>Biscoe</td>\n",
       "      <td>40.1</td>\n",
       "      <td>18.9</td>\n",
       "      <td>188.0</td>\n",
       "      <td>4300.0</td>\n",
       "      <td>male</td>\n",
       "      <td>2008</td>\n",
       "    </tr>\n",
       "    <tr>\n",
       "      <th>53</th>\n",
       "      <td>Adelie</td>\n",
       "      <td>Biscoe</td>\n",
       "      <td>42.0</td>\n",
       "      <td>19.5</td>\n",
       "      <td>200.0</td>\n",
       "      <td>4050.0</td>\n",
       "      <td>male</td>\n",
       "      <td>2008</td>\n",
       "    </tr>\n",
       "    <tr>\n",
       "      <th>55</th>\n",
       "      <td>Adelie</td>\n",
       "      <td>Biscoe</td>\n",
       "      <td>41.4</td>\n",
       "      <td>18.6</td>\n",
       "      <td>191.0</td>\n",
       "      <td>3700.0</td>\n",
       "      <td>male</td>\n",
       "      <td>2008</td>\n",
       "    </tr>\n",
       "    <tr>\n",
       "      <th>57</th>\n",
       "      <td>Adelie</td>\n",
       "      <td>Biscoe</td>\n",
       "      <td>40.6</td>\n",
       "      <td>18.8</td>\n",
       "      <td>193.0</td>\n",
       "      <td>3800.0</td>\n",
       "      <td>male</td>\n",
       "      <td>2008</td>\n",
       "    </tr>\n",
       "    <tr>\n",
       "      <th>59</th>\n",
       "      <td>Adelie</td>\n",
       "      <td>Biscoe</td>\n",
       "      <td>37.6</td>\n",
       "      <td>19.1</td>\n",
       "      <td>194.0</td>\n",
       "      <td>3750.0</td>\n",
       "      <td>male</td>\n",
       "      <td>2008</td>\n",
       "    </tr>\n",
       "    <tr>\n",
       "      <th>61</th>\n",
       "      <td>Adelie</td>\n",
       "      <td>Biscoe</td>\n",
       "      <td>41.3</td>\n",
       "      <td>21.1</td>\n",
       "      <td>195.0</td>\n",
       "      <td>4400.0</td>\n",
       "      <td>male</td>\n",
       "      <td>2008</td>\n",
       "    </tr>\n",
       "    <tr>\n",
       "      <th>63</th>\n",
       "      <td>Adelie</td>\n",
       "      <td>Biscoe</td>\n",
       "      <td>41.1</td>\n",
       "      <td>18.2</td>\n",
       "      <td>192.0</td>\n",
       "      <td>4050.0</td>\n",
       "      <td>male</td>\n",
       "      <td>2008</td>\n",
       "    </tr>\n",
       "    <tr>\n",
       "      <th>65</th>\n",
       "      <td>Adelie</td>\n",
       "      <td>Biscoe</td>\n",
       "      <td>41.6</td>\n",
       "      <td>18.0</td>\n",
       "      <td>192.0</td>\n",
       "      <td>3950.0</td>\n",
       "      <td>male</td>\n",
       "      <td>2008</td>\n",
       "    </tr>\n",
       "    <tr>\n",
       "      <th>67</th>\n",
       "      <td>Adelie</td>\n",
       "      <td>Biscoe</td>\n",
       "      <td>41.1</td>\n",
       "      <td>19.1</td>\n",
       "      <td>188.0</td>\n",
       "      <td>4100.0</td>\n",
       "      <td>male</td>\n",
       "      <td>2008</td>\n",
       "    </tr>\n",
       "    <tr>\n",
       "      <th>69</th>\n",
       "      <td>Adelie</td>\n",
       "      <td>Torgersen</td>\n",
       "      <td>41.8</td>\n",
       "      <td>19.4</td>\n",
       "      <td>198.0</td>\n",
       "      <td>4450.0</td>\n",
       "      <td>male</td>\n",
       "      <td>2008</td>\n",
       "    </tr>\n",
       "    <tr>\n",
       "      <th>71</th>\n",
       "      <td>Adelie</td>\n",
       "      <td>Torgersen</td>\n",
       "      <td>39.7</td>\n",
       "      <td>18.4</td>\n",
       "      <td>190.0</td>\n",
       "      <td>3900.0</td>\n",
       "      <td>male</td>\n",
       "      <td>2008</td>\n",
       "    </tr>\n",
       "    <tr>\n",
       "      <th>73</th>\n",
       "      <td>Adelie</td>\n",
       "      <td>Torgersen</td>\n",
       "      <td>45.8</td>\n",
       "      <td>18.9</td>\n",
       "      <td>197.0</td>\n",
       "      <td>4150.0</td>\n",
       "      <td>male</td>\n",
       "      <td>2008</td>\n",
       "    </tr>\n",
       "    <tr>\n",
       "      <th>75</th>\n",
       "      <td>Adelie</td>\n",
       "      <td>Torgersen</td>\n",
       "      <td>42.8</td>\n",
       "      <td>18.5</td>\n",
       "      <td>195.0</td>\n",
       "      <td>4250.0</td>\n",
       "      <td>male</td>\n",
       "      <td>2008</td>\n",
       "    </tr>\n",
       "    <tr>\n",
       "      <th>77</th>\n",
       "      <td>Adelie</td>\n",
       "      <td>Torgersen</td>\n",
       "      <td>37.2</td>\n",
       "      <td>19.4</td>\n",
       "      <td>184.0</td>\n",
       "      <td>3900.0</td>\n",
       "      <td>male</td>\n",
       "      <td>2008</td>\n",
       "    </tr>\n",
       "    <tr>\n",
       "      <th>79</th>\n",
       "      <td>Adelie</td>\n",
       "      <td>Torgersen</td>\n",
       "      <td>42.1</td>\n",
       "      <td>19.1</td>\n",
       "      <td>195.0</td>\n",
       "      <td>4000.0</td>\n",
       "      <td>male</td>\n",
       "      <td>2008</td>\n",
       "    </tr>\n",
       "    <tr>\n",
       "      <th>81</th>\n",
       "      <td>Adelie</td>\n",
       "      <td>Torgersen</td>\n",
       "      <td>42.9</td>\n",
       "      <td>17.6</td>\n",
       "      <td>196.0</td>\n",
       "      <td>4700.0</td>\n",
       "      <td>male</td>\n",
       "      <td>2008</td>\n",
       "    </tr>\n",
       "    <tr>\n",
       "      <th>83</th>\n",
       "      <td>Adelie</td>\n",
       "      <td>Torgersen</td>\n",
       "      <td>35.1</td>\n",
       "      <td>19.4</td>\n",
       "      <td>193.0</td>\n",
       "      <td>4200.0</td>\n",
       "      <td>male</td>\n",
       "      <td>2008</td>\n",
       "    </tr>\n",
       "    <tr>\n",
       "      <th>85</th>\n",
       "      <td>Adelie</td>\n",
       "      <td>Dream</td>\n",
       "      <td>41.3</td>\n",
       "      <td>20.3</td>\n",
       "      <td>194.0</td>\n",
       "      <td>3550.0</td>\n",
       "      <td>male</td>\n",
       "      <td>2008</td>\n",
       "    </tr>\n",
       "    <tr>\n",
       "      <th>86</th>\n",
       "      <td>Adelie</td>\n",
       "      <td>Dream</td>\n",
       "      <td>36.3</td>\n",
       "      <td>19.5</td>\n",
       "      <td>190.0</td>\n",
       "      <td>3800.0</td>\n",
       "      <td>male</td>\n",
       "      <td>2008</td>\n",
       "    </tr>\n",
       "    <tr>\n",
       "      <th>88</th>\n",
       "      <td>Adelie</td>\n",
       "      <td>Dream</td>\n",
       "      <td>38.3</td>\n",
       "      <td>19.2</td>\n",
       "      <td>189.0</td>\n",
       "      <td>3950.0</td>\n",
       "      <td>male</td>\n",
       "      <td>2008</td>\n",
       "    </tr>\n",
       "    <tr>\n",
       "      <th>91</th>\n",
       "      <td>Adelie</td>\n",
       "      <td>Dream</td>\n",
       "      <td>41.1</td>\n",
       "      <td>18.1</td>\n",
       "      <td>205.0</td>\n",
       "      <td>4300.0</td>\n",
       "      <td>male</td>\n",
       "      <td>2008</td>\n",
       "    </tr>\n",
       "    <tr>\n",
       "      <th>93</th>\n",
       "      <td>Adelie</td>\n",
       "      <td>Dream</td>\n",
       "      <td>39.6</td>\n",
       "      <td>18.1</td>\n",
       "      <td>186.0</td>\n",
       "      <td>4450.0</td>\n",
       "      <td>male</td>\n",
       "      <td>2008</td>\n",
       "    </tr>\n",
       "    <tr>\n",
       "      <th>95</th>\n",
       "      <td>Adelie</td>\n",
       "      <td>Dream</td>\n",
       "      <td>40.8</td>\n",
       "      <td>18.9</td>\n",
       "      <td>208.0</td>\n",
       "      <td>4300.0</td>\n",
       "      <td>male</td>\n",
       "      <td>2008</td>\n",
       "    </tr>\n",
       "    <tr>\n",
       "      <th>97</th>\n",
       "      <td>Adelie</td>\n",
       "      <td>Dream</td>\n",
       "      <td>40.3</td>\n",
       "      <td>18.5</td>\n",
       "      <td>196.0</td>\n",
       "      <td>4350.0</td>\n",
       "      <td>male</td>\n",
       "      <td>2008</td>\n",
       "    </tr>\n",
       "    <tr>\n",
       "      <th>99</th>\n",
       "      <td>Adelie</td>\n",
       "      <td>Dream</td>\n",
       "      <td>43.2</td>\n",
       "      <td>18.5</td>\n",
       "      <td>192.0</td>\n",
       "      <td>4100.0</td>\n",
       "      <td>male</td>\n",
       "      <td>2008</td>\n",
       "    </tr>\n",
       "    <tr>\n",
       "      <th>187</th>\n",
       "      <td>Gentoo</td>\n",
       "      <td>Biscoe</td>\n",
       "      <td>48.4</td>\n",
       "      <td>16.3</td>\n",
       "      <td>220.0</td>\n",
       "      <td>5400.0</td>\n",
       "      <td>male</td>\n",
       "      <td>2008</td>\n",
       "    </tr>\n",
       "    <tr>\n",
       "      <th>189</th>\n",
       "      <td>Gentoo</td>\n",
       "      <td>Biscoe</td>\n",
       "      <td>44.4</td>\n",
       "      <td>17.3</td>\n",
       "      <td>219.0</td>\n",
       "      <td>5250.0</td>\n",
       "      <td>male</td>\n",
       "      <td>2008</td>\n",
       "    </tr>\n",
       "    <tr>\n",
       "      <th>191</th>\n",
       "      <td>Gentoo</td>\n",
       "      <td>Biscoe</td>\n",
       "      <td>48.7</td>\n",
       "      <td>15.7</td>\n",
       "      <td>208.0</td>\n",
       "      <td>5350.0</td>\n",
       "      <td>male</td>\n",
       "      <td>2008</td>\n",
       "    </tr>\n",
       "    <tr>\n",
       "      <th>193</th>\n",
       "      <td>Gentoo</td>\n",
       "      <td>Biscoe</td>\n",
       "      <td>49.6</td>\n",
       "      <td>16.0</td>\n",
       "      <td>225.0</td>\n",
       "      <td>5700.0</td>\n",
       "      <td>male</td>\n",
       "      <td>2008</td>\n",
       "    </tr>\n",
       "    <tr>\n",
       "      <th>195</th>\n",
       "      <td>Gentoo</td>\n",
       "      <td>Biscoe</td>\n",
       "      <td>49.6</td>\n",
       "      <td>15.0</td>\n",
       "      <td>216.0</td>\n",
       "      <td>4750.0</td>\n",
       "      <td>male</td>\n",
       "      <td>2008</td>\n",
       "    </tr>\n",
       "    <tr>\n",
       "      <th>196</th>\n",
       "      <td>Gentoo</td>\n",
       "      <td>Biscoe</td>\n",
       "      <td>50.5</td>\n",
       "      <td>15.9</td>\n",
       "      <td>222.0</td>\n",
       "      <td>5550.0</td>\n",
       "      <td>male</td>\n",
       "      <td>2008</td>\n",
       "    </tr>\n",
       "    <tr>\n",
       "      <th>199</th>\n",
       "      <td>Gentoo</td>\n",
       "      <td>Biscoe</td>\n",
       "      <td>50.5</td>\n",
       "      <td>15.9</td>\n",
       "      <td>225.0</td>\n",
       "      <td>5400.0</td>\n",
       "      <td>male</td>\n",
       "      <td>2008</td>\n",
       "    </tr>\n",
       "    <tr>\n",
       "      <th>201</th>\n",
       "      <td>Gentoo</td>\n",
       "      <td>Biscoe</td>\n",
       "      <td>45.2</td>\n",
       "      <td>15.8</td>\n",
       "      <td>215.0</td>\n",
       "      <td>5300.0</td>\n",
       "      <td>male</td>\n",
       "      <td>2008</td>\n",
       "    </tr>\n",
       "    <tr>\n",
       "      <th>203</th>\n",
       "      <td>Gentoo</td>\n",
       "      <td>Biscoe</td>\n",
       "      <td>48.5</td>\n",
       "      <td>14.1</td>\n",
       "      <td>220.0</td>\n",
       "      <td>5300.0</td>\n",
       "      <td>male</td>\n",
       "      <td>2008</td>\n",
       "    </tr>\n",
       "    <tr>\n",
       "      <th>205</th>\n",
       "      <td>Gentoo</td>\n",
       "      <td>Biscoe</td>\n",
       "      <td>50.1</td>\n",
       "      <td>15.0</td>\n",
       "      <td>225.0</td>\n",
       "      <td>5000.0</td>\n",
       "      <td>male</td>\n",
       "      <td>2008</td>\n",
       "    </tr>\n",
       "    <tr>\n",
       "      <th>207</th>\n",
       "      <td>Gentoo</td>\n",
       "      <td>Biscoe</td>\n",
       "      <td>45.0</td>\n",
       "      <td>15.4</td>\n",
       "      <td>220.0</td>\n",
       "      <td>5050.0</td>\n",
       "      <td>male</td>\n",
       "      <td>2008</td>\n",
       "    </tr>\n",
       "    <tr>\n",
       "      <th>209</th>\n",
       "      <td>Gentoo</td>\n",
       "      <td>Biscoe</td>\n",
       "      <td>45.5</td>\n",
       "      <td>15.0</td>\n",
       "      <td>220.0</td>\n",
       "      <td>5000.0</td>\n",
       "      <td>male</td>\n",
       "      <td>2008</td>\n",
       "    </tr>\n",
       "    <tr>\n",
       "      <th>211</th>\n",
       "      <td>Gentoo</td>\n",
       "      <td>Biscoe</td>\n",
       "      <td>50.4</td>\n",
       "      <td>15.3</td>\n",
       "      <td>224.0</td>\n",
       "      <td>5550.0</td>\n",
       "      <td>male</td>\n",
       "      <td>2008</td>\n",
       "    </tr>\n",
       "    <tr>\n",
       "      <th>213</th>\n",
       "      <td>Gentoo</td>\n",
       "      <td>Biscoe</td>\n",
       "      <td>46.2</td>\n",
       "      <td>14.9</td>\n",
       "      <td>221.0</td>\n",
       "      <td>5300.0</td>\n",
       "      <td>male</td>\n",
       "      <td>2008</td>\n",
       "    </tr>\n",
       "    <tr>\n",
       "      <th>215</th>\n",
       "      <td>Gentoo</td>\n",
       "      <td>Biscoe</td>\n",
       "      <td>54.3</td>\n",
       "      <td>15.7</td>\n",
       "      <td>231.0</td>\n",
       "      <td>5650.0</td>\n",
       "      <td>male</td>\n",
       "      <td>2008</td>\n",
       "    </tr>\n",
       "    <tr>\n",
       "      <th>217</th>\n",
       "      <td>Gentoo</td>\n",
       "      <td>Biscoe</td>\n",
       "      <td>49.8</td>\n",
       "      <td>16.8</td>\n",
       "      <td>230.0</td>\n",
       "      <td>5700.0</td>\n",
       "      <td>male</td>\n",
       "      <td>2008</td>\n",
       "    </tr>\n",
       "    <tr>\n",
       "      <th>219</th>\n",
       "      <td>Gentoo</td>\n",
       "      <td>Biscoe</td>\n",
       "      <td>49.5</td>\n",
       "      <td>16.2</td>\n",
       "      <td>229.0</td>\n",
       "      <td>5800.0</td>\n",
       "      <td>male</td>\n",
       "      <td>2008</td>\n",
       "    </tr>\n",
       "    <tr>\n",
       "      <th>221</th>\n",
       "      <td>Gentoo</td>\n",
       "      <td>Biscoe</td>\n",
       "      <td>50.7</td>\n",
       "      <td>15.0</td>\n",
       "      <td>223.0</td>\n",
       "      <td>5550.0</td>\n",
       "      <td>male</td>\n",
       "      <td>2008</td>\n",
       "    </tr>\n",
       "    <tr>\n",
       "      <th>223</th>\n",
       "      <td>Gentoo</td>\n",
       "      <td>Biscoe</td>\n",
       "      <td>46.4</td>\n",
       "      <td>15.6</td>\n",
       "      <td>221.0</td>\n",
       "      <td>5000.0</td>\n",
       "      <td>male</td>\n",
       "      <td>2008</td>\n",
       "    </tr>\n",
       "    <tr>\n",
       "      <th>224</th>\n",
       "      <td>Gentoo</td>\n",
       "      <td>Biscoe</td>\n",
       "      <td>48.2</td>\n",
       "      <td>15.6</td>\n",
       "      <td>221.0</td>\n",
       "      <td>5100.0</td>\n",
       "      <td>male</td>\n",
       "      <td>2008</td>\n",
       "    </tr>\n",
       "    <tr>\n",
       "      <th>227</th>\n",
       "      <td>Gentoo</td>\n",
       "      <td>Biscoe</td>\n",
       "      <td>48.6</td>\n",
       "      <td>16.0</td>\n",
       "      <td>230.0</td>\n",
       "      <td>5800.0</td>\n",
       "      <td>male</td>\n",
       "      <td>2008</td>\n",
       "    </tr>\n",
       "    <tr>\n",
       "      <th>229</th>\n",
       "      <td>Gentoo</td>\n",
       "      <td>Biscoe</td>\n",
       "      <td>51.1</td>\n",
       "      <td>16.3</td>\n",
       "      <td>220.0</td>\n",
       "      <td>6000.0</td>\n",
       "      <td>male</td>\n",
       "      <td>2008</td>\n",
       "    </tr>\n",
       "    <tr>\n",
       "      <th>231</th>\n",
       "      <td>Gentoo</td>\n",
       "      <td>Biscoe</td>\n",
       "      <td>45.2</td>\n",
       "      <td>16.4</td>\n",
       "      <td>223.0</td>\n",
       "      <td>5950.0</td>\n",
       "      <td>male</td>\n",
       "      <td>2008</td>\n",
       "    </tr>\n",
       "    <tr>\n",
       "      <th>303</th>\n",
       "      <td>Chinstrap</td>\n",
       "      <td>Dream</td>\n",
       "      <td>49.5</td>\n",
       "      <td>19.0</td>\n",
       "      <td>200.0</td>\n",
       "      <td>3800.0</td>\n",
       "      <td>male</td>\n",
       "      <td>2008</td>\n",
       "    </tr>\n",
       "    <tr>\n",
       "      <th>305</th>\n",
       "      <td>Chinstrap</td>\n",
       "      <td>Dream</td>\n",
       "      <td>52.8</td>\n",
       "      <td>20.0</td>\n",
       "      <td>205.0</td>\n",
       "      <td>4550.0</td>\n",
       "      <td>male</td>\n",
       "      <td>2008</td>\n",
       "    </tr>\n",
       "    <tr>\n",
       "      <th>307</th>\n",
       "      <td>Chinstrap</td>\n",
       "      <td>Dream</td>\n",
       "      <td>54.2</td>\n",
       "      <td>20.8</td>\n",
       "      <td>201.0</td>\n",
       "      <td>4300.0</td>\n",
       "      <td>male</td>\n",
       "      <td>2008</td>\n",
       "    </tr>\n",
       "    <tr>\n",
       "      <th>309</th>\n",
       "      <td>Chinstrap</td>\n",
       "      <td>Dream</td>\n",
       "      <td>51.0</td>\n",
       "      <td>18.8</td>\n",
       "      <td>203.0</td>\n",
       "      <td>4100.0</td>\n",
       "      <td>male</td>\n",
       "      <td>2008</td>\n",
       "    </tr>\n",
       "    <tr>\n",
       "      <th>310</th>\n",
       "      <td>Chinstrap</td>\n",
       "      <td>Dream</td>\n",
       "      <td>49.7</td>\n",
       "      <td>18.6</td>\n",
       "      <td>195.0</td>\n",
       "      <td>3600.0</td>\n",
       "      <td>male</td>\n",
       "      <td>2008</td>\n",
       "    </tr>\n",
       "    <tr>\n",
       "      <th>313</th>\n",
       "      <td>Chinstrap</td>\n",
       "      <td>Dream</td>\n",
       "      <td>52.0</td>\n",
       "      <td>20.7</td>\n",
       "      <td>210.0</td>\n",
       "      <td>4800.0</td>\n",
       "      <td>male</td>\n",
       "      <td>2008</td>\n",
       "    </tr>\n",
       "    <tr>\n",
       "      <th>315</th>\n",
       "      <td>Chinstrap</td>\n",
       "      <td>Dream</td>\n",
       "      <td>53.5</td>\n",
       "      <td>19.9</td>\n",
       "      <td>205.0</td>\n",
       "      <td>4500.0</td>\n",
       "      <td>male</td>\n",
       "      <td>2008</td>\n",
       "    </tr>\n",
       "    <tr>\n",
       "      <th>316</th>\n",
       "      <td>Chinstrap</td>\n",
       "      <td>Dream</td>\n",
       "      <td>49.0</td>\n",
       "      <td>19.5</td>\n",
       "      <td>210.0</td>\n",
       "      <td>3950.0</td>\n",
       "      <td>male</td>\n",
       "      <td>2008</td>\n",
       "    </tr>\n",
       "    <tr>\n",
       "      <th>318</th>\n",
       "      <td>Chinstrap</td>\n",
       "      <td>Dream</td>\n",
       "      <td>50.9</td>\n",
       "      <td>19.1</td>\n",
       "      <td>196.0</td>\n",
       "      <td>3550.0</td>\n",
       "      <td>male</td>\n",
       "      <td>2008</td>\n",
       "    </tr>\n",
       "  </tbody>\n",
       "</table>\n",
       "</div>"
      ],
      "text/plain": [
       "       species     island  bill_length_mm  bill_depth_mm  flipper_length_mm  \\\n",
       "51      Adelie     Biscoe            40.1           18.9              188.0   \n",
       "53      Adelie     Biscoe            42.0           19.5              200.0   \n",
       "55      Adelie     Biscoe            41.4           18.6              191.0   \n",
       "57      Adelie     Biscoe            40.6           18.8              193.0   \n",
       "59      Adelie     Biscoe            37.6           19.1              194.0   \n",
       "61      Adelie     Biscoe            41.3           21.1              195.0   \n",
       "63      Adelie     Biscoe            41.1           18.2              192.0   \n",
       "65      Adelie     Biscoe            41.6           18.0              192.0   \n",
       "67      Adelie     Biscoe            41.1           19.1              188.0   \n",
       "69      Adelie  Torgersen            41.8           19.4              198.0   \n",
       "71      Adelie  Torgersen            39.7           18.4              190.0   \n",
       "73      Adelie  Torgersen            45.8           18.9              197.0   \n",
       "75      Adelie  Torgersen            42.8           18.5              195.0   \n",
       "77      Adelie  Torgersen            37.2           19.4              184.0   \n",
       "79      Adelie  Torgersen            42.1           19.1              195.0   \n",
       "81      Adelie  Torgersen            42.9           17.6              196.0   \n",
       "83      Adelie  Torgersen            35.1           19.4              193.0   \n",
       "85      Adelie      Dream            41.3           20.3              194.0   \n",
       "86      Adelie      Dream            36.3           19.5              190.0   \n",
       "88      Adelie      Dream            38.3           19.2              189.0   \n",
       "91      Adelie      Dream            41.1           18.1              205.0   \n",
       "93      Adelie      Dream            39.6           18.1              186.0   \n",
       "95      Adelie      Dream            40.8           18.9              208.0   \n",
       "97      Adelie      Dream            40.3           18.5              196.0   \n",
       "99      Adelie      Dream            43.2           18.5              192.0   \n",
       "187     Gentoo     Biscoe            48.4           16.3              220.0   \n",
       "189     Gentoo     Biscoe            44.4           17.3              219.0   \n",
       "191     Gentoo     Biscoe            48.7           15.7              208.0   \n",
       "193     Gentoo     Biscoe            49.6           16.0              225.0   \n",
       "195     Gentoo     Biscoe            49.6           15.0              216.0   \n",
       "196     Gentoo     Biscoe            50.5           15.9              222.0   \n",
       "199     Gentoo     Biscoe            50.5           15.9              225.0   \n",
       "201     Gentoo     Biscoe            45.2           15.8              215.0   \n",
       "203     Gentoo     Biscoe            48.5           14.1              220.0   \n",
       "205     Gentoo     Biscoe            50.1           15.0              225.0   \n",
       "207     Gentoo     Biscoe            45.0           15.4              220.0   \n",
       "209     Gentoo     Biscoe            45.5           15.0              220.0   \n",
       "211     Gentoo     Biscoe            50.4           15.3              224.0   \n",
       "213     Gentoo     Biscoe            46.2           14.9              221.0   \n",
       "215     Gentoo     Biscoe            54.3           15.7              231.0   \n",
       "217     Gentoo     Biscoe            49.8           16.8              230.0   \n",
       "219     Gentoo     Biscoe            49.5           16.2              229.0   \n",
       "221     Gentoo     Biscoe            50.7           15.0              223.0   \n",
       "223     Gentoo     Biscoe            46.4           15.6              221.0   \n",
       "224     Gentoo     Biscoe            48.2           15.6              221.0   \n",
       "227     Gentoo     Biscoe            48.6           16.0              230.0   \n",
       "229     Gentoo     Biscoe            51.1           16.3              220.0   \n",
       "231     Gentoo     Biscoe            45.2           16.4              223.0   \n",
       "303  Chinstrap      Dream            49.5           19.0              200.0   \n",
       "305  Chinstrap      Dream            52.8           20.0              205.0   \n",
       "307  Chinstrap      Dream            54.2           20.8              201.0   \n",
       "309  Chinstrap      Dream            51.0           18.8              203.0   \n",
       "310  Chinstrap      Dream            49.7           18.6              195.0   \n",
       "313  Chinstrap      Dream            52.0           20.7              210.0   \n",
       "315  Chinstrap      Dream            53.5           19.9              205.0   \n",
       "316  Chinstrap      Dream            49.0           19.5              210.0   \n",
       "318  Chinstrap      Dream            50.9           19.1              196.0   \n",
       "\n",
       "     body_mass_g   sex  year  \n",
       "51        4300.0  male  2008  \n",
       "53        4050.0  male  2008  \n",
       "55        3700.0  male  2008  \n",
       "57        3800.0  male  2008  \n",
       "59        3750.0  male  2008  \n",
       "61        4400.0  male  2008  \n",
       "63        4050.0  male  2008  \n",
       "65        3950.0  male  2008  \n",
       "67        4100.0  male  2008  \n",
       "69        4450.0  male  2008  \n",
       "71        3900.0  male  2008  \n",
       "73        4150.0  male  2008  \n",
       "75        4250.0  male  2008  \n",
       "77        3900.0  male  2008  \n",
       "79        4000.0  male  2008  \n",
       "81        4700.0  male  2008  \n",
       "83        4200.0  male  2008  \n",
       "85        3550.0  male  2008  \n",
       "86        3800.0  male  2008  \n",
       "88        3950.0  male  2008  \n",
       "91        4300.0  male  2008  \n",
       "93        4450.0  male  2008  \n",
       "95        4300.0  male  2008  \n",
       "97        4350.0  male  2008  \n",
       "99        4100.0  male  2008  \n",
       "187       5400.0  male  2008  \n",
       "189       5250.0  male  2008  \n",
       "191       5350.0  male  2008  \n",
       "193       5700.0  male  2008  \n",
       "195       4750.0  male  2008  \n",
       "196       5550.0  male  2008  \n",
       "199       5400.0  male  2008  \n",
       "201       5300.0  male  2008  \n",
       "203       5300.0  male  2008  \n",
       "205       5000.0  male  2008  \n",
       "207       5050.0  male  2008  \n",
       "209       5000.0  male  2008  \n",
       "211       5550.0  male  2008  \n",
       "213       5300.0  male  2008  \n",
       "215       5650.0  male  2008  \n",
       "217       5700.0  male  2008  \n",
       "219       5800.0  male  2008  \n",
       "221       5550.0  male  2008  \n",
       "223       5000.0  male  2008  \n",
       "224       5100.0  male  2008  \n",
       "227       5800.0  male  2008  \n",
       "229       6000.0  male  2008  \n",
       "231       5950.0  male  2008  \n",
       "303       3800.0  male  2008  \n",
       "305       4550.0  male  2008  \n",
       "307       4300.0  male  2008  \n",
       "309       4100.0  male  2008  \n",
       "310       3600.0  male  2008  \n",
       "313       4800.0  male  2008  \n",
       "315       4500.0  male  2008  \n",
       "316       3950.0  male  2008  \n",
       "318       3550.0  male  2008  "
      ]
     },
     "execution_count": 7,
     "metadata": {},
     "output_type": "execute_result"
    }
   ],
   "source": [
    "y_2008[y_2008['sex'] == 'male']"
   ]
  },
  {
   "cell_type": "code",
   "execution_count": 8,
   "id": "6c99be4f-c1ea-4189-ab12-30a1f684a72a",
   "metadata": {},
   "outputs": [
    {
     "data": {
      "text/plain": [
       "np.int64(57)"
      ]
     },
     "execution_count": 8,
     "metadata": {},
     "output_type": "execute_result"
    }
   ],
   "source": [
    "y_2008[y_2008['sex'] == 'male'].value_counts().sum()"
   ]
  },
  {
   "cell_type": "markdown",
   "id": "ae9c8a6a-645b-4805-a44a-a4fce29bccab",
   "metadata": {},
   "source": [
    "<h1>INSIGHT</h1>\n",
    "<hr>\n",
    "<h3>The total Male Penguins that been identify in year 2008 is 57. </h3>"
   ]
  },
  {
   "cell_type": "markdown",
   "id": "98b13e21-9f62-4134-8efe-de8e9bda59a6",
   "metadata": {},
   "source": [
    "<hr>"
   ]
  },
  {
   "cell_type": "markdown",
   "id": "49af3dab-2e81-4d03-9a1a-866732078a43",
   "metadata": {},
   "source": [
    "<h1>2. How many Female has Identify in year 2007?</h1>"
   ]
  },
  {
   "cell_type": "code",
   "execution_count": 9,
   "id": "1a9f57e9-9ba9-4c3f-b915-dd0e2e91c7a5",
   "metadata": {},
   "outputs": [],
   "source": [
    "y_2007 = Data[Data['year'] == 2007]"
   ]
  },
  {
   "cell_type": "code",
   "execution_count": 10,
   "id": "9c665c59-0c57-47b1-91ac-3cd65fa9b955",
   "metadata": {},
   "outputs": [
    {
     "data": {
      "text/html": [
       "<div>\n",
       "<style scoped>\n",
       "    .dataframe tbody tr th:only-of-type {\n",
       "        vertical-align: middle;\n",
       "    }\n",
       "\n",
       "    .dataframe tbody tr th {\n",
       "        vertical-align: top;\n",
       "    }\n",
       "\n",
       "    .dataframe thead th {\n",
       "        text-align: right;\n",
       "    }\n",
       "</style>\n",
       "<table border=\"1\" class=\"dataframe\">\n",
       "  <thead>\n",
       "    <tr style=\"text-align: right;\">\n",
       "      <th></th>\n",
       "      <th>species</th>\n",
       "      <th>island</th>\n",
       "      <th>bill_length_mm</th>\n",
       "      <th>bill_depth_mm</th>\n",
       "      <th>flipper_length_mm</th>\n",
       "      <th>body_mass_g</th>\n",
       "      <th>sex</th>\n",
       "      <th>year</th>\n",
       "    </tr>\n",
       "  </thead>\n",
       "  <tbody>\n",
       "    <tr>\n",
       "      <th>1</th>\n",
       "      <td>Adelie</td>\n",
       "      <td>Torgersen</td>\n",
       "      <td>39.5</td>\n",
       "      <td>17.4</td>\n",
       "      <td>186.0</td>\n",
       "      <td>3800.0</td>\n",
       "      <td>female</td>\n",
       "      <td>2007</td>\n",
       "    </tr>\n",
       "    <tr>\n",
       "      <th>2</th>\n",
       "      <td>Adelie</td>\n",
       "      <td>Torgersen</td>\n",
       "      <td>40.3</td>\n",
       "      <td>18.0</td>\n",
       "      <td>195.0</td>\n",
       "      <td>3250.0</td>\n",
       "      <td>female</td>\n",
       "      <td>2007</td>\n",
       "    </tr>\n",
       "    <tr>\n",
       "      <th>4</th>\n",
       "      <td>Adelie</td>\n",
       "      <td>Torgersen</td>\n",
       "      <td>36.7</td>\n",
       "      <td>19.3</td>\n",
       "      <td>193.0</td>\n",
       "      <td>3450.0</td>\n",
       "      <td>female</td>\n",
       "      <td>2007</td>\n",
       "    </tr>\n",
       "    <tr>\n",
       "      <th>6</th>\n",
       "      <td>Adelie</td>\n",
       "      <td>Torgersen</td>\n",
       "      <td>38.9</td>\n",
       "      <td>17.8</td>\n",
       "      <td>181.0</td>\n",
       "      <td>3625.0</td>\n",
       "      <td>female</td>\n",
       "      <td>2007</td>\n",
       "    </tr>\n",
       "    <tr>\n",
       "      <th>12</th>\n",
       "      <td>Adelie</td>\n",
       "      <td>Torgersen</td>\n",
       "      <td>41.1</td>\n",
       "      <td>17.6</td>\n",
       "      <td>182.0</td>\n",
       "      <td>3200.0</td>\n",
       "      <td>female</td>\n",
       "      <td>2007</td>\n",
       "    </tr>\n",
       "    <tr>\n",
       "      <th>15</th>\n",
       "      <td>Adelie</td>\n",
       "      <td>Torgersen</td>\n",
       "      <td>36.6</td>\n",
       "      <td>17.8</td>\n",
       "      <td>185.0</td>\n",
       "      <td>3700.0</td>\n",
       "      <td>female</td>\n",
       "      <td>2007</td>\n",
       "    </tr>\n",
       "    <tr>\n",
       "      <th>16</th>\n",
       "      <td>Adelie</td>\n",
       "      <td>Torgersen</td>\n",
       "      <td>38.7</td>\n",
       "      <td>19.0</td>\n",
       "      <td>195.0</td>\n",
       "      <td>3450.0</td>\n",
       "      <td>female</td>\n",
       "      <td>2007</td>\n",
       "    </tr>\n",
       "    <tr>\n",
       "      <th>18</th>\n",
       "      <td>Adelie</td>\n",
       "      <td>Torgersen</td>\n",
       "      <td>34.4</td>\n",
       "      <td>18.4</td>\n",
       "      <td>184.0</td>\n",
       "      <td>3325.0</td>\n",
       "      <td>female</td>\n",
       "      <td>2007</td>\n",
       "    </tr>\n",
       "    <tr>\n",
       "      <th>20</th>\n",
       "      <td>Adelie</td>\n",
       "      <td>Biscoe</td>\n",
       "      <td>37.8</td>\n",
       "      <td>18.3</td>\n",
       "      <td>174.0</td>\n",
       "      <td>3400.0</td>\n",
       "      <td>female</td>\n",
       "      <td>2007</td>\n",
       "    </tr>\n",
       "    <tr>\n",
       "      <th>22</th>\n",
       "      <td>Adelie</td>\n",
       "      <td>Biscoe</td>\n",
       "      <td>35.9</td>\n",
       "      <td>19.2</td>\n",
       "      <td>189.0</td>\n",
       "      <td>3800.0</td>\n",
       "      <td>female</td>\n",
       "      <td>2007</td>\n",
       "    </tr>\n",
       "    <tr>\n",
       "      <th>25</th>\n",
       "      <td>Adelie</td>\n",
       "      <td>Biscoe</td>\n",
       "      <td>35.3</td>\n",
       "      <td>18.9</td>\n",
       "      <td>187.0</td>\n",
       "      <td>3800.0</td>\n",
       "      <td>female</td>\n",
       "      <td>2007</td>\n",
       "    </tr>\n",
       "    <tr>\n",
       "      <th>27</th>\n",
       "      <td>Adelie</td>\n",
       "      <td>Biscoe</td>\n",
       "      <td>40.5</td>\n",
       "      <td>17.9</td>\n",
       "      <td>187.0</td>\n",
       "      <td>3200.0</td>\n",
       "      <td>female</td>\n",
       "      <td>2007</td>\n",
       "    </tr>\n",
       "    <tr>\n",
       "      <th>28</th>\n",
       "      <td>Adelie</td>\n",
       "      <td>Biscoe</td>\n",
       "      <td>37.9</td>\n",
       "      <td>18.6</td>\n",
       "      <td>172.0</td>\n",
       "      <td>3150.0</td>\n",
       "      <td>female</td>\n",
       "      <td>2007</td>\n",
       "    </tr>\n",
       "    <tr>\n",
       "      <th>30</th>\n",
       "      <td>Adelie</td>\n",
       "      <td>Dream</td>\n",
       "      <td>39.5</td>\n",
       "      <td>16.7</td>\n",
       "      <td>178.0</td>\n",
       "      <td>3250.0</td>\n",
       "      <td>female</td>\n",
       "      <td>2007</td>\n",
       "    </tr>\n",
       "    <tr>\n",
       "      <th>32</th>\n",
       "      <td>Adelie</td>\n",
       "      <td>Dream</td>\n",
       "      <td>39.5</td>\n",
       "      <td>17.8</td>\n",
       "      <td>188.0</td>\n",
       "      <td>3300.0</td>\n",
       "      <td>female</td>\n",
       "      <td>2007</td>\n",
       "    </tr>\n",
       "    <tr>\n",
       "      <th>34</th>\n",
       "      <td>Adelie</td>\n",
       "      <td>Dream</td>\n",
       "      <td>36.4</td>\n",
       "      <td>17.0</td>\n",
       "      <td>195.0</td>\n",
       "      <td>3325.0</td>\n",
       "      <td>female</td>\n",
       "      <td>2007</td>\n",
       "    </tr>\n",
       "    <tr>\n",
       "      <th>37</th>\n",
       "      <td>Adelie</td>\n",
       "      <td>Dream</td>\n",
       "      <td>42.2</td>\n",
       "      <td>18.5</td>\n",
       "      <td>180.0</td>\n",
       "      <td>3550.0</td>\n",
       "      <td>female</td>\n",
       "      <td>2007</td>\n",
       "    </tr>\n",
       "    <tr>\n",
       "      <th>38</th>\n",
       "      <td>Adelie</td>\n",
       "      <td>Dream</td>\n",
       "      <td>37.6</td>\n",
       "      <td>19.3</td>\n",
       "      <td>181.0</td>\n",
       "      <td>3300.0</td>\n",
       "      <td>female</td>\n",
       "      <td>2007</td>\n",
       "    </tr>\n",
       "    <tr>\n",
       "      <th>40</th>\n",
       "      <td>Adelie</td>\n",
       "      <td>Dream</td>\n",
       "      <td>36.5</td>\n",
       "      <td>18.0</td>\n",
       "      <td>182.0</td>\n",
       "      <td>3150.0</td>\n",
       "      <td>female</td>\n",
       "      <td>2007</td>\n",
       "    </tr>\n",
       "    <tr>\n",
       "      <th>42</th>\n",
       "      <td>Adelie</td>\n",
       "      <td>Dream</td>\n",
       "      <td>36.0</td>\n",
       "      <td>18.5</td>\n",
       "      <td>186.0</td>\n",
       "      <td>3100.0</td>\n",
       "      <td>female</td>\n",
       "      <td>2007</td>\n",
       "    </tr>\n",
       "    <tr>\n",
       "      <th>44</th>\n",
       "      <td>Adelie</td>\n",
       "      <td>Dream</td>\n",
       "      <td>37.0</td>\n",
       "      <td>16.9</td>\n",
       "      <td>185.0</td>\n",
       "      <td>3000.0</td>\n",
       "      <td>female</td>\n",
       "      <td>2007</td>\n",
       "    </tr>\n",
       "    <tr>\n",
       "      <th>48</th>\n",
       "      <td>Adelie</td>\n",
       "      <td>Dream</td>\n",
       "      <td>36.0</td>\n",
       "      <td>17.9</td>\n",
       "      <td>190.0</td>\n",
       "      <td>3450.0</td>\n",
       "      <td>female</td>\n",
       "      <td>2007</td>\n",
       "    </tr>\n",
       "    <tr>\n",
       "      <th>152</th>\n",
       "      <td>Gentoo</td>\n",
       "      <td>Biscoe</td>\n",
       "      <td>46.1</td>\n",
       "      <td>13.2</td>\n",
       "      <td>211.0</td>\n",
       "      <td>4500.0</td>\n",
       "      <td>female</td>\n",
       "      <td>2007</td>\n",
       "    </tr>\n",
       "    <tr>\n",
       "      <th>154</th>\n",
       "      <td>Gentoo</td>\n",
       "      <td>Biscoe</td>\n",
       "      <td>48.7</td>\n",
       "      <td>14.1</td>\n",
       "      <td>210.0</td>\n",
       "      <td>4450.0</td>\n",
       "      <td>female</td>\n",
       "      <td>2007</td>\n",
       "    </tr>\n",
       "    <tr>\n",
       "      <th>157</th>\n",
       "      <td>Gentoo</td>\n",
       "      <td>Biscoe</td>\n",
       "      <td>46.5</td>\n",
       "      <td>13.5</td>\n",
       "      <td>210.0</td>\n",
       "      <td>4550.0</td>\n",
       "      <td>female</td>\n",
       "      <td>2007</td>\n",
       "    </tr>\n",
       "    <tr>\n",
       "      <th>158</th>\n",
       "      <td>Gentoo</td>\n",
       "      <td>Biscoe</td>\n",
       "      <td>45.4</td>\n",
       "      <td>14.6</td>\n",
       "      <td>211.0</td>\n",
       "      <td>4800.0</td>\n",
       "      <td>female</td>\n",
       "      <td>2007</td>\n",
       "    </tr>\n",
       "    <tr>\n",
       "      <th>160</th>\n",
       "      <td>Gentoo</td>\n",
       "      <td>Biscoe</td>\n",
       "      <td>43.3</td>\n",
       "      <td>13.4</td>\n",
       "      <td>209.0</td>\n",
       "      <td>4400.0</td>\n",
       "      <td>female</td>\n",
       "      <td>2007</td>\n",
       "    </tr>\n",
       "    <tr>\n",
       "      <th>162</th>\n",
       "      <td>Gentoo</td>\n",
       "      <td>Biscoe</td>\n",
       "      <td>40.9</td>\n",
       "      <td>13.7</td>\n",
       "      <td>214.0</td>\n",
       "      <td>4650.0</td>\n",
       "      <td>female</td>\n",
       "      <td>2007</td>\n",
       "    </tr>\n",
       "    <tr>\n",
       "      <th>164</th>\n",
       "      <td>Gentoo</td>\n",
       "      <td>Biscoe</td>\n",
       "      <td>45.5</td>\n",
       "      <td>13.7</td>\n",
       "      <td>214.0</td>\n",
       "      <td>4650.0</td>\n",
       "      <td>female</td>\n",
       "      <td>2007</td>\n",
       "    </tr>\n",
       "    <tr>\n",
       "      <th>166</th>\n",
       "      <td>Gentoo</td>\n",
       "      <td>Biscoe</td>\n",
       "      <td>45.8</td>\n",
       "      <td>14.6</td>\n",
       "      <td>210.0</td>\n",
       "      <td>4200.0</td>\n",
       "      <td>female</td>\n",
       "      <td>2007</td>\n",
       "    </tr>\n",
       "    <tr>\n",
       "      <th>168</th>\n",
       "      <td>Gentoo</td>\n",
       "      <td>Biscoe</td>\n",
       "      <td>42.0</td>\n",
       "      <td>13.5</td>\n",
       "      <td>210.0</td>\n",
       "      <td>4150.0</td>\n",
       "      <td>female</td>\n",
       "      <td>2007</td>\n",
       "    </tr>\n",
       "    <tr>\n",
       "      <th>170</th>\n",
       "      <td>Gentoo</td>\n",
       "      <td>Biscoe</td>\n",
       "      <td>46.2</td>\n",
       "      <td>14.5</td>\n",
       "      <td>209.0</td>\n",
       "      <td>4800.0</td>\n",
       "      <td>female</td>\n",
       "      <td>2007</td>\n",
       "    </tr>\n",
       "    <tr>\n",
       "      <th>173</th>\n",
       "      <td>Gentoo</td>\n",
       "      <td>Biscoe</td>\n",
       "      <td>45.1</td>\n",
       "      <td>14.5</td>\n",
       "      <td>215.0</td>\n",
       "      <td>5000.0</td>\n",
       "      <td>female</td>\n",
       "      <td>2007</td>\n",
       "    </tr>\n",
       "    <tr>\n",
       "      <th>174</th>\n",
       "      <td>Gentoo</td>\n",
       "      <td>Biscoe</td>\n",
       "      <td>46.5</td>\n",
       "      <td>14.5</td>\n",
       "      <td>213.0</td>\n",
       "      <td>4400.0</td>\n",
       "      <td>female</td>\n",
       "      <td>2007</td>\n",
       "    </tr>\n",
       "    <tr>\n",
       "      <th>176</th>\n",
       "      <td>Gentoo</td>\n",
       "      <td>Biscoe</td>\n",
       "      <td>42.9</td>\n",
       "      <td>13.1</td>\n",
       "      <td>215.0</td>\n",
       "      <td>5000.0</td>\n",
       "      <td>female</td>\n",
       "      <td>2007</td>\n",
       "    </tr>\n",
       "    <tr>\n",
       "      <th>180</th>\n",
       "      <td>Gentoo</td>\n",
       "      <td>Biscoe</td>\n",
       "      <td>48.2</td>\n",
       "      <td>14.3</td>\n",
       "      <td>210.0</td>\n",
       "      <td>4600.0</td>\n",
       "      <td>female</td>\n",
       "      <td>2007</td>\n",
       "    </tr>\n",
       "    <tr>\n",
       "      <th>183</th>\n",
       "      <td>Gentoo</td>\n",
       "      <td>Biscoe</td>\n",
       "      <td>42.8</td>\n",
       "      <td>14.2</td>\n",
       "      <td>209.0</td>\n",
       "      <td>4700.0</td>\n",
       "      <td>female</td>\n",
       "      <td>2007</td>\n",
       "    </tr>\n",
       "    <tr>\n",
       "      <th>184</th>\n",
       "      <td>Gentoo</td>\n",
       "      <td>Biscoe</td>\n",
       "      <td>45.1</td>\n",
       "      <td>14.5</td>\n",
       "      <td>207.0</td>\n",
       "      <td>5050.0</td>\n",
       "      <td>female</td>\n",
       "      <td>2007</td>\n",
       "    </tr>\n",
       "    <tr>\n",
       "      <th>276</th>\n",
       "      <td>Chinstrap</td>\n",
       "      <td>Dream</td>\n",
       "      <td>46.5</td>\n",
       "      <td>17.9</td>\n",
       "      <td>192.0</td>\n",
       "      <td>3500.0</td>\n",
       "      <td>female</td>\n",
       "      <td>2007</td>\n",
       "    </tr>\n",
       "    <tr>\n",
       "      <th>279</th>\n",
       "      <td>Chinstrap</td>\n",
       "      <td>Dream</td>\n",
       "      <td>45.4</td>\n",
       "      <td>18.7</td>\n",
       "      <td>188.0</td>\n",
       "      <td>3525.0</td>\n",
       "      <td>female</td>\n",
       "      <td>2007</td>\n",
       "    </tr>\n",
       "    <tr>\n",
       "      <th>281</th>\n",
       "      <td>Chinstrap</td>\n",
       "      <td>Dream</td>\n",
       "      <td>45.2</td>\n",
       "      <td>17.8</td>\n",
       "      <td>198.0</td>\n",
       "      <td>3950.0</td>\n",
       "      <td>female</td>\n",
       "      <td>2007</td>\n",
       "    </tr>\n",
       "    <tr>\n",
       "      <th>282</th>\n",
       "      <td>Chinstrap</td>\n",
       "      <td>Dream</td>\n",
       "      <td>46.1</td>\n",
       "      <td>18.2</td>\n",
       "      <td>178.0</td>\n",
       "      <td>3250.0</td>\n",
       "      <td>female</td>\n",
       "      <td>2007</td>\n",
       "    </tr>\n",
       "    <tr>\n",
       "      <th>284</th>\n",
       "      <td>Chinstrap</td>\n",
       "      <td>Dream</td>\n",
       "      <td>46.0</td>\n",
       "      <td>18.9</td>\n",
       "      <td>195.0</td>\n",
       "      <td>4150.0</td>\n",
       "      <td>female</td>\n",
       "      <td>2007</td>\n",
       "    </tr>\n",
       "    <tr>\n",
       "      <th>286</th>\n",
       "      <td>Chinstrap</td>\n",
       "      <td>Dream</td>\n",
       "      <td>46.6</td>\n",
       "      <td>17.8</td>\n",
       "      <td>193.0</td>\n",
       "      <td>3800.0</td>\n",
       "      <td>female</td>\n",
       "      <td>2007</td>\n",
       "    </tr>\n",
       "    <tr>\n",
       "      <th>288</th>\n",
       "      <td>Chinstrap</td>\n",
       "      <td>Dream</td>\n",
       "      <td>47.0</td>\n",
       "      <td>17.3</td>\n",
       "      <td>185.0</td>\n",
       "      <td>3700.0</td>\n",
       "      <td>female</td>\n",
       "      <td>2007</td>\n",
       "    </tr>\n",
       "    <tr>\n",
       "      <th>290</th>\n",
       "      <td>Chinstrap</td>\n",
       "      <td>Dream</td>\n",
       "      <td>45.9</td>\n",
       "      <td>17.1</td>\n",
       "      <td>190.0</td>\n",
       "      <td>3575.0</td>\n",
       "      <td>female</td>\n",
       "      <td>2007</td>\n",
       "    </tr>\n",
       "    <tr>\n",
       "      <th>293</th>\n",
       "      <td>Chinstrap</td>\n",
       "      <td>Dream</td>\n",
       "      <td>58.0</td>\n",
       "      <td>17.8</td>\n",
       "      <td>181.0</td>\n",
       "      <td>3700.0</td>\n",
       "      <td>female</td>\n",
       "      <td>2007</td>\n",
       "    </tr>\n",
       "    <tr>\n",
       "      <th>294</th>\n",
       "      <td>Chinstrap</td>\n",
       "      <td>Dream</td>\n",
       "      <td>46.4</td>\n",
       "      <td>18.6</td>\n",
       "      <td>190.0</td>\n",
       "      <td>3450.0</td>\n",
       "      <td>female</td>\n",
       "      <td>2007</td>\n",
       "    </tr>\n",
       "    <tr>\n",
       "      <th>296</th>\n",
       "      <td>Chinstrap</td>\n",
       "      <td>Dream</td>\n",
       "      <td>42.4</td>\n",
       "      <td>17.3</td>\n",
       "      <td>181.0</td>\n",
       "      <td>3600.0</td>\n",
       "      <td>female</td>\n",
       "      <td>2007</td>\n",
       "    </tr>\n",
       "    <tr>\n",
       "      <th>298</th>\n",
       "      <td>Chinstrap</td>\n",
       "      <td>Dream</td>\n",
       "      <td>43.2</td>\n",
       "      <td>16.6</td>\n",
       "      <td>187.0</td>\n",
       "      <td>2900.0</td>\n",
       "      <td>female</td>\n",
       "      <td>2007</td>\n",
       "    </tr>\n",
       "    <tr>\n",
       "      <th>300</th>\n",
       "      <td>Chinstrap</td>\n",
       "      <td>Dream</td>\n",
       "      <td>46.7</td>\n",
       "      <td>17.9</td>\n",
       "      <td>195.0</td>\n",
       "      <td>3300.0</td>\n",
       "      <td>female</td>\n",
       "      <td>2007</td>\n",
       "    </tr>\n",
       "  </tbody>\n",
       "</table>\n",
       "</div>"
      ],
      "text/plain": [
       "       species     island  bill_length_mm  bill_depth_mm  flipper_length_mm  \\\n",
       "1       Adelie  Torgersen            39.5           17.4              186.0   \n",
       "2       Adelie  Torgersen            40.3           18.0              195.0   \n",
       "4       Adelie  Torgersen            36.7           19.3              193.0   \n",
       "6       Adelie  Torgersen            38.9           17.8              181.0   \n",
       "12      Adelie  Torgersen            41.1           17.6              182.0   \n",
       "15      Adelie  Torgersen            36.6           17.8              185.0   \n",
       "16      Adelie  Torgersen            38.7           19.0              195.0   \n",
       "18      Adelie  Torgersen            34.4           18.4              184.0   \n",
       "20      Adelie     Biscoe            37.8           18.3              174.0   \n",
       "22      Adelie     Biscoe            35.9           19.2              189.0   \n",
       "25      Adelie     Biscoe            35.3           18.9              187.0   \n",
       "27      Adelie     Biscoe            40.5           17.9              187.0   \n",
       "28      Adelie     Biscoe            37.9           18.6              172.0   \n",
       "30      Adelie      Dream            39.5           16.7              178.0   \n",
       "32      Adelie      Dream            39.5           17.8              188.0   \n",
       "34      Adelie      Dream            36.4           17.0              195.0   \n",
       "37      Adelie      Dream            42.2           18.5              180.0   \n",
       "38      Adelie      Dream            37.6           19.3              181.0   \n",
       "40      Adelie      Dream            36.5           18.0              182.0   \n",
       "42      Adelie      Dream            36.0           18.5              186.0   \n",
       "44      Adelie      Dream            37.0           16.9              185.0   \n",
       "48      Adelie      Dream            36.0           17.9              190.0   \n",
       "152     Gentoo     Biscoe            46.1           13.2              211.0   \n",
       "154     Gentoo     Biscoe            48.7           14.1              210.0   \n",
       "157     Gentoo     Biscoe            46.5           13.5              210.0   \n",
       "158     Gentoo     Biscoe            45.4           14.6              211.0   \n",
       "160     Gentoo     Biscoe            43.3           13.4              209.0   \n",
       "162     Gentoo     Biscoe            40.9           13.7              214.0   \n",
       "164     Gentoo     Biscoe            45.5           13.7              214.0   \n",
       "166     Gentoo     Biscoe            45.8           14.6              210.0   \n",
       "168     Gentoo     Biscoe            42.0           13.5              210.0   \n",
       "170     Gentoo     Biscoe            46.2           14.5              209.0   \n",
       "173     Gentoo     Biscoe            45.1           14.5              215.0   \n",
       "174     Gentoo     Biscoe            46.5           14.5              213.0   \n",
       "176     Gentoo     Biscoe            42.9           13.1              215.0   \n",
       "180     Gentoo     Biscoe            48.2           14.3              210.0   \n",
       "183     Gentoo     Biscoe            42.8           14.2              209.0   \n",
       "184     Gentoo     Biscoe            45.1           14.5              207.0   \n",
       "276  Chinstrap      Dream            46.5           17.9              192.0   \n",
       "279  Chinstrap      Dream            45.4           18.7              188.0   \n",
       "281  Chinstrap      Dream            45.2           17.8              198.0   \n",
       "282  Chinstrap      Dream            46.1           18.2              178.0   \n",
       "284  Chinstrap      Dream            46.0           18.9              195.0   \n",
       "286  Chinstrap      Dream            46.6           17.8              193.0   \n",
       "288  Chinstrap      Dream            47.0           17.3              185.0   \n",
       "290  Chinstrap      Dream            45.9           17.1              190.0   \n",
       "293  Chinstrap      Dream            58.0           17.8              181.0   \n",
       "294  Chinstrap      Dream            46.4           18.6              190.0   \n",
       "296  Chinstrap      Dream            42.4           17.3              181.0   \n",
       "298  Chinstrap      Dream            43.2           16.6              187.0   \n",
       "300  Chinstrap      Dream            46.7           17.9              195.0   \n",
       "\n",
       "     body_mass_g     sex  year  \n",
       "1         3800.0  female  2007  \n",
       "2         3250.0  female  2007  \n",
       "4         3450.0  female  2007  \n",
       "6         3625.0  female  2007  \n",
       "12        3200.0  female  2007  \n",
       "15        3700.0  female  2007  \n",
       "16        3450.0  female  2007  \n",
       "18        3325.0  female  2007  \n",
       "20        3400.0  female  2007  \n",
       "22        3800.0  female  2007  \n",
       "25        3800.0  female  2007  \n",
       "27        3200.0  female  2007  \n",
       "28        3150.0  female  2007  \n",
       "30        3250.0  female  2007  \n",
       "32        3300.0  female  2007  \n",
       "34        3325.0  female  2007  \n",
       "37        3550.0  female  2007  \n",
       "38        3300.0  female  2007  \n",
       "40        3150.0  female  2007  \n",
       "42        3100.0  female  2007  \n",
       "44        3000.0  female  2007  \n",
       "48        3450.0  female  2007  \n",
       "152       4500.0  female  2007  \n",
       "154       4450.0  female  2007  \n",
       "157       4550.0  female  2007  \n",
       "158       4800.0  female  2007  \n",
       "160       4400.0  female  2007  \n",
       "162       4650.0  female  2007  \n",
       "164       4650.0  female  2007  \n",
       "166       4200.0  female  2007  \n",
       "168       4150.0  female  2007  \n",
       "170       4800.0  female  2007  \n",
       "173       5000.0  female  2007  \n",
       "174       4400.0  female  2007  \n",
       "176       5000.0  female  2007  \n",
       "180       4600.0  female  2007  \n",
       "183       4700.0  female  2007  \n",
       "184       5050.0  female  2007  \n",
       "276       3500.0  female  2007  \n",
       "279       3525.0  female  2007  \n",
       "281       3950.0  female  2007  \n",
       "282       3250.0  female  2007  \n",
       "284       4150.0  female  2007  \n",
       "286       3800.0  female  2007  \n",
       "288       3700.0  female  2007  \n",
       "290       3575.0  female  2007  \n",
       "293       3700.0  female  2007  \n",
       "294       3450.0  female  2007  \n",
       "296       3600.0  female  2007  \n",
       "298       2900.0  female  2007  \n",
       "300       3300.0  female  2007  "
      ]
     },
     "execution_count": 10,
     "metadata": {},
     "output_type": "execute_result"
    }
   ],
   "source": [
    "y_2007[y_2007['sex'] == 'female']"
   ]
  },
  {
   "cell_type": "code",
   "execution_count": 11,
   "id": "fd69e138-776a-40d6-b0a5-a5d086ef99cf",
   "metadata": {},
   "outputs": [
    {
     "data": {
      "text/plain": [
       "np.int64(51)"
      ]
     },
     "execution_count": 11,
     "metadata": {},
     "output_type": "execute_result"
    }
   ],
   "source": [
    "y_2007[y_2007['sex'] == 'female'].value_counts().sum()"
   ]
  },
  {
   "cell_type": "markdown",
   "id": "2889be7f-d8ba-4046-b384-7db04e75b058",
   "metadata": {},
   "source": [
    "<h1>INSIGHT</h1>\n",
    "<hr>\n",
    "<h3>The total Female Penguins in year 2007 is 51 Penguins.</h3>"
   ]
  },
  {
   "cell_type": "markdown",
   "id": "a51a30e4-8791-4377-aacb-7dd995447b78",
   "metadata": {},
   "source": [
    "<hr>"
   ]
  },
  {
   "cell_type": "markdown",
   "id": "b0856359-53eb-46e0-96b7-7f3bcea3ede0",
   "metadata": {},
   "source": [
    "<h1>3. Which island is has a more Penguins?</h1>"
   ]
  },
  {
   "cell_type": "code",
   "execution_count": 12,
   "id": "60b8b494-a44a-4f2f-a7fb-1c5b78827810",
   "metadata": {},
   "outputs": [
    {
     "data": {
      "text/plain": [
       "array(['Torgersen', 'Biscoe', 'Dream'], dtype=object)"
      ]
     },
     "execution_count": 12,
     "metadata": {},
     "output_type": "execute_result"
    }
   ],
   "source": [
    "Data['island'].unique()"
   ]
  },
  {
   "cell_type": "code",
   "execution_count": 13,
   "id": "e4f5df95-bcf4-466d-b038-1f205e635492",
   "metadata": {},
   "outputs": [
    {
     "data": {
      "text/plain": [
       "np.int64(47)"
      ]
     },
     "execution_count": 13,
     "metadata": {},
     "output_type": "execute_result"
    }
   ],
   "source": [
    "Data[Data['island'] == 'Torgersen'].value_counts().sum()"
   ]
  },
  {
   "cell_type": "code",
   "execution_count": 14,
   "id": "613b2763-113d-442a-9b12-36ba1d2241b5",
   "metadata": {},
   "outputs": [
    {
     "data": {
      "text/plain": [
       "np.int64(163)"
      ]
     },
     "execution_count": 14,
     "metadata": {},
     "output_type": "execute_result"
    }
   ],
   "source": [
    "Data[Data['island'] == 'Biscoe'].value_counts().sum()"
   ]
  },
  {
   "cell_type": "code",
   "execution_count": 15,
   "id": "ce2cd06f-04e0-402d-8179-ec1158534d62",
   "metadata": {},
   "outputs": [
    {
     "data": {
      "text/plain": [
       "np.int64(123)"
      ]
     },
     "execution_count": 15,
     "metadata": {},
     "output_type": "execute_result"
    }
   ],
   "source": [
    "Data[Data['island'] == 'Dream'].value_counts().sum()"
   ]
  },
  {
   "cell_type": "markdown",
   "id": "ae32472b-1529-4445-b1b5-e8cd30071995",
   "metadata": {},
   "source": [
    "<h1>INSGHT</h1>\n",
    "<hr>\n",
    "<h3>Here's the summation is each type of island. the highest Population of Penguins is the island of 'Bescoe' total of  163 Penguins. </h3>"
   ]
  },
  {
   "cell_type": "markdown",
   "id": "7d752206-dcd7-4644-b3dc-6918d6b511d9",
   "metadata": {},
   "source": [
    "<hr>"
   ]
  },
  {
   "cell_type": "markdown",
   "id": "91af7538-5620-44e0-abc0-6fb8f7826ba7",
   "metadata": {},
   "source": [
    "<h1>4. Which Species has the lowest body_mass_g?</h1>"
   ]
  },
  {
   "cell_type": "code",
   "execution_count": 16,
   "id": "8fa94bf1-b825-429f-a617-b3e6c93d1fdc",
   "metadata": {},
   "outputs": [
    {
     "data": {
      "text/plain": [
       "array(['Adelie', 'Gentoo', 'Chinstrap'], dtype=object)"
      ]
     },
     "execution_count": 16,
     "metadata": {},
     "output_type": "execute_result"
    }
   ],
   "source": [
    "Data['species'].unique()"
   ]
  },
  {
   "cell_type": "code",
   "execution_count": 17,
   "id": "95c4ca42-1bca-4253-9d67-2f085d487b41",
   "metadata": {},
   "outputs": [],
   "source": [
    "adelie_df = Data[Data['species'] == 'Adelie']"
   ]
  },
  {
   "cell_type": "code",
   "execution_count": 18,
   "id": "ed2c9059-fb28-4b12-abe1-0a04d3744f94",
   "metadata": {},
   "outputs": [
    {
     "data": {
      "text/plain": [
       "np.float64(3700.662251655629)"
      ]
     },
     "execution_count": 18,
     "metadata": {},
     "output_type": "execute_result"
    }
   ],
   "source": [
    "adelie_df['body_mass_g'].mean()"
   ]
  },
  {
   "cell_type": "code",
   "execution_count": 19,
   "id": "7f716cba-7086-4fc5-836d-aa7eb7deca70",
   "metadata": {},
   "outputs": [],
   "source": [
    "gentoo_df = Data[Data['species'] == 'Gentoo']"
   ]
  },
  {
   "cell_type": "code",
   "execution_count": 20,
   "id": "d5b41325-f4eb-4752-a9b0-e4aa67869f39",
   "metadata": {},
   "outputs": [
    {
     "data": {
      "text/plain": [
       "np.float64(5076.016260162602)"
      ]
     },
     "execution_count": 20,
     "metadata": {},
     "output_type": "execute_result"
    }
   ],
   "source": [
    "gentoo_df['body_mass_g'].mean()"
   ]
  },
  {
   "cell_type": "code",
   "execution_count": 21,
   "id": "9cf53d1c-8589-4895-bfc1-6909d8f89820",
   "metadata": {},
   "outputs": [],
   "source": [
    "chinstrap_df = Data[Data['species'] == 'Chinstrap']"
   ]
  },
  {
   "cell_type": "code",
   "execution_count": 22,
   "id": "44e5b792-9ba4-4e80-befb-1d5042be8acb",
   "metadata": {},
   "outputs": [
    {
     "data": {
      "text/plain": [
       "np.float64(3733.0882352941176)"
      ]
     },
     "execution_count": 22,
     "metadata": {},
     "output_type": "execute_result"
    }
   ],
   "source": [
    "chinstrap_df['body_mass_g'].mean()"
   ]
  },
  {
   "cell_type": "markdown",
   "id": "d7dd3509-bcbf-44e2-ae25-4a2e61450faf",
   "metadata": {},
   "source": [
    "<h1>INSIGHT</h1>\n",
    "<hr>\n",
    "<h3>Base on the computation Adelie species has the lowest body_mass_g in all species, The body_mass_g is '3700.66... grams'. </h3>"
   ]
  },
  {
   "cell_type": "markdown",
   "id": "c0e63eac-2bf8-421b-ba96-54a3d2ee8039",
   "metadata": {},
   "source": [
    "<hr>"
   ]
  },
  {
   "cell_type": "markdown",
   "id": "5644e17f-2dc0-46e8-b185-753dea4c9aa7",
   "metadata": {},
   "source": [
    "<h1>5. How much is the longest bill_length_mm in the three types penguins species?</h1>"
   ]
  },
  {
   "cell_type": "code",
   "execution_count": 23,
   "id": "0d81995e-4c0f-4330-b572-e0d289373552",
   "metadata": {},
   "outputs": [
    {
     "data": {
      "text/plain": [
       "array(['Adelie', 'Gentoo', 'Chinstrap'], dtype=object)"
      ]
     },
     "execution_count": 23,
     "metadata": {},
     "output_type": "execute_result"
    }
   ],
   "source": [
    "Data['species'].unique()"
   ]
  },
  {
   "cell_type": "markdown",
   "id": "e2fa54f5-7721-4f59-a33e-da73c41edf9e",
   "metadata": {},
   "source": [
    "<h4>(for this question i will use the same DataFrame on question no.4)</h4>"
   ]
  },
  {
   "cell_type": "code",
   "execution_count": 24,
   "id": "66e74042-a14a-4292-a242-dc14378060b3",
   "metadata": {},
   "outputs": [
    {
     "data": {
      "text/plain": [
       "np.float64(38.79139072847682)"
      ]
     },
     "execution_count": 24,
     "metadata": {},
     "output_type": "execute_result"
    }
   ],
   "source": [
    "adelie_df['bill_length_mm'].mean()"
   ]
  },
  {
   "cell_type": "code",
   "execution_count": 25,
   "id": "57d575eb-2569-4c95-8401-d94868794935",
   "metadata": {},
   "outputs": [
    {
     "data": {
      "text/plain": [
       "np.float64(47.50487804878048)"
      ]
     },
     "execution_count": 25,
     "metadata": {},
     "output_type": "execute_result"
    }
   ],
   "source": [
    "gentoo_df['bill_length_mm'].mean()"
   ]
  },
  {
   "cell_type": "code",
   "execution_count": 26,
   "id": "662de173-ce59-438c-9087-e05fc0a8422e",
   "metadata": {},
   "outputs": [
    {
     "data": {
      "text/plain": [
       "np.float64(48.83382352941177)"
      ]
     },
     "execution_count": 26,
     "metadata": {},
     "output_type": "execute_result"
    }
   ],
   "source": [
    "chinstrap_df['bill_length_mm'].mean()"
   ]
  },
  {
   "cell_type": "markdown",
   "id": "dfb7d995-42e5-45fb-8ade-ca82292fa038",
   "metadata": {},
   "source": [
    "<h1>INSIGHT</h1>\n",
    "<hr>\n",
    "<h3>In the three species Chinstrap Penguins has the longest bill_leng_mm Average, in total of '48.83...mm length'.</h3>"
   ]
  },
  {
   "cell_type": "markdown",
   "id": "d4d5fcae-987e-4ad4-b655-8ab8674f75ad",
   "metadata": {},
   "source": [
    "<hr>"
   ]
  },
  {
   "cell_type": "markdown",
   "id": "be0d8a8b-b3ab-4894-be04-f63b11555f9e",
   "metadata": {},
   "source": [
    "<h1>6. Which Year has the Highest Counts of Penguins?</h1>"
   ]
  },
  {
   "cell_type": "code",
   "execution_count": 27,
   "id": "af8e8e62-b2cc-44d6-b0d6-7dbcec78f2dd",
   "metadata": {},
   "outputs": [
    {
     "data": {
      "text/plain": [
       "array([2007, 2008, 2009])"
      ]
     },
     "execution_count": 27,
     "metadata": {},
     "output_type": "execute_result"
    }
   ],
   "source": [
    "Data['year'].unique()"
   ]
  },
  {
   "cell_type": "markdown",
   "id": "9a7955c7-56c3-4340-82dc-bceb463b4032",
   "metadata": {},
   "source": [
    "<h4>(for this question i've done to make the year Dataframe above, so i will make one more df in year 2009)</h4>"
   ]
  },
  {
   "cell_type": "code",
   "execution_count": 28,
   "id": "56a44b8c-a3bc-444b-aa41-77c3696481ed",
   "metadata": {},
   "outputs": [
    {
     "data": {
      "text/plain": [
       "np.int64(103)"
      ]
     },
     "execution_count": 28,
     "metadata": {},
     "output_type": "execute_result"
    }
   ],
   "source": [
    "y_2007.value_counts().sum()"
   ]
  },
  {
   "cell_type": "code",
   "execution_count": 29,
   "id": "077e56c8-17c0-4848-813b-82952dbb0fac",
   "metadata": {},
   "outputs": [
    {
     "data": {
      "text/plain": [
       "np.int64(113)"
      ]
     },
     "execution_count": 29,
     "metadata": {},
     "output_type": "execute_result"
    }
   ],
   "source": [
    "y_2008.value_counts().sum()"
   ]
  },
  {
   "cell_type": "code",
   "execution_count": 30,
   "id": "24a2f668-db3b-44b9-bc2a-8aaca3c797ea",
   "metadata": {},
   "outputs": [],
   "source": [
    "y_2009 = Data[Data['year'] == 2009]"
   ]
  },
  {
   "cell_type": "code",
   "execution_count": 31,
   "id": "ce2c812d-a80c-439d-9602-dfc2204f32e8",
   "metadata": {},
   "outputs": [
    {
     "data": {
      "text/plain": [
       "np.int64(117)"
      ]
     },
     "execution_count": 31,
     "metadata": {},
     "output_type": "execute_result"
    }
   ],
   "source": [
    "y_2009.value_counts().sum()"
   ]
  },
  {
   "cell_type": "markdown",
   "id": "d10da0ef-1781-425d-be53-a853f6b8cce3",
   "metadata": {},
   "source": [
    "<h1>INSIGHT</h1>\n",
    "<hr>\n",
    "<h3>The year has been have a highest counts of penguins is Year 2009, total of 117 Penguins.</h3>"
   ]
  },
  {
   "cell_type": "markdown",
   "id": "e5167efc-4547-4553-8b44-4c98ca9d5269",
   "metadata": {},
   "source": [
    "<hr>"
   ]
  },
  {
   "cell_type": "markdown",
   "id": "c35ba0f1-1d78-4bf7-bd1e-4f1123ca7c89",
   "metadata": {},
   "source": [
    "<h1>7. In Year 2007 to 2009, How many Male penguins that Adelie species got?</h1>"
   ]
  },
  {
   "cell_type": "markdown",
   "id": "15a312e4-37d8-4cec-b397-28ff50975754",
   "metadata": {},
   "source": [
    "<h4>(for this question i will use the all DataFrame i created.)</h4>"
   ]
  },
  {
   "cell_type": "code",
   "execution_count": 32,
   "id": "bd8ace70-661f-4d61-b1e1-c8f13f4a0913",
   "metadata": {},
   "outputs": [],
   "source": [
    "year_2007 = adelie_df[adelie_df['year'] == 2007]"
   ]
  },
  {
   "cell_type": "code",
   "execution_count": 33,
   "id": "2e6cc54e-a196-4d3b-95e0-c351f0e634fc",
   "metadata": {},
   "outputs": [
    {
     "data": {
      "text/plain": [
       "np.int64(22)"
      ]
     },
     "execution_count": 33,
     "metadata": {},
     "output_type": "execute_result"
    }
   ],
   "source": [
    "year_2007[year_2007['sex'] == 'male'].value_counts().sum()"
   ]
  },
  {
   "cell_type": "code",
   "execution_count": 34,
   "id": "53e80c8c-3f53-415d-a4de-6a9dedc9dd1a",
   "metadata": {},
   "outputs": [],
   "source": [
    "year_2008 = adelie_df[adelie_df['year'] == 2008]"
   ]
  },
  {
   "cell_type": "code",
   "execution_count": 35,
   "id": "ac1a529e-bde4-431d-9825-b985a5c03aad",
   "metadata": {},
   "outputs": [
    {
     "data": {
      "text/plain": [
       "np.int64(25)"
      ]
     },
     "execution_count": 35,
     "metadata": {},
     "output_type": "execute_result"
    }
   ],
   "source": [
    "year_2008[year_2008['sex'] == 'male'].value_counts().sum()"
   ]
  },
  {
   "cell_type": "code",
   "execution_count": 36,
   "id": "e81f6786-eea7-43eb-a4f3-1fd705f2b68c",
   "metadata": {},
   "outputs": [],
   "source": [
    "year_2009 = adelie_df[adelie_df['year'] == 2009]"
   ]
  },
  {
   "cell_type": "code",
   "execution_count": 37,
   "id": "41087d16-317a-4c1f-b6cf-18eced6abc2b",
   "metadata": {},
   "outputs": [
    {
     "data": {
      "text/plain": [
       "np.int64(26)"
      ]
     },
     "execution_count": 37,
     "metadata": {},
     "output_type": "execute_result"
    }
   ],
   "source": [
    "year_2009[year_2009['sex'] == 'male'].value_counts().sum()"
   ]
  },
  {
   "cell_type": "code",
   "execution_count": 38,
   "id": "fe550597-b1bc-40ee-adf9-21e4530ee924",
   "metadata": {},
   "outputs": [
    {
     "data": {
      "text/plain": [
       "np.int64(73)"
      ]
     },
     "execution_count": 38,
     "metadata": {},
     "output_type": "execute_result"
    }
   ],
   "source": [
    "adelie_df[adelie_df['sex'] == 'male'].value_counts().sum()"
   ]
  },
  {
   "cell_type": "markdown",
   "id": "f0ce80dc-e053-4c12-9171-8265cace5966",
   "metadata": {},
   "source": [
    "<h1>INSIGHT</h1>\n",
    "<hr>\n",
    "<h3>Here's the summation of each year that has a Adelie Male Penguins,</h3>\n",
    "<h3>In Year 2007 the total of Adelie Male Penguins is 22,</h3>\n",
    "<h3>In Year 2008 the total of Adelie Male Penguins is 25,</h3>\n",
    "<h3>Lastly Year 2009 total a Adelie Male Peneguins is 26.</h3>\n",
    "<h3>The total of Adelie Male Penguins is 73.</h3>"
   ]
  },
  {
   "cell_type": "markdown",
   "id": "dbfd5a99-291a-4073-ac23-203691027b4e",
   "metadata": {},
   "source": [
    "<hr>"
   ]
  },
  {
   "cell_type": "markdown",
   "id": "e3eddaba-0b3a-4909-87bf-74a45aeb18e0",
   "metadata": {},
   "source": [
    "<h1>DATA AGGREGATION</h1>\n",
    "<hr>"
   ]
  },
  {
   "cell_type": "markdown",
   "id": "73b1fb6c-2a0c-4bd0-9ad5-3a14de6e593d",
   "metadata": {},
   "source": [
    "<h1>8. Which Species that have a Highest Penguins in each Island?</h1>"
   ]
  },
  {
   "cell_type": "code",
   "execution_count": 39,
   "id": "4e09aaef-0364-4df6-b717-3fa07c825d88",
   "metadata": {},
   "outputs": [],
   "source": [
    "highest_peng = Data.groupby(['species', 'island']).size()"
   ]
  },
  {
   "cell_type": "code",
   "execution_count": 40,
   "id": "b98cba29-8081-41a9-bc32-f09895d7a607",
   "metadata": {},
   "outputs": [
    {
     "data": {
      "text/plain": [
       "species    island   \n",
       "Adelie     Biscoe        44\n",
       "           Dream         56\n",
       "           Torgersen     52\n",
       "Chinstrap  Dream         68\n",
       "Gentoo     Biscoe       124\n",
       "dtype: int64"
      ]
     },
     "execution_count": 40,
     "metadata": {},
     "output_type": "execute_result"
    }
   ],
   "source": [
    "highest_peng"
   ]
  },
  {
   "cell_type": "markdown",
   "id": "522863b8-7efa-45c6-ad84-018334106101",
   "metadata": {},
   "source": [
    "<h1>INSIGHT</h1>\n",
    "<hr>\n",
    "<h3>We can see above which Species has a more penguins in some island, Gento in Biscoe island have the big count of penguins.</h3>"
   ]
  },
  {
   "cell_type": "markdown",
   "id": "411e3af3-f71b-4e1f-a1dc-f9ce5960492d",
   "metadata": {},
   "source": [
    "<hr>"
   ]
  },
  {
   "cell_type": "markdown",
   "id": "1de30a75-30ba-4563-be7e-3ff518276119",
   "metadata": {},
   "source": [
    "<h1>9. In what Year had a more penguins in each Species and which Species has a more male & female?</h1>"
   ]
  },
  {
   "cell_type": "code",
   "execution_count": 41,
   "id": "9c4b6a8a-c682-4668-802d-bdbbbf4ce2ce",
   "metadata": {},
   "outputs": [],
   "source": [
    "penguins_species = Data.groupby(['year','species', 'sex']).size()"
   ]
  },
  {
   "cell_type": "code",
   "execution_count": 42,
   "id": "ee128fd9-4bca-4645-9c40-3a529d61ab48",
   "metadata": {},
   "outputs": [
    {
     "data": {
      "text/plain": [
       "year  species    sex   \n",
       "2007  Adelie     female    22\n",
       "                 male      22\n",
       "      Chinstrap  female    13\n",
       "                 male      13\n",
       "      Gentoo     female    16\n",
       "                 male      17\n",
       "2008  Adelie     female    25\n",
       "                 male      25\n",
       "      Chinstrap  female     9\n",
       "                 male       9\n",
       "      Gentoo     female    22\n",
       "                 male      23\n",
       "2009  Adelie     female    26\n",
       "                 male      26\n",
       "      Chinstrap  female    12\n",
       "                 male      12\n",
       "      Gentoo     female    20\n",
       "                 male      21\n",
       "dtype: int64"
      ]
     },
     "execution_count": 42,
     "metadata": {},
     "output_type": "execute_result"
    }
   ],
   "source": [
    "penguins_species"
   ]
  },
  {
   "cell_type": "markdown",
   "id": "b10257e7-2129-4350-b240-d362ca74c304",
   "metadata": {},
   "source": [
    "<h1>INSIGHT</h1>\n",
    "<hr>\n",
    "<h3>We can see which year and species has a big count of male and female penguins.</h3>"
   ]
  },
  {
   "cell_type": "markdown",
   "id": "d6182350-292c-4d4c-ba26-fa114ef1a3a4",
   "metadata": {},
   "source": [
    "<h1>10. Which Species has the longest Average flipper length and what year and where island that identify?</h1>"
   ]
  },
  {
   "cell_type": "code",
   "execution_count": 43,
   "id": "9e6227eb-6a89-49cd-b626-15b3f1e2f072",
   "metadata": {},
   "outputs": [],
   "source": [
    "avg_flipper_length = Data.groupby(['species', 'year', 'island'])['flipper_length_mm'].mean()"
   ]
  },
  {
   "cell_type": "code",
   "execution_count": 44,
   "id": "f716101a-d32a-4ac5-a91d-9ccab94d116f",
   "metadata": {},
   "outputs": [
    {
     "data": {
      "text/plain": [
       "species    year  island   \n",
       "Adelie     2007  Biscoe       181.700000\n",
       "                 Dream        186.500000\n",
       "                 Torgersen    189.263158\n",
       "           2008  Biscoe       189.555556\n",
       "                 Dream        192.000000\n",
       "                 Torgersen    191.750000\n",
       "           2009  Biscoe       192.375000\n",
       "                 Dream        191.150000\n",
       "                 Torgersen    192.937500\n",
       "Chinstrap  2007  Dream        192.423077\n",
       "           2008  Dream        197.722222\n",
       "           2009  Dream        198.083333\n",
       "Gentoo     2007  Biscoe       215.117647\n",
       "           2008  Biscoe       217.565217\n",
       "           2009  Biscoe       218.418605\n",
       "Name: flipper_length_mm, dtype: float64"
      ]
     },
     "execution_count": 44,
     "metadata": {},
     "output_type": "execute_result"
    }
   ],
   "source": [
    "avg_flipper_length"
   ]
  },
  {
   "cell_type": "markdown",
   "id": "563c4b48-f00a-4252-bd10-0fbb141f7fb2",
   "metadata": {},
   "source": [
    "<h1>INSIGHT</h1>\n",
    "<hr>\n",
    "<h3>As we see which species has the longest average of flipper length, the answer was Gento year 2009 in Biscoe island. </h3>"
   ]
  },
  {
   "cell_type": "markdown",
   "id": "43265201-b85d-45d7-9f83-a252ffeeab91",
   "metadata": {},
   "source": [
    "<h1>TESTING CORRELATION</h1>\n",
    "<hr>\n",
    "<h2>Pearson R Correlation</h2>\n",
    "<p>Used for testing correlation between two <strong>NUMERICAL VALUES</strong> </p>"
   ]
  },
  {
   "cell_type": "markdown",
   "id": "797d95a8-343b-4a1b-93f8-8ef0c55eebc9",
   "metadata": {},
   "source": [
    "<p> >= 0.5 Correlation</p>\n",
    "<p> < 0.4 no Correlation </p>"
   ]
  },
  {
   "cell_type": "code",
   "execution_count": 45,
   "id": "19f5c99f-22ce-40ed-a8d2-11ac26dc0676",
   "metadata": {},
   "outputs": [
    {
     "name": "stdout",
     "output_type": "stream",
     "text": [
      "<class 'pandas.core.frame.DataFrame'>\n",
      "RangeIndex: 344 entries, 0 to 343\n",
      "Data columns (total 8 columns):\n",
      " #   Column             Non-Null Count  Dtype  \n",
      "---  ------             --------------  -----  \n",
      " 0   species            344 non-null    object \n",
      " 1   island             344 non-null    object \n",
      " 2   bill_length_mm     342 non-null    float64\n",
      " 3   bill_depth_mm      342 non-null    float64\n",
      " 4   flipper_length_mm  342 non-null    float64\n",
      " 5   body_mass_g        342 non-null    float64\n",
      " 6   sex                333 non-null    object \n",
      " 7   year               344 non-null    int64  \n",
      "dtypes: float64(4), int64(1), object(3)\n",
      "memory usage: 21.6+ KB\n"
     ]
    }
   ],
   "source": [
    "Data.info()"
   ]
  },
  {
   "cell_type": "markdown",
   "id": "ba0a2f8e-b053-4831-a490-076d470a09d6",
   "metadata": {},
   "source": [
    "<h1>11. The body mass was correlation with flipper length?</h1>"
   ]
  },
  {
   "cell_type": "code",
   "execution_count": 46,
   "id": "6d05799f-38ea-46ea-9f25-1c7247e91b68",
   "metadata": {},
   "outputs": [],
   "source": [
    "weight_flipper_corr = Data['body_mass_g'].corr(Data['flipper_length_mm'])"
   ]
  },
  {
   "cell_type": "code",
   "execution_count": 47,
   "id": "da846d24-0af2-4fec-a4ee-004e52b27c81",
   "metadata": {},
   "outputs": [
    {
     "data": {
      "text/plain": [
       "np.float64(0.8712017673060113)"
      ]
     },
     "execution_count": 47,
     "metadata": {},
     "output_type": "execute_result"
    }
   ],
   "source": [
    "weight_flipper_corr"
   ]
  },
  {
   "cell_type": "markdown",
   "id": "89a36dea-a9f2-47f5-a41c-a0244d755d19",
   "metadata": {},
   "source": [
    "<h1>INSIGHT</h1>\n",
    "<hr>\n",
    "<h3>Correlation of body mass and flipper length is 0.87, the answer was they had Correlation. </h3>"
   ]
  },
  {
   "cell_type": "markdown",
   "id": "25501562-f82c-4231-9616-f5f5fb01cc60",
   "metadata": {},
   "source": [
    "<h1>12. If the bill length is correlation of flipper length?</h1>"
   ]
  },
  {
   "cell_type": "code",
   "execution_count": 48,
   "id": "135f98c2-03e3-4465-ba92-8ca58ca3883e",
   "metadata": {},
   "outputs": [],
   "source": [
    "bill_flipper_cor = Data['bill_length_mm'].corr(Data['flipper_length_mm'])"
   ]
  },
  {
   "cell_type": "code",
   "execution_count": 49,
   "id": "a0a2a72b-6b90-4c6a-a12d-ea17ab65d421",
   "metadata": {},
   "outputs": [
    {
     "data": {
      "text/plain": [
       "np.float64(0.6561813407464278)"
      ]
     },
     "execution_count": 49,
     "metadata": {},
     "output_type": "execute_result"
    }
   ],
   "source": [
    "bill_flipper_cor"
   ]
  },
  {
   "cell_type": "markdown",
   "id": "fb39fbc8-1d84-4029-afd0-f2dce5bf40b2",
   "metadata": {},
   "source": [
    "<h1>INSIGHT</h1>\n",
    "<hr>\n",
    "<h3>Bill lenght and Flipper length has a Correlation with each other.</h3>"
   ]
  }
 ],
 "metadata": {
  "kernelspec": {
   "display_name": "Python 3 (ipykernel)",
   "language": "python",
   "name": "python3"
  },
  "language_info": {
   "codemirror_mode": {
    "name": "ipython",
    "version": 3
   },
   "file_extension": ".py",
   "mimetype": "text/x-python",
   "name": "python",
   "nbconvert_exporter": "python",
   "pygments_lexer": "ipython3",
   "version": "3.12.4"
  }
 },
 "nbformat": 4,
 "nbformat_minor": 5
}
