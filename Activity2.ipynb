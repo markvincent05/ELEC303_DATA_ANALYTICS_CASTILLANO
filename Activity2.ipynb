{
 "cells": [
  {
   "cell_type": "code",
   "execution_count": 1,
   "id": "be94bf37-7ffe-42be-8461-e2298e2c9f88",
   "metadata": {},
   "outputs": [],
   "source": [
    "import numpy as np\n",
    "import pandas as pd"
   ]
  },
  {
   "cell_type": "code",
   "execution_count": 2,
   "id": "ae3901ba-9a7a-49f4-ab3c-67a2cafd923a",
   "metadata": {},
   "outputs": [],
   "source": [
    "Data = pd.read_csv('Datasets(1)\\\\uk_road_accident.csv')"
   ]
  },
  {
   "cell_type": "code",
   "execution_count": 3,
   "id": "6d48c3f2-8f7f-43c9-9e81-e206a211d114",
   "metadata": {},
   "outputs": [],
   "source": [
    "import warnings\n",
    "warnings.filterwarnings('ignore')"
   ]
  },
  {
   "cell_type": "code",
   "execution_count": 4,
   "id": "5a07806c-d3aa-4e24-a210-9e66a42ed04c",
   "metadata": {},
   "outputs": [
    {
     "data": {
      "text/html": [
       "<div>\n",
       "<style scoped>\n",
       "    .dataframe tbody tr th:only-of-type {\n",
       "        vertical-align: middle;\n",
       "    }\n",
       "\n",
       "    .dataframe tbody tr th {\n",
       "        vertical-align: top;\n",
       "    }\n",
       "\n",
       "    .dataframe thead th {\n",
       "        text-align: right;\n",
       "    }\n",
       "</style>\n",
       "<table border=\"1\" class=\"dataframe\">\n",
       "  <thead>\n",
       "    <tr style=\"text-align: right;\">\n",
       "      <th></th>\n",
       "      <th>Index</th>\n",
       "      <th>Accident_Severity</th>\n",
       "      <th>Accident Date</th>\n",
       "      <th>Latitude</th>\n",
       "      <th>Light_Conditions</th>\n",
       "      <th>District Area</th>\n",
       "      <th>Longitude</th>\n",
       "      <th>Number_of_Casualties</th>\n",
       "      <th>Number_of_Vehicles</th>\n",
       "      <th>Road_Surface_Conditions</th>\n",
       "      <th>Road_Type</th>\n",
       "      <th>Urban_or_Rural_Area</th>\n",
       "      <th>Weather_Conditions</th>\n",
       "      <th>Vehicle_Type</th>\n",
       "    </tr>\n",
       "  </thead>\n",
       "  <tbody>\n",
       "    <tr>\n",
       "      <th>0</th>\n",
       "      <td>200701BS64157</td>\n",
       "      <td>Serious</td>\n",
       "      <td>5/6/2019</td>\n",
       "      <td>51.506187</td>\n",
       "      <td>Darkness - lights lit</td>\n",
       "      <td>Kensington and Chelsea</td>\n",
       "      <td>-0.209082</td>\n",
       "      <td>1</td>\n",
       "      <td>2</td>\n",
       "      <td>Dry</td>\n",
       "      <td>Single carriageway</td>\n",
       "      <td>Urban</td>\n",
       "      <td>Fine no high winds</td>\n",
       "      <td>Car</td>\n",
       "    </tr>\n",
       "    <tr>\n",
       "      <th>1</th>\n",
       "      <td>200701BS65737</td>\n",
       "      <td>Serious</td>\n",
       "      <td>2/7/2019</td>\n",
       "      <td>51.495029</td>\n",
       "      <td>Daylight</td>\n",
       "      <td>Kensington and Chelsea</td>\n",
       "      <td>-0.173647</td>\n",
       "      <td>1</td>\n",
       "      <td>2</td>\n",
       "      <td>Wet or damp</td>\n",
       "      <td>Single carriageway</td>\n",
       "      <td>Urban</td>\n",
       "      <td>Raining no high winds</td>\n",
       "      <td>Car</td>\n",
       "    </tr>\n",
       "    <tr>\n",
       "      <th>2</th>\n",
       "      <td>200701BS66127</td>\n",
       "      <td>Serious</td>\n",
       "      <td>26-08-2019</td>\n",
       "      <td>51.517715</td>\n",
       "      <td>Darkness - lighting unknown</td>\n",
       "      <td>Kensington and Chelsea</td>\n",
       "      <td>-0.210215</td>\n",
       "      <td>1</td>\n",
       "      <td>3</td>\n",
       "      <td>Dry</td>\n",
       "      <td>NaN</td>\n",
       "      <td>Urban</td>\n",
       "      <td>NaN</td>\n",
       "      <td>Taxi/Private hire car</td>\n",
       "    </tr>\n",
       "    <tr>\n",
       "      <th>3</th>\n",
       "      <td>200701BS66128</td>\n",
       "      <td>Serious</td>\n",
       "      <td>16-08-2019</td>\n",
       "      <td>51.495478</td>\n",
       "      <td>Daylight</td>\n",
       "      <td>Kensington and Chelsea</td>\n",
       "      <td>-0.202731</td>\n",
       "      <td>1</td>\n",
       "      <td>4</td>\n",
       "      <td>Dry</td>\n",
       "      <td>Single carriageway</td>\n",
       "      <td>Urban</td>\n",
       "      <td>Fine no high winds</td>\n",
       "      <td>Bus or coach (17 or more pass seats)</td>\n",
       "    </tr>\n",
       "    <tr>\n",
       "      <th>4</th>\n",
       "      <td>200701BS66837</td>\n",
       "      <td>Slight</td>\n",
       "      <td>3/9/2019</td>\n",
       "      <td>51.488576</td>\n",
       "      <td>Darkness - lights lit</td>\n",
       "      <td>Kensington and Chelsea</td>\n",
       "      <td>-0.192487</td>\n",
       "      <td>1</td>\n",
       "      <td>2</td>\n",
       "      <td>Dry</td>\n",
       "      <td>NaN</td>\n",
       "      <td>Urban</td>\n",
       "      <td>NaN</td>\n",
       "      <td>Other vehicle</td>\n",
       "    </tr>\n",
       "    <tr>\n",
       "      <th>...</th>\n",
       "      <td>...</td>\n",
       "      <td>...</td>\n",
       "      <td>...</td>\n",
       "      <td>...</td>\n",
       "      <td>...</td>\n",
       "      <td>...</td>\n",
       "      <td>...</td>\n",
       "      <td>...</td>\n",
       "      <td>...</td>\n",
       "      <td>...</td>\n",
       "      <td>...</td>\n",
       "      <td>...</td>\n",
       "      <td>...</td>\n",
       "      <td>...</td>\n",
       "    </tr>\n",
       "    <tr>\n",
       "      <th>660674</th>\n",
       "      <td>201091NM01760</td>\n",
       "      <td>Slight</td>\n",
       "      <td>18-02-2022</td>\n",
       "      <td>57.374005</td>\n",
       "      <td>Daylight</td>\n",
       "      <td>Highland</td>\n",
       "      <td>-3.467828</td>\n",
       "      <td>2</td>\n",
       "      <td>1</td>\n",
       "      <td>Dry</td>\n",
       "      <td>Single carriageway</td>\n",
       "      <td>Rural</td>\n",
       "      <td>Fine no high winds</td>\n",
       "      <td>Car</td>\n",
       "    </tr>\n",
       "    <tr>\n",
       "      <th>660675</th>\n",
       "      <td>201091NM01881</td>\n",
       "      <td>Slight</td>\n",
       "      <td>21-02-2022</td>\n",
       "      <td>57.232273</td>\n",
       "      <td>Darkness - no lighting</td>\n",
       "      <td>Highland</td>\n",
       "      <td>-3.809281</td>\n",
       "      <td>1</td>\n",
       "      <td>1</td>\n",
       "      <td>Frost or ice</td>\n",
       "      <td>Single carriageway</td>\n",
       "      <td>Rural</td>\n",
       "      <td>Fine no high winds</td>\n",
       "      <td>Car</td>\n",
       "    </tr>\n",
       "    <tr>\n",
       "      <th>660676</th>\n",
       "      <td>201091NM01935</td>\n",
       "      <td>Slight</td>\n",
       "      <td>23-02-2022</td>\n",
       "      <td>57.585044</td>\n",
       "      <td>Daylight</td>\n",
       "      <td>Highland</td>\n",
       "      <td>-3.862727</td>\n",
       "      <td>1</td>\n",
       "      <td>3</td>\n",
       "      <td>Frost or ice</td>\n",
       "      <td>Single carriageway</td>\n",
       "      <td>Rural</td>\n",
       "      <td>Fine no high winds</td>\n",
       "      <td>Car</td>\n",
       "    </tr>\n",
       "    <tr>\n",
       "      <th>660677</th>\n",
       "      <td>201091NM01964</td>\n",
       "      <td>Serious</td>\n",
       "      <td>23-02-2022</td>\n",
       "      <td>57.214898</td>\n",
       "      <td>Darkness - no lighting</td>\n",
       "      <td>Highland</td>\n",
       "      <td>-3.823997</td>\n",
       "      <td>1</td>\n",
       "      <td>2</td>\n",
       "      <td>Wet or damp</td>\n",
       "      <td>Single carriageway</td>\n",
       "      <td>Rural</td>\n",
       "      <td>Fine no high winds</td>\n",
       "      <td>Motorcycle over 500cc</td>\n",
       "    </tr>\n",
       "    <tr>\n",
       "      <th>660678</th>\n",
       "      <td>201091NM02142</td>\n",
       "      <td>Serious</td>\n",
       "      <td>28-02-2022</td>\n",
       "      <td>57.575210</td>\n",
       "      <td>Daylight</td>\n",
       "      <td>Highland</td>\n",
       "      <td>-3.895673</td>\n",
       "      <td>1</td>\n",
       "      <td>1</td>\n",
       "      <td>Wet or damp</td>\n",
       "      <td>Dual carriageway</td>\n",
       "      <td>Rural</td>\n",
       "      <td>Snowing no high winds</td>\n",
       "      <td>Car</td>\n",
       "    </tr>\n",
       "  </tbody>\n",
       "</table>\n",
       "<p>660679 rows × 14 columns</p>\n",
       "</div>"
      ],
      "text/plain": [
       "                Index Accident_Severity Accident Date   Latitude  \\\n",
       "0       200701BS64157           Serious      5/6/2019  51.506187   \n",
       "1       200701BS65737           Serious      2/7/2019  51.495029   \n",
       "2       200701BS66127           Serious    26-08-2019  51.517715   \n",
       "3       200701BS66128           Serious    16-08-2019  51.495478   \n",
       "4       200701BS66837            Slight      3/9/2019  51.488576   \n",
       "...               ...               ...           ...        ...   \n",
       "660674  201091NM01760            Slight    18-02-2022  57.374005   \n",
       "660675  201091NM01881            Slight    21-02-2022  57.232273   \n",
       "660676  201091NM01935            Slight    23-02-2022  57.585044   \n",
       "660677  201091NM01964           Serious    23-02-2022  57.214898   \n",
       "660678  201091NM02142           Serious    28-02-2022  57.575210   \n",
       "\n",
       "                   Light_Conditions           District Area  Longitude  \\\n",
       "0             Darkness - lights lit  Kensington and Chelsea  -0.209082   \n",
       "1                          Daylight  Kensington and Chelsea  -0.173647   \n",
       "2       Darkness - lighting unknown  Kensington and Chelsea  -0.210215   \n",
       "3                          Daylight  Kensington and Chelsea  -0.202731   \n",
       "4             Darkness - lights lit  Kensington and Chelsea  -0.192487   \n",
       "...                             ...                     ...        ...   \n",
       "660674                     Daylight                Highland  -3.467828   \n",
       "660675       Darkness - no lighting                Highland  -3.809281   \n",
       "660676                     Daylight                Highland  -3.862727   \n",
       "660677       Darkness - no lighting                Highland  -3.823997   \n",
       "660678                     Daylight                Highland  -3.895673   \n",
       "\n",
       "        Number_of_Casualties  Number_of_Vehicles Road_Surface_Conditions  \\\n",
       "0                          1                   2                     Dry   \n",
       "1                          1                   2             Wet or damp   \n",
       "2                          1                   3                     Dry   \n",
       "3                          1                   4                     Dry   \n",
       "4                          1                   2                     Dry   \n",
       "...                      ...                 ...                     ...   \n",
       "660674                     2                   1                     Dry   \n",
       "660675                     1                   1            Frost or ice   \n",
       "660676                     1                   3            Frost or ice   \n",
       "660677                     1                   2             Wet or damp   \n",
       "660678                     1                   1             Wet or damp   \n",
       "\n",
       "                 Road_Type Urban_or_Rural_Area     Weather_Conditions  \\\n",
       "0       Single carriageway               Urban     Fine no high winds   \n",
       "1       Single carriageway               Urban  Raining no high winds   \n",
       "2                      NaN               Urban                    NaN   \n",
       "3       Single carriageway               Urban     Fine no high winds   \n",
       "4                      NaN               Urban                    NaN   \n",
       "...                    ...                 ...                    ...   \n",
       "660674  Single carriageway               Rural     Fine no high winds   \n",
       "660675  Single carriageway               Rural     Fine no high winds   \n",
       "660676  Single carriageway               Rural     Fine no high winds   \n",
       "660677  Single carriageway               Rural     Fine no high winds   \n",
       "660678    Dual carriageway               Rural  Snowing no high winds   \n",
       "\n",
       "                                Vehicle_Type  \n",
       "0                                        Car  \n",
       "1                                        Car  \n",
       "2                      Taxi/Private hire car  \n",
       "3       Bus or coach (17 or more pass seats)  \n",
       "4                              Other vehicle  \n",
       "...                                      ...  \n",
       "660674                                   Car  \n",
       "660675                                   Car  \n",
       "660676                                   Car  \n",
       "660677                 Motorcycle over 500cc  \n",
       "660678                                   Car  \n",
       "\n",
       "[660679 rows x 14 columns]"
      ]
     },
     "execution_count": 4,
     "metadata": {},
     "output_type": "execute_result"
    }
   ],
   "source": [
    "Data"
   ]
  },
  {
   "cell_type": "code",
   "execution_count": 5,
   "id": "19aed060-f183-4add-9892-24e44d60034c",
   "metadata": {},
   "outputs": [
    {
     "data": {
      "text/html": [
       "<div>\n",
       "<style scoped>\n",
       "    .dataframe tbody tr th:only-of-type {\n",
       "        vertical-align: middle;\n",
       "    }\n",
       "\n",
       "    .dataframe tbody tr th {\n",
       "        vertical-align: top;\n",
       "    }\n",
       "\n",
       "    .dataframe thead th {\n",
       "        text-align: right;\n",
       "    }\n",
       "</style>\n",
       "<table border=\"1\" class=\"dataframe\">\n",
       "  <thead>\n",
       "    <tr style=\"text-align: right;\">\n",
       "      <th></th>\n",
       "      <th>Latitude</th>\n",
       "      <th>Longitude</th>\n",
       "      <th>Number_of_Casualties</th>\n",
       "      <th>Number_of_Vehicles</th>\n",
       "    </tr>\n",
       "  </thead>\n",
       "  <tbody>\n",
       "    <tr>\n",
       "      <th>count</th>\n",
       "      <td>660654.000000</td>\n",
       "      <td>660653.000000</td>\n",
       "      <td>660679.000000</td>\n",
       "      <td>660679.000000</td>\n",
       "    </tr>\n",
       "    <tr>\n",
       "      <th>mean</th>\n",
       "      <td>52.553866</td>\n",
       "      <td>-1.431210</td>\n",
       "      <td>1.357040</td>\n",
       "      <td>1.831255</td>\n",
       "    </tr>\n",
       "    <tr>\n",
       "      <th>std</th>\n",
       "      <td>1.406922</td>\n",
       "      <td>1.383330</td>\n",
       "      <td>0.824847</td>\n",
       "      <td>0.715269</td>\n",
       "    </tr>\n",
       "    <tr>\n",
       "      <th>min</th>\n",
       "      <td>49.914430</td>\n",
       "      <td>-7.516225</td>\n",
       "      <td>1.000000</td>\n",
       "      <td>1.000000</td>\n",
       "    </tr>\n",
       "    <tr>\n",
       "      <th>25%</th>\n",
       "      <td>51.490690</td>\n",
       "      <td>-2.332291</td>\n",
       "      <td>1.000000</td>\n",
       "      <td>1.000000</td>\n",
       "    </tr>\n",
       "    <tr>\n",
       "      <th>50%</th>\n",
       "      <td>52.315641</td>\n",
       "      <td>-1.411667</td>\n",
       "      <td>1.000000</td>\n",
       "      <td>2.000000</td>\n",
       "    </tr>\n",
       "    <tr>\n",
       "      <th>75%</th>\n",
       "      <td>53.453452</td>\n",
       "      <td>-0.232869</td>\n",
       "      <td>1.000000</td>\n",
       "      <td>2.000000</td>\n",
       "    </tr>\n",
       "    <tr>\n",
       "      <th>max</th>\n",
       "      <td>60.757544</td>\n",
       "      <td>1.762010</td>\n",
       "      <td>68.000000</td>\n",
       "      <td>32.000000</td>\n",
       "    </tr>\n",
       "  </tbody>\n",
       "</table>\n",
       "</div>"
      ],
      "text/plain": [
       "            Latitude      Longitude  Number_of_Casualties  Number_of_Vehicles\n",
       "count  660654.000000  660653.000000         660679.000000       660679.000000\n",
       "mean       52.553866      -1.431210              1.357040            1.831255\n",
       "std         1.406922       1.383330              0.824847            0.715269\n",
       "min        49.914430      -7.516225              1.000000            1.000000\n",
       "25%        51.490690      -2.332291              1.000000            1.000000\n",
       "50%        52.315641      -1.411667              1.000000            2.000000\n",
       "75%        53.453452      -0.232869              1.000000            2.000000\n",
       "max        60.757544       1.762010             68.000000           32.000000"
      ]
     },
     "execution_count": 5,
     "metadata": {},
     "output_type": "execute_result"
    }
   ],
   "source": [
    "Data.describe()"
   ]
  },
  {
   "cell_type": "markdown",
   "id": "d97d60fe-c6b7-4acd-bd68-d74c03e39c2c",
   "metadata": {},
   "source": [
    "<h1>Changing Data types</h1>\n",
    "<hr>\n"
   ]
  },
  {
   "cell_type": "code",
   "execution_count": 6,
   "id": "47c9d035-5f7a-497d-802e-3fa218e32ae7",
   "metadata": {},
   "outputs": [
    {
     "name": "stdout",
     "output_type": "stream",
     "text": [
      "<class 'pandas.core.frame.DataFrame'>\n",
      "RangeIndex: 660679 entries, 0 to 660678\n",
      "Data columns (total 14 columns):\n",
      " #   Column                   Non-Null Count   Dtype  \n",
      "---  ------                   --------------   -----  \n",
      " 0   Index                    660679 non-null  object \n",
      " 1   Accident_Severity        660679 non-null  object \n",
      " 2   Accident Date            660679 non-null  object \n",
      " 3   Latitude                 660654 non-null  float64\n",
      " 4   Light_Conditions         660679 non-null  object \n",
      " 5   District Area            660679 non-null  object \n",
      " 6   Longitude                660653 non-null  float64\n",
      " 7   Number_of_Casualties     660679 non-null  int64  \n",
      " 8   Number_of_Vehicles       660679 non-null  int64  \n",
      " 9   Road_Surface_Conditions  659953 non-null  object \n",
      " 10  Road_Type                656159 non-null  object \n",
      " 11  Urban_or_Rural_Area      660664 non-null  object \n",
      " 12  Weather_Conditions       646551 non-null  object \n",
      " 13  Vehicle_Type             660679 non-null  object \n",
      "dtypes: float64(2), int64(2), object(10)\n",
      "memory usage: 70.6+ MB\n"
     ]
    }
   ],
   "source": [
    "Data.info()"
   ]
  },
  {
   "cell_type": "code",
   "execution_count": 7,
   "id": "84453cfc-4874-46ec-93d0-07b8f77d50a6",
   "metadata": {},
   "outputs": [],
   "source": [
    "Data[\"Index\"] = Data[\"Index\"].astype(\"category\")\n",
    "Data[\"Accident_Severity\"] = Data[\"Accident_Severity\"].astype(\"category\")\n",
    "Data[\"Accident Date\"] = Data[\"Accident Date\"].astype(\"category\")\n",
    "Data[\"Light_Conditions\"] = Data[\"Light_Conditions\"].astype(\"category\")\n",
    "Data[\"District Area\"] = Data[\"District Area\"].astype(\"category\")\n",
    "Data[\"Road_Surface_Conditions\"] = Data[\"Road_Surface_Conditions\"].astype(\"category\")\n",
    "Data[\"Road_Type\"] = Data[\"Road_Type\"].astype(\"category\")\n",
    "Data[\"Urban_or_Rural_Area\"] = Data[\"Urban_or_Rural_Area\"].astype(\"category\")\n",
    "Data[\"Weather_Conditions\"] = Data[\"Weather_Conditions\"].astype(\"category\")\n",
    "Data[\"Vehicle_Type\"] = Data[\"Vehicle_Type\"].astype(\"category\")"
   ]
  },
  {
   "cell_type": "code",
   "execution_count": 8,
   "id": "af35137a-88d8-4d56-953d-0a90555c8e98",
   "metadata": {},
   "outputs": [
    {
     "name": "stdout",
     "output_type": "stream",
     "text": [
      "<class 'pandas.core.frame.DataFrame'>\n",
      "RangeIndex: 660679 entries, 0 to 660678\n",
      "Data columns (total 14 columns):\n",
      " #   Column                   Non-Null Count   Dtype   \n",
      "---  ------                   --------------   -----   \n",
      " 0   Index                    660679 non-null  category\n",
      " 1   Accident_Severity        660679 non-null  category\n",
      " 2   Accident Date            660679 non-null  category\n",
      " 3   Latitude                 660654 non-null  float64 \n",
      " 4   Light_Conditions         660679 non-null  category\n",
      " 5   District Area            660679 non-null  category\n",
      " 6   Longitude                660653 non-null  float64 \n",
      " 7   Number_of_Casualties     660679 non-null  int64   \n",
      " 8   Number_of_Vehicles       660679 non-null  int64   \n",
      " 9   Road_Surface_Conditions  659953 non-null  category\n",
      " 10  Road_Type                656159 non-null  category\n",
      " 11  Urban_or_Rural_Area      660664 non-null  category\n",
      " 12  Weather_Conditions       646551 non-null  category\n",
      " 13  Vehicle_Type             660679 non-null  category\n",
      "dtypes: category(10), float64(2), int64(2)\n",
      "memory usage: 49.0 MB\n"
     ]
    }
   ],
   "source": [
    "Data.info()"
   ]
  },
  {
   "cell_type": "markdown",
   "id": "d89b235d-fcc8-42c0-a3f2-89272c60403a",
   "metadata": {},
   "source": [
    "<h1>Filling in the Null Value</h1>\n",
    "<hr>"
   ]
  },
  {
   "cell_type": "code",
   "execution_count": 9,
   "id": "8b85cf9e-6cb6-4bc6-a586-5448c003afbf",
   "metadata": {},
   "outputs": [
    {
     "data": {
      "text/plain": [
       "Index                          0\n",
       "Accident_Severity              0\n",
       "Accident Date                  0\n",
       "Latitude                      25\n",
       "Light_Conditions               0\n",
       "District Area                  0\n",
       "Longitude                     26\n",
       "Number_of_Casualties           0\n",
       "Number_of_Vehicles             0\n",
       "Road_Surface_Conditions      726\n",
       "Road_Type                   4520\n",
       "Urban_or_Rural_Area           15\n",
       "Weather_Conditions         14128\n",
       "Vehicle_Type                   0\n",
       "dtype: int64"
      ]
     },
     "execution_count": 9,
     "metadata": {},
     "output_type": "execute_result"
    }
   ],
   "source": [
    "Data.isnull().sum()"
   ]
  },
  {
   "cell_type": "code",
   "execution_count": 10,
   "id": "fb888312-9d46-4a4c-8c99-77e02c3a2b47",
   "metadata": {},
   "outputs": [],
   "source": [
    "Data['Latitude'] = Data['Latitude'].fillna(Data['Latitude'].mean())\n",
    "Data['Longitude'] = Data['Longitude'].fillna(Data['Longitude'].mean())\n",
    "Data['Road_Surface_Conditions'] = Data['Road_Surface_Conditions'].fillna(Data['Road_Surface_Conditions'].mode()[0]) \n",
    "Data['Road_Type'] = Data['Road_Type'].fillna(Data['Road_Type'].mode()[0]) \n",
    "Data['Urban_or_Rural_Area'] = Data['Urban_or_Rural_Area'].fillna(Data['Urban_or_Rural_Area'].mode()[0]) \n",
    "Data['Weather_Conditions'] = Data['Weather_Conditions'].fillna(Data['Weather_Conditions'].mode()[0]) "
   ]
  },
  {
   "cell_type": "code",
   "execution_count": 11,
   "id": "8387db60-f91e-4392-942b-4f932110b3fe",
   "metadata": {},
   "outputs": [
    {
     "data": {
      "text/plain": [
       "Index                      0\n",
       "Accident_Severity          0\n",
       "Accident Date              0\n",
       "Latitude                   0\n",
       "Light_Conditions           0\n",
       "District Area              0\n",
       "Longitude                  0\n",
       "Number_of_Casualties       0\n",
       "Number_of_Vehicles         0\n",
       "Road_Surface_Conditions    0\n",
       "Road_Type                  0\n",
       "Urban_or_Rural_Area        0\n",
       "Weather_Conditions         0\n",
       "Vehicle_Type               0\n",
       "dtype: int64"
      ]
     },
     "execution_count": 11,
     "metadata": {},
     "output_type": "execute_result"
    }
   ],
   "source": [
    "Data.isnull().sum()"
   ]
  },
  {
   "cell_type": "code",
   "execution_count": 12,
   "id": "f3c55463-b9d3-483f-bcd8-73627df1b5d1",
   "metadata": {},
   "outputs": [
    {
     "data": {
      "text/html": [
       "<div>\n",
       "<style scoped>\n",
       "    .dataframe tbody tr th:only-of-type {\n",
       "        vertical-align: middle;\n",
       "    }\n",
       "\n",
       "    .dataframe tbody tr th {\n",
       "        vertical-align: top;\n",
       "    }\n",
       "\n",
       "    .dataframe thead th {\n",
       "        text-align: right;\n",
       "    }\n",
       "</style>\n",
       "<table border=\"1\" class=\"dataframe\">\n",
       "  <thead>\n",
       "    <tr style=\"text-align: right;\">\n",
       "      <th></th>\n",
       "      <th>Index</th>\n",
       "      <th>Accident_Severity</th>\n",
       "      <th>Accident Date</th>\n",
       "      <th>Latitude</th>\n",
       "      <th>Light_Conditions</th>\n",
       "      <th>District Area</th>\n",
       "      <th>Longitude</th>\n",
       "      <th>Number_of_Casualties</th>\n",
       "      <th>Number_of_Vehicles</th>\n",
       "      <th>Road_Surface_Conditions</th>\n",
       "      <th>Road_Type</th>\n",
       "      <th>Urban_or_Rural_Area</th>\n",
       "      <th>Weather_Conditions</th>\n",
       "      <th>Vehicle_Type</th>\n",
       "    </tr>\n",
       "  </thead>\n",
       "  <tbody>\n",
       "    <tr>\n",
       "      <th>0</th>\n",
       "      <td>200701BS64157</td>\n",
       "      <td>Serious</td>\n",
       "      <td>5/6/2019</td>\n",
       "      <td>51.506187</td>\n",
       "      <td>Darkness - lights lit</td>\n",
       "      <td>Kensington and Chelsea</td>\n",
       "      <td>-0.209082</td>\n",
       "      <td>1</td>\n",
       "      <td>2</td>\n",
       "      <td>Dry</td>\n",
       "      <td>Single carriageway</td>\n",
       "      <td>Urban</td>\n",
       "      <td>Fine no high winds</td>\n",
       "      <td>Car</td>\n",
       "    </tr>\n",
       "    <tr>\n",
       "      <th>1</th>\n",
       "      <td>200701BS65737</td>\n",
       "      <td>Serious</td>\n",
       "      <td>2/7/2019</td>\n",
       "      <td>51.495029</td>\n",
       "      <td>Daylight</td>\n",
       "      <td>Kensington and Chelsea</td>\n",
       "      <td>-0.173647</td>\n",
       "      <td>1</td>\n",
       "      <td>2</td>\n",
       "      <td>Wet or damp</td>\n",
       "      <td>Single carriageway</td>\n",
       "      <td>Urban</td>\n",
       "      <td>Raining no high winds</td>\n",
       "      <td>Car</td>\n",
       "    </tr>\n",
       "    <tr>\n",
       "      <th>2</th>\n",
       "      <td>200701BS66127</td>\n",
       "      <td>Serious</td>\n",
       "      <td>26-08-2019</td>\n",
       "      <td>51.517715</td>\n",
       "      <td>Darkness - lighting unknown</td>\n",
       "      <td>Kensington and Chelsea</td>\n",
       "      <td>-0.210215</td>\n",
       "      <td>1</td>\n",
       "      <td>3</td>\n",
       "      <td>Dry</td>\n",
       "      <td>Single carriageway</td>\n",
       "      <td>Urban</td>\n",
       "      <td>Fine no high winds</td>\n",
       "      <td>Taxi/Private hire car</td>\n",
       "    </tr>\n",
       "    <tr>\n",
       "      <th>3</th>\n",
       "      <td>200701BS66128</td>\n",
       "      <td>Serious</td>\n",
       "      <td>16-08-2019</td>\n",
       "      <td>51.495478</td>\n",
       "      <td>Daylight</td>\n",
       "      <td>Kensington and Chelsea</td>\n",
       "      <td>-0.202731</td>\n",
       "      <td>1</td>\n",
       "      <td>4</td>\n",
       "      <td>Dry</td>\n",
       "      <td>Single carriageway</td>\n",
       "      <td>Urban</td>\n",
       "      <td>Fine no high winds</td>\n",
       "      <td>Bus or coach (17 or more pass seats)</td>\n",
       "    </tr>\n",
       "    <tr>\n",
       "      <th>4</th>\n",
       "      <td>200701BS66837</td>\n",
       "      <td>Slight</td>\n",
       "      <td>3/9/2019</td>\n",
       "      <td>51.488576</td>\n",
       "      <td>Darkness - lights lit</td>\n",
       "      <td>Kensington and Chelsea</td>\n",
       "      <td>-0.192487</td>\n",
       "      <td>1</td>\n",
       "      <td>2</td>\n",
       "      <td>Dry</td>\n",
       "      <td>Single carriageway</td>\n",
       "      <td>Urban</td>\n",
       "      <td>Fine no high winds</td>\n",
       "      <td>Other vehicle</td>\n",
       "    </tr>\n",
       "    <tr>\n",
       "      <th>...</th>\n",
       "      <td>...</td>\n",
       "      <td>...</td>\n",
       "      <td>...</td>\n",
       "      <td>...</td>\n",
       "      <td>...</td>\n",
       "      <td>...</td>\n",
       "      <td>...</td>\n",
       "      <td>...</td>\n",
       "      <td>...</td>\n",
       "      <td>...</td>\n",
       "      <td>...</td>\n",
       "      <td>...</td>\n",
       "      <td>...</td>\n",
       "      <td>...</td>\n",
       "    </tr>\n",
       "    <tr>\n",
       "      <th>660674</th>\n",
       "      <td>201091NM01760</td>\n",
       "      <td>Slight</td>\n",
       "      <td>18-02-2022</td>\n",
       "      <td>57.374005</td>\n",
       "      <td>Daylight</td>\n",
       "      <td>Highland</td>\n",
       "      <td>-3.467828</td>\n",
       "      <td>2</td>\n",
       "      <td>1</td>\n",
       "      <td>Dry</td>\n",
       "      <td>Single carriageway</td>\n",
       "      <td>Rural</td>\n",
       "      <td>Fine no high winds</td>\n",
       "      <td>Car</td>\n",
       "    </tr>\n",
       "    <tr>\n",
       "      <th>660675</th>\n",
       "      <td>201091NM01881</td>\n",
       "      <td>Slight</td>\n",
       "      <td>21-02-2022</td>\n",
       "      <td>57.232273</td>\n",
       "      <td>Darkness - no lighting</td>\n",
       "      <td>Highland</td>\n",
       "      <td>-3.809281</td>\n",
       "      <td>1</td>\n",
       "      <td>1</td>\n",
       "      <td>Frost or ice</td>\n",
       "      <td>Single carriageway</td>\n",
       "      <td>Rural</td>\n",
       "      <td>Fine no high winds</td>\n",
       "      <td>Car</td>\n",
       "    </tr>\n",
       "    <tr>\n",
       "      <th>660676</th>\n",
       "      <td>201091NM01935</td>\n",
       "      <td>Slight</td>\n",
       "      <td>23-02-2022</td>\n",
       "      <td>57.585044</td>\n",
       "      <td>Daylight</td>\n",
       "      <td>Highland</td>\n",
       "      <td>-3.862727</td>\n",
       "      <td>1</td>\n",
       "      <td>3</td>\n",
       "      <td>Frost or ice</td>\n",
       "      <td>Single carriageway</td>\n",
       "      <td>Rural</td>\n",
       "      <td>Fine no high winds</td>\n",
       "      <td>Car</td>\n",
       "    </tr>\n",
       "    <tr>\n",
       "      <th>660677</th>\n",
       "      <td>201091NM01964</td>\n",
       "      <td>Serious</td>\n",
       "      <td>23-02-2022</td>\n",
       "      <td>57.214898</td>\n",
       "      <td>Darkness - no lighting</td>\n",
       "      <td>Highland</td>\n",
       "      <td>-3.823997</td>\n",
       "      <td>1</td>\n",
       "      <td>2</td>\n",
       "      <td>Wet or damp</td>\n",
       "      <td>Single carriageway</td>\n",
       "      <td>Rural</td>\n",
       "      <td>Fine no high winds</td>\n",
       "      <td>Motorcycle over 500cc</td>\n",
       "    </tr>\n",
       "    <tr>\n",
       "      <th>660678</th>\n",
       "      <td>201091NM02142</td>\n",
       "      <td>Serious</td>\n",
       "      <td>28-02-2022</td>\n",
       "      <td>57.575210</td>\n",
       "      <td>Daylight</td>\n",
       "      <td>Highland</td>\n",
       "      <td>-3.895673</td>\n",
       "      <td>1</td>\n",
       "      <td>1</td>\n",
       "      <td>Wet or damp</td>\n",
       "      <td>Dual carriageway</td>\n",
       "      <td>Rural</td>\n",
       "      <td>Snowing no high winds</td>\n",
       "      <td>Car</td>\n",
       "    </tr>\n",
       "  </tbody>\n",
       "</table>\n",
       "<p>660679 rows × 14 columns</p>\n",
       "</div>"
      ],
      "text/plain": [
       "                Index Accident_Severity Accident Date   Latitude  \\\n",
       "0       200701BS64157           Serious      5/6/2019  51.506187   \n",
       "1       200701BS65737           Serious      2/7/2019  51.495029   \n",
       "2       200701BS66127           Serious    26-08-2019  51.517715   \n",
       "3       200701BS66128           Serious    16-08-2019  51.495478   \n",
       "4       200701BS66837            Slight      3/9/2019  51.488576   \n",
       "...               ...               ...           ...        ...   \n",
       "660674  201091NM01760            Slight    18-02-2022  57.374005   \n",
       "660675  201091NM01881            Slight    21-02-2022  57.232273   \n",
       "660676  201091NM01935            Slight    23-02-2022  57.585044   \n",
       "660677  201091NM01964           Serious    23-02-2022  57.214898   \n",
       "660678  201091NM02142           Serious    28-02-2022  57.575210   \n",
       "\n",
       "                   Light_Conditions           District Area  Longitude  \\\n",
       "0             Darkness - lights lit  Kensington and Chelsea  -0.209082   \n",
       "1                          Daylight  Kensington and Chelsea  -0.173647   \n",
       "2       Darkness - lighting unknown  Kensington and Chelsea  -0.210215   \n",
       "3                          Daylight  Kensington and Chelsea  -0.202731   \n",
       "4             Darkness - lights lit  Kensington and Chelsea  -0.192487   \n",
       "...                             ...                     ...        ...   \n",
       "660674                     Daylight                Highland  -3.467828   \n",
       "660675       Darkness - no lighting                Highland  -3.809281   \n",
       "660676                     Daylight                Highland  -3.862727   \n",
       "660677       Darkness - no lighting                Highland  -3.823997   \n",
       "660678                     Daylight                Highland  -3.895673   \n",
       "\n",
       "        Number_of_Casualties  Number_of_Vehicles Road_Surface_Conditions  \\\n",
       "0                          1                   2                     Dry   \n",
       "1                          1                   2             Wet or damp   \n",
       "2                          1                   3                     Dry   \n",
       "3                          1                   4                     Dry   \n",
       "4                          1                   2                     Dry   \n",
       "...                      ...                 ...                     ...   \n",
       "660674                     2                   1                     Dry   \n",
       "660675                     1                   1            Frost or ice   \n",
       "660676                     1                   3            Frost or ice   \n",
       "660677                     1                   2             Wet or damp   \n",
       "660678                     1                   1             Wet or damp   \n",
       "\n",
       "                 Road_Type Urban_or_Rural_Area     Weather_Conditions  \\\n",
       "0       Single carriageway               Urban     Fine no high winds   \n",
       "1       Single carriageway               Urban  Raining no high winds   \n",
       "2       Single carriageway               Urban     Fine no high winds   \n",
       "3       Single carriageway               Urban     Fine no high winds   \n",
       "4       Single carriageway               Urban     Fine no high winds   \n",
       "...                    ...                 ...                    ...   \n",
       "660674  Single carriageway               Rural     Fine no high winds   \n",
       "660675  Single carriageway               Rural     Fine no high winds   \n",
       "660676  Single carriageway               Rural     Fine no high winds   \n",
       "660677  Single carriageway               Rural     Fine no high winds   \n",
       "660678    Dual carriageway               Rural  Snowing no high winds   \n",
       "\n",
       "                                Vehicle_Type  \n",
       "0                                        Car  \n",
       "1                                        Car  \n",
       "2                      Taxi/Private hire car  \n",
       "3       Bus or coach (17 or more pass seats)  \n",
       "4                              Other vehicle  \n",
       "...                                      ...  \n",
       "660674                                   Car  \n",
       "660675                                   Car  \n",
       "660676                                   Car  \n",
       "660677                 Motorcycle over 500cc  \n",
       "660678                                   Car  \n",
       "\n",
       "[660679 rows x 14 columns]"
      ]
     },
     "execution_count": 12,
     "metadata": {},
     "output_type": "execute_result"
    }
   ],
   "source": [
    "Data"
   ]
  },
  {
   "cell_type": "markdown",
   "id": "d1627ab6-2564-443b-9857-04c2e6219915",
   "metadata": {},
   "source": [
    "<h1>EXPLORATORY DATA ANALYTICS(EDA)</h1>"
   ]
  },
  {
   "cell_type": "markdown",
   "id": "9085f18b-fa67-4a90-9c85-848709d8d7c0",
   "metadata": {},
   "source": [
    "<h1> 1. How many incidents have 5 or more casualties that include?</h1> \n",
    "<hr>"
   ]
  },
  {
   "cell_type": "code",
   "execution_count": 13,
   "id": "3ef07e36-2c40-43d3-af13-03a680ffa740",
   "metadata": {},
   "outputs": [
    {
     "data": {
      "text/plain": [
       "np.int64(6735)"
      ]
     },
     "execution_count": 13,
     "metadata": {},
     "output_type": "execute_result"
    }
   ],
   "source": [
    "Data[Data['Number_of_Casualties'] > 4].value_counts().sum()"
   ]
  },
  {
   "cell_type": "markdown",
   "id": "23a5044c-59b8-4da8-99b6-852dea8f0e3d",
   "metadata": {},
   "source": [
    "<h1>INSIGHT</h1>\n",
    "<hr>\n",
    "<h3>There have been 6,735 accidents have 5 or more Casualties in each incident.</h3>"
   ]
  },
  {
   "cell_type": "markdown",
   "id": "77f52ccb-a161-43c7-a2b6-bee266a40148",
   "metadata": {},
   "source": [
    "<h1>2. What are the common and most frequent accidents associated with road types?</h1>\n",
    "<hr>"
   ]
  },
  {
   "cell_type": "code",
   "execution_count": 14,
   "id": "337fdce2-3689-4c91-94f6-43d8d54a04fa",
   "metadata": {},
   "outputs": [
    {
     "data": {
      "text/plain": [
       "['Single carriageway', 'Dual carriageway', 'One way street', 'Roundabout', 'Slip road']\n",
       "Categories (5, object): ['Dual carriageway', 'One way street', 'Roundabout', 'Single carriageway', 'Slip road']"
      ]
     },
     "execution_count": 14,
     "metadata": {},
     "output_type": "execute_result"
    }
   ],
   "source": [
    "Data['Road_Type'].unique()"
   ]
  },
  {
   "cell_type": "code",
   "execution_count": 15,
   "id": "a7763c4f-db4a-43ed-bc19-8510230c750b",
   "metadata": {},
   "outputs": [
    {
     "data": {
      "text/plain": [
       "np.int64(496663)"
      ]
     },
     "execution_count": 15,
     "metadata": {},
     "output_type": "execute_result"
    }
   ],
   "source": [
    "Data[Data['Road_Type'] == 'Single carriageway'].value_counts().sum()"
   ]
  },
  {
   "cell_type": "code",
   "execution_count": 16,
   "id": "3b228e1b-6e4f-492e-9e11-d7608b8944fb",
   "metadata": {},
   "outputs": [
    {
     "data": {
      "text/plain": [
       "np.int64(99424)"
      ]
     },
     "execution_count": 16,
     "metadata": {},
     "output_type": "execute_result"
    }
   ],
   "source": [
    "Data[Data['Road_Type'] == 'Dual carriageway'].value_counts().sum()"
   ]
  },
  {
   "cell_type": "code",
   "execution_count": 17,
   "id": "819a55cc-7c47-4500-9634-392de474a6a8",
   "metadata": {},
   "outputs": [
    {
     "data": {
      "text/plain": [
       "np.int64(13559)"
      ]
     },
     "execution_count": 17,
     "metadata": {},
     "output_type": "execute_result"
    }
   ],
   "source": [
    "Data[Data['Road_Type'] == 'One way street'].value_counts().sum()"
   ]
  },
  {
   "cell_type": "code",
   "execution_count": 18,
   "id": "ff23c52c-15ea-4925-9bfd-87c8bdc155b9",
   "metadata": {},
   "outputs": [
    {
     "data": {
      "text/plain": [
       "np.int64(43992)"
      ]
     },
     "execution_count": 18,
     "metadata": {},
     "output_type": "execute_result"
    }
   ],
   "source": [
    "Data[Data['Road_Type'] == 'Roundabout'].value_counts().sum()"
   ]
  },
  {
   "cell_type": "code",
   "execution_count": 19,
   "id": "54539d42-a55d-489d-a724-b8e90c4f46ba",
   "metadata": {},
   "outputs": [
    {
     "data": {
      "text/plain": [
       "np.int64(7041)"
      ]
     },
     "execution_count": 19,
     "metadata": {},
     "output_type": "execute_result"
    }
   ],
   "source": [
    "Data[Data['Road_Type'] == 'Slip road'].value_counts().sum()"
   ]
  },
  {
   "cell_type": "markdown",
   "id": "10993a89-b787-4fcd-9666-950396562c87",
   "metadata": {},
   "source": [
    "<h1>INSIGHT</h1>\n",
    "<hr>\n",
    "<h3>The common road had more accidents. It was a Single carriageway, because somehow, many cars were traveling at high speeds.</h3>"
   ]
  },
  {
   "cell_type": "markdown",
   "id": "feb37d2f-8836-43ca-a7a1-83b99dbef6f4",
   "metadata": {},
   "source": [
    "<h1>3. Which Area has many accidents?</h1>\n",
    "<hr>"
   ]
  },
  {
   "cell_type": "code",
   "execution_count": 20,
   "id": "f7715df3-538a-4f43-bd5c-c27f71d411f2",
   "metadata": {},
   "outputs": [
    {
     "data": {
      "text/plain": [
       "['Kensington and Chelsea', 'Westminster', 'Richmond upon Thames', 'Hammersmith and Fulham', 'Hounslow', ..., 'County Durham', 'Shropshire', 'Central Bedfordshire', 'Cornwall', 'Wiltshire']\n",
       "Length: 422\n",
       "Categories (422, object): ['Aberdeen City', 'Aberdeenshire', 'Adur', 'Allerdale', ..., 'Wycombe', 'Wyre', 'Wyre Forest', 'York']"
      ]
     },
     "execution_count": 20,
     "metadata": {},
     "output_type": "execute_result"
    }
   ],
   "source": [
    "Data['District Area'].unique()"
   ]
  },
  {
   "cell_type": "code",
   "execution_count": 21,
   "id": "ded01572-152f-47e8-b936-19990cfde631",
   "metadata": {},
   "outputs": [
    {
     "data": {
      "text/plain": [
       "np.int64(2799)"
      ]
     },
     "execution_count": 21,
     "metadata": {},
     "output_type": "execute_result"
    }
   ],
   "source": [
    "Data[Data['District Area'] == 'Kensington and Chelsea'].value_counts().sum()"
   ]
  },
  {
   "cell_type": "code",
   "execution_count": 22,
   "id": "cc3fac34-6133-4c57-b65f-ea615bada7f8",
   "metadata": {},
   "outputs": [
    {
     "data": {
      "text/plain": [
       "np.int64(5706)"
      ]
     },
     "execution_count": 22,
     "metadata": {},
     "output_type": "execute_result"
    }
   ],
   "source": [
    "Data[Data['District Area'] == 'Westminster'].value_counts().sum()"
   ]
  },
  {
   "cell_type": "code",
   "execution_count": 23,
   "id": "aac024a9-1740-4676-a1b9-af342698c1ee",
   "metadata": {},
   "outputs": [
    {
     "data": {
      "text/plain": [
       "np.int64(1607)"
      ]
     },
     "execution_count": 23,
     "metadata": {},
     "output_type": "execute_result"
    }
   ],
   "source": [
    "Data[Data['District Area'] == 'Richmond upon Thames'].value_counts().sum()"
   ]
  },
  {
   "cell_type": "code",
   "execution_count": 24,
   "id": "40806739-e518-4c18-b84c-262cb875c4b4",
   "metadata": {},
   "outputs": [
    {
     "data": {
      "text/plain": [
       "np.int64(2509)"
      ]
     },
     "execution_count": 24,
     "metadata": {},
     "output_type": "execute_result"
    }
   ],
   "source": [
    "Data[Data['District Area'] == 'Hammersmith and Fulham'].value_counts().sum()"
   ]
  },
  {
   "cell_type": "code",
   "execution_count": 25,
   "id": "e2cca9eb-8b03-4753-9dea-dcc61902096c",
   "metadata": {},
   "outputs": [
    {
     "data": {
      "text/plain": [
       "np.int64(2979)"
      ]
     },
     "execution_count": 25,
     "metadata": {},
     "output_type": "execute_result"
    }
   ],
   "source": [
    "Data[Data['District Area'] == 'Hounslow'].value_counts().sum()"
   ]
  },
  {
   "cell_type": "code",
   "execution_count": 26,
   "id": "36cfd9f3-ce11-4f00-8303-652d0d4f7e2f",
   "metadata": {},
   "outputs": [
    {
     "data": {
      "text/plain": [
       "np.int64(0)"
      ]
     },
     "execution_count": 26,
     "metadata": {},
     "output_type": "execute_result"
    }
   ],
   "source": [
    "Data[Data['District Area'] == '...'].value_counts().sum()"
   ]
  },
  {
   "cell_type": "code",
   "execution_count": 27,
   "id": "9d5d0ea4-97aa-43cc-ada5-95dd2e285619",
   "metadata": {},
   "outputs": [
    {
     "data": {
      "text/plain": [
       "np.int64(2228)"
      ]
     },
     "execution_count": 27,
     "metadata": {},
     "output_type": "execute_result"
    }
   ],
   "source": [
    "Data[Data['District Area'] == 'County Durham'].value_counts().sum()"
   ]
  },
  {
   "cell_type": "code",
   "execution_count": 28,
   "id": "6c729f3b-43e4-4c15-a02f-57cd0492f9c2",
   "metadata": {},
   "outputs": [
    {
     "data": {
      "text/plain": [
       "np.int64(1343)"
      ]
     },
     "execution_count": 28,
     "metadata": {},
     "output_type": "execute_result"
    }
   ],
   "source": [
    "Data[Data['District Area'] == 'Shropshire'].value_counts().sum()"
   ]
  },
  {
   "cell_type": "code",
   "execution_count": 29,
   "id": "85340ab6-1584-4090-92a4-86561e4642e6",
   "metadata": {},
   "outputs": [
    {
     "data": {
      "text/plain": [
       "np.int64(1225)"
      ]
     },
     "execution_count": 29,
     "metadata": {},
     "output_type": "execute_result"
    }
   ],
   "source": [
    "Data[Data['District Area'] == 'Central Bedfordshire'].value_counts().sum()"
   ]
  },
  {
   "cell_type": "code",
   "execution_count": 30,
   "id": "1d51c0b2-5e23-4006-ad29-d3d5dcbc98fd",
   "metadata": {},
   "outputs": [
    {
     "data": {
      "text/plain": [
       "np.int64(2606)"
      ]
     },
     "execution_count": 30,
     "metadata": {},
     "output_type": "execute_result"
    }
   ],
   "source": [
    "Data[Data['District Area'] == 'Cornwall'].value_counts().sum()"
   ]
  },
  {
   "cell_type": "code",
   "execution_count": 31,
   "id": "d297bfcf-ba81-42ff-ae11-0a52fc3e350f",
   "metadata": {},
   "outputs": [
    {
     "data": {
      "text/plain": [
       "np.int64(1590)"
      ]
     },
     "execution_count": 31,
     "metadata": {},
     "output_type": "execute_result"
    }
   ],
   "source": [
    "Data[Data['District Area'] == 'Wiltshire'].value_counts().sum()"
   ]
  },
  {
   "cell_type": "markdown",
   "id": "a56ec0e6-e102-4201-acde-26239556d55b",
   "metadata": {},
   "source": [
    "<h1>INSIGHT</h1>\n",
    "<hr>\n",
    "<h3> Based on all Areas, there are many accidents, but the Area of 'Westminster' has the highest accidents.</h3>"
   ]
  },
  {
   "cell_type": "markdown",
   "id": "423b6514-5a0a-4837-ad0c-5dfbfc8cbf48",
   "metadata": {},
   "source": [
    "<h1>4. Get all the car incidents in Highland area</h1>\n",
    "<hr>"
   ]
  },
  {
   "cell_type": "code",
   "execution_count": 32,
   "id": "9d2e7460-e06a-4e64-8309-dc03aaebdfae",
   "metadata": {},
   "outputs": [
    {
     "data": {
      "text/html": [
       "<div>\n",
       "<style scoped>\n",
       "    .dataframe tbody tr th:only-of-type {\n",
       "        vertical-align: middle;\n",
       "    }\n",
       "\n",
       "    .dataframe tbody tr th {\n",
       "        vertical-align: top;\n",
       "    }\n",
       "\n",
       "    .dataframe thead th {\n",
       "        text-align: right;\n",
       "    }\n",
       "</style>\n",
       "<table border=\"1\" class=\"dataframe\">\n",
       "  <thead>\n",
       "    <tr style=\"text-align: right;\">\n",
       "      <th></th>\n",
       "      <th>Index</th>\n",
       "      <th>Accident_Severity</th>\n",
       "      <th>Accident Date</th>\n",
       "      <th>Latitude</th>\n",
       "      <th>Light_Conditions</th>\n",
       "      <th>District Area</th>\n",
       "      <th>Longitude</th>\n",
       "      <th>Number_of_Casualties</th>\n",
       "      <th>Number_of_Vehicles</th>\n",
       "      <th>Road_Surface_Conditions</th>\n",
       "      <th>Road_Type</th>\n",
       "      <th>Urban_or_Rural_Area</th>\n",
       "      <th>Weather_Conditions</th>\n",
       "      <th>Vehicle_Type</th>\n",
       "    </tr>\n",
       "  </thead>\n",
       "  <tbody>\n",
       "  </tbody>\n",
       "</table>\n",
       "</div>"
      ],
      "text/plain": [
       "Empty DataFrame\n",
       "Columns: [Index, Accident_Severity, Accident Date, Latitude, Light_Conditions, District Area, Longitude, Number_of_Casualties, Number_of_Vehicles, Road_Surface_Conditions, Road_Type, Urban_or_Rural_Area, Weather_Conditions, Vehicle_Type]\n",
       "Index: []"
      ]
     },
     "execution_count": 32,
     "metadata": {},
     "output_type": "execute_result"
    }
   ],
   "source": [
    "Data[(Data['Vehicle_Type'] == 'car') & (Data['District Area'] == 'Highland')]"
   ]
  },
  {
   "cell_type": "markdown",
   "id": "f7e3a95f-c59e-4ab9-b016-fd7718fb0cba",
   "metadata": {},
   "source": [
    "<h1>INSIGHT</h1>\n",
    "<hr>\n",
    "<h3>We can see all the car accidents in highland area.</h3>"
   ]
  },
  {
   "cell_type": "markdown",
   "id": "a7714976-ae94-4904-96e5-7ed1644453a6",
   "metadata": {},
   "source": [
    "<h1>5. Get the number of Casualties greater than 2 but not exceeding 5</h1>\n",
    "<hr>"
   ]
  },
  {
   "cell_type": "code",
   "execution_count": 33,
   "id": "a2469f4d-49cd-4a88-b49a-4b6b489315e2",
   "metadata": {},
   "outputs": [],
   "source": [
    "Data_df = Data[Data['Number_of_Casualties'] > 1] "
   ]
  },
  {
   "cell_type": "code",
   "execution_count": 34,
   "id": "9317b9d0-d33a-4fa9-b8e9-978f01f84292",
   "metadata": {},
   "outputs": [
    {
     "data": {
      "text/plain": [
       "np.int64(154026)"
      ]
     },
     "execution_count": 34,
     "metadata": {},
     "output_type": "execute_result"
    }
   ],
   "source": [
    "Data_df[Data_df['Number_of_Casualties'] < 6].value_counts().sum()"
   ]
  },
  {
   "cell_type": "markdown",
   "id": "ab582884-d577-4591-8f99-fefc8efd1d14",
   "metadata": {},
   "source": [
    "<h1>INSIGHT</h1>\n",
    "<hr>\n",
    "<h3>The number of accidents that have 2 to 5 casualties involved is '154,026'.</h3>"
   ]
  },
  {
   "cell_type": "markdown",
   "id": "cb467bef-ba5c-46d0-9fe8-dc1d6fb1cfe8",
   "metadata": {},
   "source": [
    "<h1>6. Get the Serious accidents that have 2 or more casualties involved</h1>\n",
    "<hr>"
   ]
  },
  {
   "cell_type": "code",
   "execution_count": 35,
   "id": "c95c58f7-55cd-4066-8b54-606f1abdcf57",
   "metadata": {},
   "outputs": [
    {
     "data": {
      "text/html": [
       "<div>\n",
       "<style scoped>\n",
       "    .dataframe tbody tr th:only-of-type {\n",
       "        vertical-align: middle;\n",
       "    }\n",
       "\n",
       "    .dataframe tbody tr th {\n",
       "        vertical-align: top;\n",
       "    }\n",
       "\n",
       "    .dataframe thead th {\n",
       "        text-align: right;\n",
       "    }\n",
       "</style>\n",
       "<table border=\"1\" class=\"dataframe\">\n",
       "  <thead>\n",
       "    <tr style=\"text-align: right;\">\n",
       "      <th></th>\n",
       "      <th>Index</th>\n",
       "      <th>Accident_Severity</th>\n",
       "      <th>Accident Date</th>\n",
       "      <th>Latitude</th>\n",
       "      <th>Light_Conditions</th>\n",
       "      <th>District Area</th>\n",
       "      <th>Longitude</th>\n",
       "      <th>Number_of_Casualties</th>\n",
       "      <th>Number_of_Vehicles</th>\n",
       "      <th>Road_Surface_Conditions</th>\n",
       "      <th>Road_Type</th>\n",
       "      <th>Urban_or_Rural_Area</th>\n",
       "      <th>Weather_Conditions</th>\n",
       "      <th>Vehicle_Type</th>\n",
       "    </tr>\n",
       "  </thead>\n",
       "  <tbody>\n",
       "    <tr>\n",
       "      <th>5</th>\n",
       "      <td>200701BS67159</td>\n",
       "      <td>Serious</td>\n",
       "      <td>18-09-2019</td>\n",
       "      <td>51.497750</td>\n",
       "      <td>Daylight</td>\n",
       "      <td>Kensington and Chelsea</td>\n",
       "      <td>-0.192556</td>\n",
       "      <td>2</td>\n",
       "      <td>3</td>\n",
       "      <td>Dry</td>\n",
       "      <td>Single carriageway</td>\n",
       "      <td>Urban</td>\n",
       "      <td>Fine no high winds</td>\n",
       "      <td>Car</td>\n",
       "    </tr>\n",
       "    <tr>\n",
       "      <th>23</th>\n",
       "      <td>200701BS70002</td>\n",
       "      <td>Serious</td>\n",
       "      <td>22-01-2019</td>\n",
       "      <td>51.485674</td>\n",
       "      <td>Daylight</td>\n",
       "      <td>Kensington and Chelsea</td>\n",
       "      <td>-0.150543</td>\n",
       "      <td>2</td>\n",
       "      <td>2</td>\n",
       "      <td>Dry</td>\n",
       "      <td>Single carriageway</td>\n",
       "      <td>Urban</td>\n",
       "      <td>Fine no high winds</td>\n",
       "      <td>Car</td>\n",
       "    </tr>\n",
       "    <tr>\n",
       "      <th>80</th>\n",
       "      <td>200701BS70066</td>\n",
       "      <td>Serious</td>\n",
       "      <td>3/2/2019</td>\n",
       "      <td>51.486026</td>\n",
       "      <td>Daylight</td>\n",
       "      <td>Kensington and Chelsea</td>\n",
       "      <td>-0.161476</td>\n",
       "      <td>2</td>\n",
       "      <td>1</td>\n",
       "      <td>Dry</td>\n",
       "      <td>Single carriageway</td>\n",
       "      <td>Urban</td>\n",
       "      <td>Fine no high winds</td>\n",
       "      <td>Car</td>\n",
       "    </tr>\n",
       "    <tr>\n",
       "      <th>172</th>\n",
       "      <td>200701BS70174</td>\n",
       "      <td>Serious</td>\n",
       "      <td>16-04-2019</td>\n",
       "      <td>51.493411</td>\n",
       "      <td>Daylight</td>\n",
       "      <td>Kensington and Chelsea</td>\n",
       "      <td>-0.173712</td>\n",
       "      <td>2</td>\n",
       "      <td>1</td>\n",
       "      <td>Dry</td>\n",
       "      <td>Single carriageway</td>\n",
       "      <td>Urban</td>\n",
       "      <td>Fine no high winds</td>\n",
       "      <td>Car</td>\n",
       "    </tr>\n",
       "    <tr>\n",
       "      <th>352</th>\n",
       "      <td>200701BS70366</td>\n",
       "      <td>Serious</td>\n",
       "      <td>9/7/2019</td>\n",
       "      <td>51.491519</td>\n",
       "      <td>Daylight</td>\n",
       "      <td>Kensington and Chelsea</td>\n",
       "      <td>-0.179262</td>\n",
       "      <td>2</td>\n",
       "      <td>2</td>\n",
       "      <td>Dry</td>\n",
       "      <td>Single carriageway</td>\n",
       "      <td>Urban</td>\n",
       "      <td>Fine no high winds</td>\n",
       "      <td>Van / Goods 3.5 tonnes mgw or under</td>\n",
       "    </tr>\n",
       "    <tr>\n",
       "      <th>...</th>\n",
       "      <td>...</td>\n",
       "      <td>...</td>\n",
       "      <td>...</td>\n",
       "      <td>...</td>\n",
       "      <td>...</td>\n",
       "      <td>...</td>\n",
       "      <td>...</td>\n",
       "      <td>...</td>\n",
       "      <td>...</td>\n",
       "      <td>...</td>\n",
       "      <td>...</td>\n",
       "      <td>...</td>\n",
       "      <td>...</td>\n",
       "      <td>...</td>\n",
       "    </tr>\n",
       "    <tr>\n",
       "      <th>660559</th>\n",
       "      <td>201091NJ10468</td>\n",
       "      <td>Serious</td>\n",
       "      <td>28-07-2022</td>\n",
       "      <td>58.440842</td>\n",
       "      <td>Daylight</td>\n",
       "      <td>Highland</td>\n",
       "      <td>-3.093146</td>\n",
       "      <td>2</td>\n",
       "      <td>1</td>\n",
       "      <td>Wet or damp</td>\n",
       "      <td>Single carriageway</td>\n",
       "      <td>Rural</td>\n",
       "      <td>Other</td>\n",
       "      <td>Van / Goods 3.5 tonnes mgw or under</td>\n",
       "    </tr>\n",
       "    <tr>\n",
       "      <th>660575</th>\n",
       "      <td>201091NJ13511</td>\n",
       "      <td>Serious</td>\n",
       "      <td>29-09-2022</td>\n",
       "      <td>58.289537</td>\n",
       "      <td>Darkness - no lighting</td>\n",
       "      <td>Highland</td>\n",
       "      <td>-3.342973</td>\n",
       "      <td>2</td>\n",
       "      <td>1</td>\n",
       "      <td>Wet or damp</td>\n",
       "      <td>Dual carriageway</td>\n",
       "      <td>Rural</td>\n",
       "      <td>Raining no high winds</td>\n",
       "      <td>Van / Goods 3.5 tonnes mgw or under</td>\n",
       "    </tr>\n",
       "    <tr>\n",
       "      <th>660578</th>\n",
       "      <td>201091NJ14322</td>\n",
       "      <td>Serious</td>\n",
       "      <td>14-10-2022</td>\n",
       "      <td>58.606597</td>\n",
       "      <td>Darkness - no lighting</td>\n",
       "      <td>Highland</td>\n",
       "      <td>-3.344956</td>\n",
       "      <td>2</td>\n",
       "      <td>1</td>\n",
       "      <td>Wet or damp</td>\n",
       "      <td>Single carriageway</td>\n",
       "      <td>Rural</td>\n",
       "      <td>Raining no high winds</td>\n",
       "      <td>Goods over 3.5t. and under 7.5t</td>\n",
       "    </tr>\n",
       "    <tr>\n",
       "      <th>660580</th>\n",
       "      <td>201091NJ14679</td>\n",
       "      <td>Serious</td>\n",
       "      <td>21-10-2022</td>\n",
       "      <td>58.099566</td>\n",
       "      <td>Daylight</td>\n",
       "      <td>Highland</td>\n",
       "      <td>-3.682299</td>\n",
       "      <td>4</td>\n",
       "      <td>2</td>\n",
       "      <td>Wet or damp</td>\n",
       "      <td>Single carriageway</td>\n",
       "      <td>Rural</td>\n",
       "      <td>Raining no high winds</td>\n",
       "      <td>Car</td>\n",
       "    </tr>\n",
       "    <tr>\n",
       "      <th>660606</th>\n",
       "      <td>201091NK02539</td>\n",
       "      <td>Serious</td>\n",
       "      <td>18-05-2022</td>\n",
       "      <td>58.959892</td>\n",
       "      <td>Daylight</td>\n",
       "      <td>Orkney Islands</td>\n",
       "      <td>-3.005034</td>\n",
       "      <td>2</td>\n",
       "      <td>2</td>\n",
       "      <td>Dry</td>\n",
       "      <td>Single carriageway</td>\n",
       "      <td>Rural</td>\n",
       "      <td>Fine no high winds</td>\n",
       "      <td>Car</td>\n",
       "    </tr>\n",
       "  </tbody>\n",
       "</table>\n",
       "<p>23946 rows × 14 columns</p>\n",
       "</div>"
      ],
      "text/plain": [
       "                Index Accident_Severity Accident Date   Latitude  \\\n",
       "5       200701BS67159           Serious    18-09-2019  51.497750   \n",
       "23      200701BS70002           Serious    22-01-2019  51.485674   \n",
       "80      200701BS70066           Serious      3/2/2019  51.486026   \n",
       "172     200701BS70174           Serious    16-04-2019  51.493411   \n",
       "352     200701BS70366           Serious      9/7/2019  51.491519   \n",
       "...               ...               ...           ...        ...   \n",
       "660559  201091NJ10468           Serious    28-07-2022  58.440842   \n",
       "660575  201091NJ13511           Serious    29-09-2022  58.289537   \n",
       "660578  201091NJ14322           Serious    14-10-2022  58.606597   \n",
       "660580  201091NJ14679           Serious    21-10-2022  58.099566   \n",
       "660606  201091NK02539           Serious    18-05-2022  58.959892   \n",
       "\n",
       "              Light_Conditions           District Area  Longitude  \\\n",
       "5                     Daylight  Kensington and Chelsea  -0.192556   \n",
       "23                    Daylight  Kensington and Chelsea  -0.150543   \n",
       "80                    Daylight  Kensington and Chelsea  -0.161476   \n",
       "172                   Daylight  Kensington and Chelsea  -0.173712   \n",
       "352                   Daylight  Kensington and Chelsea  -0.179262   \n",
       "...                        ...                     ...        ...   \n",
       "660559                Daylight                Highland  -3.093146   \n",
       "660575  Darkness - no lighting                Highland  -3.342973   \n",
       "660578  Darkness - no lighting                Highland  -3.344956   \n",
       "660580                Daylight                Highland  -3.682299   \n",
       "660606                Daylight          Orkney Islands  -3.005034   \n",
       "\n",
       "        Number_of_Casualties  Number_of_Vehicles Road_Surface_Conditions  \\\n",
       "5                          2                   3                     Dry   \n",
       "23                         2                   2                     Dry   \n",
       "80                         2                   1                     Dry   \n",
       "172                        2                   1                     Dry   \n",
       "352                        2                   2                     Dry   \n",
       "...                      ...                 ...                     ...   \n",
       "660559                     2                   1             Wet or damp   \n",
       "660575                     2                   1             Wet or damp   \n",
       "660578                     2                   1             Wet or damp   \n",
       "660580                     4                   2             Wet or damp   \n",
       "660606                     2                   2                     Dry   \n",
       "\n",
       "                 Road_Type Urban_or_Rural_Area     Weather_Conditions  \\\n",
       "5       Single carriageway               Urban     Fine no high winds   \n",
       "23      Single carriageway               Urban     Fine no high winds   \n",
       "80      Single carriageway               Urban     Fine no high winds   \n",
       "172     Single carriageway               Urban     Fine no high winds   \n",
       "352     Single carriageway               Urban     Fine no high winds   \n",
       "...                    ...                 ...                    ...   \n",
       "660559  Single carriageway               Rural                  Other   \n",
       "660575    Dual carriageway               Rural  Raining no high winds   \n",
       "660578  Single carriageway               Rural  Raining no high winds   \n",
       "660580  Single carriageway               Rural  Raining no high winds   \n",
       "660606  Single carriageway               Rural     Fine no high winds   \n",
       "\n",
       "                               Vehicle_Type  \n",
       "5                                       Car  \n",
       "23                                      Car  \n",
       "80                                      Car  \n",
       "172                                     Car  \n",
       "352     Van / Goods 3.5 tonnes mgw or under  \n",
       "...                                     ...  \n",
       "660559  Van / Goods 3.5 tonnes mgw or under  \n",
       "660575  Van / Goods 3.5 tonnes mgw or under  \n",
       "660578      Goods over 3.5t. and under 7.5t  \n",
       "660580                                  Car  \n",
       "660606                                  Car  \n",
       "\n",
       "[23946 rows x 14 columns]"
      ]
     },
     "execution_count": 35,
     "metadata": {},
     "output_type": "execute_result"
    }
   ],
   "source": [
    "Data[(Data['Accident_Severity'] == 'Serious') & (Data['Number_of_Casualties'] > 1)]"
   ]
  },
  {
   "cell_type": "markdown",
   "id": "020bb817-002d-4052-8cd0-04a1d35dc382",
   "metadata": {},
   "source": [
    "<h1>INSIGHT</h1>\n",
    "<hr>\n",
    "<h3>Here's the Serious accident that has 2 to many casualties involved.</h3>"
   ]
  },
  {
   "cell_type": "markdown",
   "id": "395b14b4-1d3c-48ad-92d5-89eec95297e9",
   "metadata": {},
   "source": [
    "<h1>7. Get all the accidents in the District of Cornwall that are caused by Wet road conditions </h1>\n",
    "<hr\n"
   ]
  },
  {
   "cell_type": "code",
   "execution_count": 36,
   "id": "82b707e2-c2c1-41f0-86c3-a67e832fee60",
   "metadata": {},
   "outputs": [
    {
     "data": {
      "text/html": [
       "<div>\n",
       "<style scoped>\n",
       "    .dataframe tbody tr th:only-of-type {\n",
       "        vertical-align: middle;\n",
       "    }\n",
       "\n",
       "    .dataframe tbody tr th {\n",
       "        vertical-align: top;\n",
       "    }\n",
       "\n",
       "    .dataframe thead th {\n",
       "        text-align: right;\n",
       "    }\n",
       "</style>\n",
       "<table border=\"1\" class=\"dataframe\">\n",
       "  <thead>\n",
       "    <tr style=\"text-align: right;\">\n",
       "      <th></th>\n",
       "      <th>Index</th>\n",
       "      <th>Accident_Severity</th>\n",
       "      <th>Accident Date</th>\n",
       "      <th>Latitude</th>\n",
       "      <th>Light_Conditions</th>\n",
       "      <th>District Area</th>\n",
       "      <th>Longitude</th>\n",
       "      <th>Number_of_Casualties</th>\n",
       "      <th>Number_of_Vehicles</th>\n",
       "      <th>Road_Surface_Conditions</th>\n",
       "      <th>Road_Type</th>\n",
       "      <th>Urban_or_Rural_Area</th>\n",
       "      <th>Weather_Conditions</th>\n",
       "      <th>Vehicle_Type</th>\n",
       "    </tr>\n",
       "  </thead>\n",
       "  <tbody>\n",
       "    <tr>\n",
       "      <th>484274</th>\n",
       "      <td>200950AC2B004</td>\n",
       "      <td>Slight</td>\n",
       "      <td>6/4/2021</td>\n",
       "      <td>50.180885</td>\n",
       "      <td>Daylight</td>\n",
       "      <td>Cornwall</td>\n",
       "      <td>-5.281875</td>\n",
       "      <td>1</td>\n",
       "      <td>2</td>\n",
       "      <td>Wet or damp</td>\n",
       "      <td>Single carriageway</td>\n",
       "      <td>Rural</td>\n",
       "      <td>Fine no high winds</td>\n",
       "      <td>Car</td>\n",
       "    </tr>\n",
       "    <tr>\n",
       "      <th>484278</th>\n",
       "      <td>200950AC2B011</td>\n",
       "      <td>Slight</td>\n",
       "      <td>2/7/2021</td>\n",
       "      <td>50.194520</td>\n",
       "      <td>Darkness - no lighting</td>\n",
       "      <td>Cornwall</td>\n",
       "      <td>-5.308597</td>\n",
       "      <td>3</td>\n",
       "      <td>1</td>\n",
       "      <td>Wet or damp</td>\n",
       "      <td>Single carriageway</td>\n",
       "      <td>Rural</td>\n",
       "      <td>Raining no high winds</td>\n",
       "      <td>Van / Goods 3.5 tonnes mgw or under</td>\n",
       "    </tr>\n",
       "    <tr>\n",
       "      <th>484287</th>\n",
       "      <td>200950AC2C014</td>\n",
       "      <td>Slight</td>\n",
       "      <td>17-05-2021</td>\n",
       "      <td>50.224337</td>\n",
       "      <td>Daylight</td>\n",
       "      <td>Cornwall</td>\n",
       "      <td>-5.288225</td>\n",
       "      <td>1</td>\n",
       "      <td>2</td>\n",
       "      <td>Wet or damp</td>\n",
       "      <td>Single carriageway</td>\n",
       "      <td>Urban</td>\n",
       "      <td>Raining no high winds</td>\n",
       "      <td>Car</td>\n",
       "    </tr>\n",
       "    <tr>\n",
       "      <th>484290</th>\n",
       "      <td>200950AC2C017</td>\n",
       "      <td>Slight</td>\n",
       "      <td>8/9/2021</td>\n",
       "      <td>50.214151</td>\n",
       "      <td>Daylight</td>\n",
       "      <td>Cornwall</td>\n",
       "      <td>-5.298459</td>\n",
       "      <td>1</td>\n",
       "      <td>1</td>\n",
       "      <td>Wet or damp</td>\n",
       "      <td>One way street</td>\n",
       "      <td>Urban</td>\n",
       "      <td>Other</td>\n",
       "      <td>Car</td>\n",
       "    </tr>\n",
       "    <tr>\n",
       "      <th>484292</th>\n",
       "      <td>200950AC2C019</td>\n",
       "      <td>Slight</td>\n",
       "      <td>31-10-2021</td>\n",
       "      <td>50.222236</td>\n",
       "      <td>Darkness - lights lit</td>\n",
       "      <td>Cornwall</td>\n",
       "      <td>-5.289342</td>\n",
       "      <td>1</td>\n",
       "      <td>1</td>\n",
       "      <td>Wet or damp</td>\n",
       "      <td>Single carriageway</td>\n",
       "      <td>Urban</td>\n",
       "      <td>Raining no high winds</td>\n",
       "      <td>Car</td>\n",
       "    </tr>\n",
       "    <tr>\n",
       "      <th>...</th>\n",
       "      <td>...</td>\n",
       "      <td>...</td>\n",
       "      <td>...</td>\n",
       "      <td>...</td>\n",
       "      <td>...</td>\n",
       "      <td>...</td>\n",
       "      <td>...</td>\n",
       "      <td>...</td>\n",
       "      <td>...</td>\n",
       "      <td>...</td>\n",
       "      <td>...</td>\n",
       "      <td>...</td>\n",
       "      <td>...</td>\n",
       "      <td>...</td>\n",
       "    </tr>\n",
       "    <tr>\n",
       "      <th>644156</th>\n",
       "      <td>201050GW3O008</td>\n",
       "      <td>Slight</td>\n",
       "      <td>14-05-2022</td>\n",
       "      <td>50.345577</td>\n",
       "      <td>Daylight</td>\n",
       "      <td>Cornwall</td>\n",
       "      <td>-4.741592</td>\n",
       "      <td>2</td>\n",
       "      <td>3</td>\n",
       "      <td>Wet or damp</td>\n",
       "      <td>Single carriageway</td>\n",
       "      <td>Rural</td>\n",
       "      <td>Raining no high winds</td>\n",
       "      <td>Car</td>\n",
       "    </tr>\n",
       "    <tr>\n",
       "      <th>644166</th>\n",
       "      <td>201050GW3P007</td>\n",
       "      <td>Slight</td>\n",
       "      <td>20-07-2022</td>\n",
       "      <td>50.353734</td>\n",
       "      <td>Daylight</td>\n",
       "      <td>Cornwall</td>\n",
       "      <td>-4.700586</td>\n",
       "      <td>1</td>\n",
       "      <td>1</td>\n",
       "      <td>Wet or damp</td>\n",
       "      <td>One way street</td>\n",
       "      <td>Rural</td>\n",
       "      <td>Raining no high winds</td>\n",
       "      <td>Van / Goods 3.5 tonnes mgw or under</td>\n",
       "    </tr>\n",
       "    <tr>\n",
       "      <th>644168</th>\n",
       "      <td>201050GW3R007</td>\n",
       "      <td>Slight</td>\n",
       "      <td>7/8/2022</td>\n",
       "      <td>50.334243</td>\n",
       "      <td>Daylight</td>\n",
       "      <td>Cornwall</td>\n",
       "      <td>-4.636660</td>\n",
       "      <td>1</td>\n",
       "      <td>1</td>\n",
       "      <td>Wet or damp</td>\n",
       "      <td>Single carriageway</td>\n",
       "      <td>Rural</td>\n",
       "      <td>Fine no high winds</td>\n",
       "      <td>Car</td>\n",
       "    </tr>\n",
       "    <tr>\n",
       "      <th>644171</th>\n",
       "      <td>201050GW3R010</td>\n",
       "      <td>Serious</td>\n",
       "      <td>17-11-2022</td>\n",
       "      <td>50.334272</td>\n",
       "      <td>Daylight</td>\n",
       "      <td>Cornwall</td>\n",
       "      <td>-4.639331</td>\n",
       "      <td>1</td>\n",
       "      <td>2</td>\n",
       "      <td>Wet or damp</td>\n",
       "      <td>One way street</td>\n",
       "      <td>Rural</td>\n",
       "      <td>Fine no high winds</td>\n",
       "      <td>Car</td>\n",
       "    </tr>\n",
       "    <tr>\n",
       "      <th>644778</th>\n",
       "      <td>201050JS2J001</td>\n",
       "      <td>Slight</td>\n",
       "      <td>7/2/2022</td>\n",
       "      <td>50.390923</td>\n",
       "      <td>Daylight</td>\n",
       "      <td>Cornwall</td>\n",
       "      <td>-4.421152</td>\n",
       "      <td>1</td>\n",
       "      <td>1</td>\n",
       "      <td>Wet or damp</td>\n",
       "      <td>Single carriageway</td>\n",
       "      <td>Rural</td>\n",
       "      <td>Fine no high winds</td>\n",
       "      <td>Car</td>\n",
       "    </tr>\n",
       "  </tbody>\n",
       "</table>\n",
       "<p>810 rows × 14 columns</p>\n",
       "</div>"
      ],
      "text/plain": [
       "                Index Accident_Severity Accident Date   Latitude  \\\n",
       "484274  200950AC2B004            Slight      6/4/2021  50.180885   \n",
       "484278  200950AC2B011            Slight      2/7/2021  50.194520   \n",
       "484287  200950AC2C014            Slight    17-05-2021  50.224337   \n",
       "484290  200950AC2C017            Slight      8/9/2021  50.214151   \n",
       "484292  200950AC2C019            Slight    31-10-2021  50.222236   \n",
       "...               ...               ...           ...        ...   \n",
       "644156  201050GW3O008            Slight    14-05-2022  50.345577   \n",
       "644166  201050GW3P007            Slight    20-07-2022  50.353734   \n",
       "644168  201050GW3R007            Slight      7/8/2022  50.334243   \n",
       "644171  201050GW3R010           Serious    17-11-2022  50.334272   \n",
       "644778  201050JS2J001            Slight      7/2/2022  50.390923   \n",
       "\n",
       "              Light_Conditions District Area  Longitude  Number_of_Casualties  \\\n",
       "484274                Daylight      Cornwall  -5.281875                     1   \n",
       "484278  Darkness - no lighting      Cornwall  -5.308597                     3   \n",
       "484287                Daylight      Cornwall  -5.288225                     1   \n",
       "484290                Daylight      Cornwall  -5.298459                     1   \n",
       "484292   Darkness - lights lit      Cornwall  -5.289342                     1   \n",
       "...                        ...           ...        ...                   ...   \n",
       "644156                Daylight      Cornwall  -4.741592                     2   \n",
       "644166                Daylight      Cornwall  -4.700586                     1   \n",
       "644168                Daylight      Cornwall  -4.636660                     1   \n",
       "644171                Daylight      Cornwall  -4.639331                     1   \n",
       "644778                Daylight      Cornwall  -4.421152                     1   \n",
       "\n",
       "        Number_of_Vehicles Road_Surface_Conditions           Road_Type  \\\n",
       "484274                   2             Wet or damp  Single carriageway   \n",
       "484278                   1             Wet or damp  Single carriageway   \n",
       "484287                   2             Wet or damp  Single carriageway   \n",
       "484290                   1             Wet or damp      One way street   \n",
       "484292                   1             Wet or damp  Single carriageway   \n",
       "...                    ...                     ...                 ...   \n",
       "644156                   3             Wet or damp  Single carriageway   \n",
       "644166                   1             Wet or damp      One way street   \n",
       "644168                   1             Wet or damp  Single carriageway   \n",
       "644171                   2             Wet or damp      One way street   \n",
       "644778                   1             Wet or damp  Single carriageway   \n",
       "\n",
       "       Urban_or_Rural_Area     Weather_Conditions  \\\n",
       "484274               Rural     Fine no high winds   \n",
       "484278               Rural  Raining no high winds   \n",
       "484287               Urban  Raining no high winds   \n",
       "484290               Urban                  Other   \n",
       "484292               Urban  Raining no high winds   \n",
       "...                    ...                    ...   \n",
       "644156               Rural  Raining no high winds   \n",
       "644166               Rural  Raining no high winds   \n",
       "644168               Rural     Fine no high winds   \n",
       "644171               Rural     Fine no high winds   \n",
       "644778               Rural     Fine no high winds   \n",
       "\n",
       "                               Vehicle_Type  \n",
       "484274                                  Car  \n",
       "484278  Van / Goods 3.5 tonnes mgw or under  \n",
       "484287                                  Car  \n",
       "484290                                  Car  \n",
       "484292                                  Car  \n",
       "...                                     ...  \n",
       "644156                                  Car  \n",
       "644166  Van / Goods 3.5 tonnes mgw or under  \n",
       "644168                                  Car  \n",
       "644171                                  Car  \n",
       "644778                                  Car  \n",
       "\n",
       "[810 rows x 14 columns]"
      ]
     },
     "execution_count": 36,
     "metadata": {},
     "output_type": "execute_result"
    }
   ],
   "source": [
    "Data[(Data['District Area'] == 'Cornwall') & (Data['Road_Surface_Conditions'] == 'Wet or damp')]"
   ]
  },
  {
   "cell_type": "markdown",
   "id": "a7a8a486-1394-4a1f-baf8-cec4a712ed73",
   "metadata": {},
   "source": [
    "<h1>INSIGHT</h1>\n",
    "<hr>\n",
    "<h3>Here it is all the accidents in Cornwall that were caused by Wet road conditions.</h3>"
   ]
  },
  {
   "cell_type": "markdown",
   "id": "c1d87ce0-19ee-4b16-adbc-fe7d911b21ea",
   "metadata": {},
   "source": [
    "<h1>8. Get all accidents in the Rural Area that have 1 casualty only</h1>"
   ]
  },
  {
   "cell_type": "code",
   "execution_count": 37,
   "id": "8d6b79a2-d6cf-493c-92ea-07f19f09f658",
   "metadata": {},
   "outputs": [
    {
     "data": {
      "text/html": [
       "<div>\n",
       "<style scoped>\n",
       "    .dataframe tbody tr th:only-of-type {\n",
       "        vertical-align: middle;\n",
       "    }\n",
       "\n",
       "    .dataframe tbody tr th {\n",
       "        vertical-align: top;\n",
       "    }\n",
       "\n",
       "    .dataframe thead th {\n",
       "        text-align: right;\n",
       "    }\n",
       "</style>\n",
       "<table border=\"1\" class=\"dataframe\">\n",
       "  <thead>\n",
       "    <tr style=\"text-align: right;\">\n",
       "      <th></th>\n",
       "      <th>Index</th>\n",
       "      <th>Accident_Severity</th>\n",
       "      <th>Accident Date</th>\n",
       "      <th>Latitude</th>\n",
       "      <th>Light_Conditions</th>\n",
       "      <th>District Area</th>\n",
       "      <th>Longitude</th>\n",
       "      <th>Number_of_Casualties</th>\n",
       "      <th>Number_of_Vehicles</th>\n",
       "      <th>Road_Surface_Conditions</th>\n",
       "      <th>Road_Type</th>\n",
       "      <th>Urban_or_Rural_Area</th>\n",
       "      <th>Weather_Conditions</th>\n",
       "      <th>Vehicle_Type</th>\n",
       "    </tr>\n",
       "  </thead>\n",
       "  <tbody>\n",
       "    <tr>\n",
       "      <th>6101</th>\n",
       "      <td>200701JC30253</td>\n",
       "      <td>Slight</td>\n",
       "      <td>29-04-2019</td>\n",
       "      <td>51.616921</td>\n",
       "      <td>Darkness - lights lit</td>\n",
       "      <td>Waltham Forest</td>\n",
       "      <td>0.010797</td>\n",
       "      <td>1</td>\n",
       "      <td>1</td>\n",
       "      <td>Dry</td>\n",
       "      <td>Single carriageway</td>\n",
       "      <td>Rural</td>\n",
       "      <td>Fine no high winds</td>\n",
       "      <td>Car</td>\n",
       "    </tr>\n",
       "    <tr>\n",
       "      <th>6193</th>\n",
       "      <td>200701JC63842</td>\n",
       "      <td>Slight</td>\n",
       "      <td>23-06-2019</td>\n",
       "      <td>51.634035</td>\n",
       "      <td>Daylight</td>\n",
       "      <td>Waltham Forest</td>\n",
       "      <td>0.014444</td>\n",
       "      <td>1</td>\n",
       "      <td>2</td>\n",
       "      <td>Wet or damp</td>\n",
       "      <td>Single carriageway</td>\n",
       "      <td>Rural</td>\n",
       "      <td>Raining no high winds</td>\n",
       "      <td>Motorcycle over 500cc</td>\n",
       "    </tr>\n",
       "    <tr>\n",
       "      <th>6223</th>\n",
       "      <td>200701JC64859</td>\n",
       "      <td>Slight</td>\n",
       "      <td>15-07-2019</td>\n",
       "      <td>51.616088</td>\n",
       "      <td>Darkness - lighting unknown</td>\n",
       "      <td>Waltham Forest</td>\n",
       "      <td>0.012204</td>\n",
       "      <td>1</td>\n",
       "      <td>3</td>\n",
       "      <td>Dry</td>\n",
       "      <td>Single carriageway</td>\n",
       "      <td>Rural</td>\n",
       "      <td>Fine no high winds</td>\n",
       "      <td>Car</td>\n",
       "    </tr>\n",
       "    <tr>\n",
       "      <th>6421</th>\n",
       "      <td>200701JC67563</td>\n",
       "      <td>Slight</td>\n",
       "      <td>17-10-2019</td>\n",
       "      <td>51.634365</td>\n",
       "      <td>Darkness - no lighting</td>\n",
       "      <td>Waltham Forest</td>\n",
       "      <td>0.021395</td>\n",
       "      <td>1</td>\n",
       "      <td>1</td>\n",
       "      <td>Wet or damp</td>\n",
       "      <td>Single carriageway</td>\n",
       "      <td>Rural</td>\n",
       "      <td>Raining no high winds</td>\n",
       "      <td>Car</td>\n",
       "    </tr>\n",
       "    <tr>\n",
       "      <th>6441</th>\n",
       "      <td>200701JC67754</td>\n",
       "      <td>Slight</td>\n",
       "      <td>3/11/2019</td>\n",
       "      <td>51.615152</td>\n",
       "      <td>Daylight</td>\n",
       "      <td>Waltham Forest</td>\n",
       "      <td>0.014330</td>\n",
       "      <td>1</td>\n",
       "      <td>2</td>\n",
       "      <td>Dry</td>\n",
       "      <td>Single carriageway</td>\n",
       "      <td>Rural</td>\n",
       "      <td>Fine no high winds</td>\n",
       "      <td>Car</td>\n",
       "    </tr>\n",
       "    <tr>\n",
       "      <th>...</th>\n",
       "      <td>...</td>\n",
       "      <td>...</td>\n",
       "      <td>...</td>\n",
       "      <td>...</td>\n",
       "      <td>...</td>\n",
       "      <td>...</td>\n",
       "      <td>...</td>\n",
       "      <td>...</td>\n",
       "      <td>...</td>\n",
       "      <td>...</td>\n",
       "      <td>...</td>\n",
       "      <td>...</td>\n",
       "      <td>...</td>\n",
       "      <td>...</td>\n",
       "    </tr>\n",
       "    <tr>\n",
       "      <th>660672</th>\n",
       "      <td>201091NM01085</td>\n",
       "      <td>Serious</td>\n",
       "      <td>29-01-2022</td>\n",
       "      <td>57.170725</td>\n",
       "      <td>Daylight</td>\n",
       "      <td>Highland</td>\n",
       "      <td>-3.852421</td>\n",
       "      <td>1</td>\n",
       "      <td>2</td>\n",
       "      <td>Snow</td>\n",
       "      <td>Single carriageway</td>\n",
       "      <td>Rural</td>\n",
       "      <td>Fine no high winds</td>\n",
       "      <td>Car</td>\n",
       "    </tr>\n",
       "    <tr>\n",
       "      <th>660675</th>\n",
       "      <td>201091NM01881</td>\n",
       "      <td>Slight</td>\n",
       "      <td>21-02-2022</td>\n",
       "      <td>57.232273</td>\n",
       "      <td>Darkness - no lighting</td>\n",
       "      <td>Highland</td>\n",
       "      <td>-3.809281</td>\n",
       "      <td>1</td>\n",
       "      <td>1</td>\n",
       "      <td>Frost or ice</td>\n",
       "      <td>Single carriageway</td>\n",
       "      <td>Rural</td>\n",
       "      <td>Fine no high winds</td>\n",
       "      <td>Car</td>\n",
       "    </tr>\n",
       "    <tr>\n",
       "      <th>660676</th>\n",
       "      <td>201091NM01935</td>\n",
       "      <td>Slight</td>\n",
       "      <td>23-02-2022</td>\n",
       "      <td>57.585044</td>\n",
       "      <td>Daylight</td>\n",
       "      <td>Highland</td>\n",
       "      <td>-3.862727</td>\n",
       "      <td>1</td>\n",
       "      <td>3</td>\n",
       "      <td>Frost or ice</td>\n",
       "      <td>Single carriageway</td>\n",
       "      <td>Rural</td>\n",
       "      <td>Fine no high winds</td>\n",
       "      <td>Car</td>\n",
       "    </tr>\n",
       "    <tr>\n",
       "      <th>660677</th>\n",
       "      <td>201091NM01964</td>\n",
       "      <td>Serious</td>\n",
       "      <td>23-02-2022</td>\n",
       "      <td>57.214898</td>\n",
       "      <td>Darkness - no lighting</td>\n",
       "      <td>Highland</td>\n",
       "      <td>-3.823997</td>\n",
       "      <td>1</td>\n",
       "      <td>2</td>\n",
       "      <td>Wet or damp</td>\n",
       "      <td>Single carriageway</td>\n",
       "      <td>Rural</td>\n",
       "      <td>Fine no high winds</td>\n",
       "      <td>Motorcycle over 500cc</td>\n",
       "    </tr>\n",
       "    <tr>\n",
       "      <th>660678</th>\n",
       "      <td>201091NM02142</td>\n",
       "      <td>Serious</td>\n",
       "      <td>28-02-2022</td>\n",
       "      <td>57.575210</td>\n",
       "      <td>Daylight</td>\n",
       "      <td>Highland</td>\n",
       "      <td>-3.895673</td>\n",
       "      <td>1</td>\n",
       "      <td>1</td>\n",
       "      <td>Wet or damp</td>\n",
       "      <td>Dual carriageway</td>\n",
       "      <td>Rural</td>\n",
       "      <td>Snowing no high winds</td>\n",
       "      <td>Car</td>\n",
       "    </tr>\n",
       "  </tbody>\n",
       "</table>\n",
       "<p>183817 rows × 14 columns</p>\n",
       "</div>"
      ],
      "text/plain": [
       "                Index Accident_Severity Accident Date   Latitude  \\\n",
       "6101    200701JC30253            Slight    29-04-2019  51.616921   \n",
       "6193    200701JC63842            Slight    23-06-2019  51.634035   \n",
       "6223    200701JC64859            Slight    15-07-2019  51.616088   \n",
       "6421    200701JC67563            Slight    17-10-2019  51.634365   \n",
       "6441    200701JC67754            Slight     3/11/2019  51.615152   \n",
       "...               ...               ...           ...        ...   \n",
       "660672  201091NM01085           Serious    29-01-2022  57.170725   \n",
       "660675  201091NM01881            Slight    21-02-2022  57.232273   \n",
       "660676  201091NM01935            Slight    23-02-2022  57.585044   \n",
       "660677  201091NM01964           Serious    23-02-2022  57.214898   \n",
       "660678  201091NM02142           Serious    28-02-2022  57.575210   \n",
       "\n",
       "                   Light_Conditions   District Area  Longitude  \\\n",
       "6101          Darkness - lights lit  Waltham Forest   0.010797   \n",
       "6193                       Daylight  Waltham Forest   0.014444   \n",
       "6223    Darkness - lighting unknown  Waltham Forest   0.012204   \n",
       "6421         Darkness - no lighting  Waltham Forest   0.021395   \n",
       "6441                       Daylight  Waltham Forest   0.014330   \n",
       "...                             ...             ...        ...   \n",
       "660672                     Daylight        Highland  -3.852421   \n",
       "660675       Darkness - no lighting        Highland  -3.809281   \n",
       "660676                     Daylight        Highland  -3.862727   \n",
       "660677       Darkness - no lighting        Highland  -3.823997   \n",
       "660678                     Daylight        Highland  -3.895673   \n",
       "\n",
       "        Number_of_Casualties  Number_of_Vehicles Road_Surface_Conditions  \\\n",
       "6101                       1                   1                     Dry   \n",
       "6193                       1                   2             Wet or damp   \n",
       "6223                       1                   3                     Dry   \n",
       "6421                       1                   1             Wet or damp   \n",
       "6441                       1                   2                     Dry   \n",
       "...                      ...                 ...                     ...   \n",
       "660672                     1                   2                    Snow   \n",
       "660675                     1                   1            Frost or ice   \n",
       "660676                     1                   3            Frost or ice   \n",
       "660677                     1                   2             Wet or damp   \n",
       "660678                     1                   1             Wet or damp   \n",
       "\n",
       "                 Road_Type Urban_or_Rural_Area     Weather_Conditions  \\\n",
       "6101    Single carriageway               Rural     Fine no high winds   \n",
       "6193    Single carriageway               Rural  Raining no high winds   \n",
       "6223    Single carriageway               Rural     Fine no high winds   \n",
       "6421    Single carriageway               Rural  Raining no high winds   \n",
       "6441    Single carriageway               Rural     Fine no high winds   \n",
       "...                    ...                 ...                    ...   \n",
       "660672  Single carriageway               Rural     Fine no high winds   \n",
       "660675  Single carriageway               Rural     Fine no high winds   \n",
       "660676  Single carriageway               Rural     Fine no high winds   \n",
       "660677  Single carriageway               Rural     Fine no high winds   \n",
       "660678    Dual carriageway               Rural  Snowing no high winds   \n",
       "\n",
       "                 Vehicle_Type  \n",
       "6101                      Car  \n",
       "6193    Motorcycle over 500cc  \n",
       "6223                      Car  \n",
       "6421                      Car  \n",
       "6441                      Car  \n",
       "...                       ...  \n",
       "660672                    Car  \n",
       "660675                    Car  \n",
       "660676                    Car  \n",
       "660677  Motorcycle over 500cc  \n",
       "660678                    Car  \n",
       "\n",
       "[183817 rows x 14 columns]"
      ]
     },
     "execution_count": 37,
     "metadata": {},
     "output_type": "execute_result"
    }
   ],
   "source": [
    "Data[(Data['Urban_or_Rural_Area'] == 'Rural') & (Data['Number_of_Casualties'])]"
   ]
  },
  {
   "cell_type": "markdown",
   "id": "1b5fb74b-be34-4683-9e8f-5010356f291c",
   "metadata": {},
   "source": [
    "<h1>INSIGHT</h1>\n",
    "<hr>\n",
    "<h3>We can see above all the accidents in the Rural area.</h3>"
   ]
  },
  {
   "cell_type": "markdown",
   "id": "17102d78-60fe-4209-86d5-e68fd5d39b0e",
   "metadata": {},
   "source": [
    "<h1>9. Retrieve all Car incidents that have involved three or more additional vehicles.</h1>\n"
   ]
  },
  {
   "cell_type": "code",
   "execution_count": 38,
   "id": "47e8f814-f2bc-4892-a743-d99225135355",
   "metadata": {},
   "outputs": [
    {
     "data": {
      "text/html": [
       "<div>\n",
       "<style scoped>\n",
       "    .dataframe tbody tr th:only-of-type {\n",
       "        vertical-align: middle;\n",
       "    }\n",
       "\n",
       "    .dataframe tbody tr th {\n",
       "        vertical-align: top;\n",
       "    }\n",
       "\n",
       "    .dataframe thead th {\n",
       "        text-align: right;\n",
       "    }\n",
       "</style>\n",
       "<table border=\"1\" class=\"dataframe\">\n",
       "  <thead>\n",
       "    <tr style=\"text-align: right;\">\n",
       "      <th></th>\n",
       "      <th>Index</th>\n",
       "      <th>Accident_Severity</th>\n",
       "      <th>Accident Date</th>\n",
       "      <th>Latitude</th>\n",
       "      <th>Light_Conditions</th>\n",
       "      <th>District Area</th>\n",
       "      <th>Longitude</th>\n",
       "      <th>Number_of_Casualties</th>\n",
       "      <th>Number_of_Vehicles</th>\n",
       "      <th>Road_Surface_Conditions</th>\n",
       "      <th>Road_Type</th>\n",
       "      <th>Urban_or_Rural_Area</th>\n",
       "      <th>Weather_Conditions</th>\n",
       "      <th>Vehicle_Type</th>\n",
       "    </tr>\n",
       "  </thead>\n",
       "  <tbody>\n",
       "    <tr>\n",
       "      <th>5</th>\n",
       "      <td>200701BS67159</td>\n",
       "      <td>Serious</td>\n",
       "      <td>18-09-2019</td>\n",
       "      <td>51.497750</td>\n",
       "      <td>Daylight</td>\n",
       "      <td>Kensington and Chelsea</td>\n",
       "      <td>-0.192556</td>\n",
       "      <td>2</td>\n",
       "      <td>3</td>\n",
       "      <td>Dry</td>\n",
       "      <td>Single carriageway</td>\n",
       "      <td>Urban</td>\n",
       "      <td>Fine no high winds</td>\n",
       "      <td>Car</td>\n",
       "    </tr>\n",
       "    <tr>\n",
       "      <th>19</th>\n",
       "      <td>200701BS68237</td>\n",
       "      <td>Serious</td>\n",
       "      <td>26-11-2019</td>\n",
       "      <td>51.482988</td>\n",
       "      <td>Daylight</td>\n",
       "      <td>Kensington and Chelsea</td>\n",
       "      <td>-0.174272</td>\n",
       "      <td>1</td>\n",
       "      <td>4</td>\n",
       "      <td>Dry</td>\n",
       "      <td>Single carriageway</td>\n",
       "      <td>Urban</td>\n",
       "      <td>Fine no high winds</td>\n",
       "      <td>Car</td>\n",
       "    </tr>\n",
       "    <tr>\n",
       "      <th>248</th>\n",
       "      <td>200701BS70255</td>\n",
       "      <td>Serious</td>\n",
       "      <td>16-05-2019</td>\n",
       "      <td>51.491632</td>\n",
       "      <td>Daylight</td>\n",
       "      <td>Kensington and Chelsea</td>\n",
       "      <td>-0.192366</td>\n",
       "      <td>1</td>\n",
       "      <td>3</td>\n",
       "      <td>Dry</td>\n",
       "      <td>Single carriageway</td>\n",
       "      <td>Urban</td>\n",
       "      <td>Fine no high winds</td>\n",
       "      <td>Car</td>\n",
       "    </tr>\n",
       "    <tr>\n",
       "      <th>336</th>\n",
       "      <td>200701BS70350</td>\n",
       "      <td>Slight</td>\n",
       "      <td>22-06-2019</td>\n",
       "      <td>51.485178</td>\n",
       "      <td>Daylight</td>\n",
       "      <td>Kensington and Chelsea</td>\n",
       "      <td>-0.187868</td>\n",
       "      <td>1</td>\n",
       "      <td>3</td>\n",
       "      <td>Dry</td>\n",
       "      <td>One way street</td>\n",
       "      <td>Urban</td>\n",
       "      <td>Fine no high winds</td>\n",
       "      <td>Car</td>\n",
       "    </tr>\n",
       "    <tr>\n",
       "      <th>354</th>\n",
       "      <td>200701BS70368</td>\n",
       "      <td>Slight</td>\n",
       "      <td>29-06-2019</td>\n",
       "      <td>51.482076</td>\n",
       "      <td>Darkness - lights lit</td>\n",
       "      <td>Kensington and Chelsea</td>\n",
       "      <td>-0.173445</td>\n",
       "      <td>1</td>\n",
       "      <td>3</td>\n",
       "      <td>Wet or damp</td>\n",
       "      <td>Single carriageway</td>\n",
       "      <td>Urban</td>\n",
       "      <td>Raining no high winds</td>\n",
       "      <td>Car</td>\n",
       "    </tr>\n",
       "    <tr>\n",
       "      <th>...</th>\n",
       "      <td>...</td>\n",
       "      <td>...</td>\n",
       "      <td>...</td>\n",
       "      <td>...</td>\n",
       "      <td>...</td>\n",
       "      <td>...</td>\n",
       "      <td>...</td>\n",
       "      <td>...</td>\n",
       "      <td>...</td>\n",
       "      <td>...</td>\n",
       "      <td>...</td>\n",
       "      <td>...</td>\n",
       "      <td>...</td>\n",
       "      <td>...</td>\n",
       "    </tr>\n",
       "    <tr>\n",
       "      <th>660620</th>\n",
       "      <td>201091NK04948</td>\n",
       "      <td>Slight</td>\n",
       "      <td>4/10/2022</td>\n",
       "      <td>59.047179</td>\n",
       "      <td>Daylight</td>\n",
       "      <td>Orkney Islands</td>\n",
       "      <td>-3.196707</td>\n",
       "      <td>6</td>\n",
       "      <td>3</td>\n",
       "      <td>Dry</td>\n",
       "      <td>Roundabout</td>\n",
       "      <td>Rural</td>\n",
       "      <td>Fine no high winds</td>\n",
       "      <td>Car</td>\n",
       "    </tr>\n",
       "    <tr>\n",
       "      <th>660641</th>\n",
       "      <td>201091NL04969</td>\n",
       "      <td>Slight</td>\n",
       "      <td>4/9/2022</td>\n",
       "      <td>60.151776</td>\n",
       "      <td>Darkness - lights lit</td>\n",
       "      <td>Shetland Islands</td>\n",
       "      <td>-1.148217</td>\n",
       "      <td>1</td>\n",
       "      <td>3</td>\n",
       "      <td>Dry</td>\n",
       "      <td>Single carriageway</td>\n",
       "      <td>Rural</td>\n",
       "      <td>Fine no high winds</td>\n",
       "      <td>Car</td>\n",
       "    </tr>\n",
       "    <tr>\n",
       "      <th>660666</th>\n",
       "      <td>201091NM00770</td>\n",
       "      <td>Slight</td>\n",
       "      <td>21-01-2022</td>\n",
       "      <td>56.879446</td>\n",
       "      <td>Darkness - lighting unknown</td>\n",
       "      <td>Highland</td>\n",
       "      <td>-4.255357</td>\n",
       "      <td>2</td>\n",
       "      <td>4</td>\n",
       "      <td>Snow</td>\n",
       "      <td>Single carriageway</td>\n",
       "      <td>Rural</td>\n",
       "      <td>Snowing + high winds</td>\n",
       "      <td>Car</td>\n",
       "    </tr>\n",
       "    <tr>\n",
       "      <th>660668</th>\n",
       "      <td>201091NM00839</td>\n",
       "      <td>Slight</td>\n",
       "      <td>23-01-2022</td>\n",
       "      <td>57.054889</td>\n",
       "      <td>Daylight</td>\n",
       "      <td>Highland</td>\n",
       "      <td>-4.130434</td>\n",
       "      <td>2</td>\n",
       "      <td>3</td>\n",
       "      <td>Frost or ice</td>\n",
       "      <td>Single carriageway</td>\n",
       "      <td>Rural</td>\n",
       "      <td>Other</td>\n",
       "      <td>Car</td>\n",
       "    </tr>\n",
       "    <tr>\n",
       "      <th>660676</th>\n",
       "      <td>201091NM01935</td>\n",
       "      <td>Slight</td>\n",
       "      <td>23-02-2022</td>\n",
       "      <td>57.585044</td>\n",
       "      <td>Daylight</td>\n",
       "      <td>Highland</td>\n",
       "      <td>-3.862727</td>\n",
       "      <td>1</td>\n",
       "      <td>3</td>\n",
       "      <td>Frost or ice</td>\n",
       "      <td>Single carriageway</td>\n",
       "      <td>Rural</td>\n",
       "      <td>Fine no high winds</td>\n",
       "      <td>Car</td>\n",
       "    </tr>\n",
       "  </tbody>\n",
       "</table>\n",
       "<p>51479 rows × 14 columns</p>\n",
       "</div>"
      ],
      "text/plain": [
       "                Index Accident_Severity Accident Date   Latitude  \\\n",
       "5       200701BS67159           Serious    18-09-2019  51.497750   \n",
       "19      200701BS68237           Serious    26-11-2019  51.482988   \n",
       "248     200701BS70255           Serious    16-05-2019  51.491632   \n",
       "336     200701BS70350            Slight    22-06-2019  51.485178   \n",
       "354     200701BS70368            Slight    29-06-2019  51.482076   \n",
       "...               ...               ...           ...        ...   \n",
       "660620  201091NK04948            Slight     4/10/2022  59.047179   \n",
       "660641  201091NL04969            Slight      4/9/2022  60.151776   \n",
       "660666  201091NM00770            Slight    21-01-2022  56.879446   \n",
       "660668  201091NM00839            Slight    23-01-2022  57.054889   \n",
       "660676  201091NM01935            Slight    23-02-2022  57.585044   \n",
       "\n",
       "                   Light_Conditions           District Area  Longitude  \\\n",
       "5                          Daylight  Kensington and Chelsea  -0.192556   \n",
       "19                         Daylight  Kensington and Chelsea  -0.174272   \n",
       "248                        Daylight  Kensington and Chelsea  -0.192366   \n",
       "336                        Daylight  Kensington and Chelsea  -0.187868   \n",
       "354           Darkness - lights lit  Kensington and Chelsea  -0.173445   \n",
       "...                             ...                     ...        ...   \n",
       "660620                     Daylight          Orkney Islands  -3.196707   \n",
       "660641        Darkness - lights lit        Shetland Islands  -1.148217   \n",
       "660666  Darkness - lighting unknown                Highland  -4.255357   \n",
       "660668                     Daylight                Highland  -4.130434   \n",
       "660676                     Daylight                Highland  -3.862727   \n",
       "\n",
       "        Number_of_Casualties  Number_of_Vehicles Road_Surface_Conditions  \\\n",
       "5                          2                   3                     Dry   \n",
       "19                         1                   4                     Dry   \n",
       "248                        1                   3                     Dry   \n",
       "336                        1                   3                     Dry   \n",
       "354                        1                   3             Wet or damp   \n",
       "...                      ...                 ...                     ...   \n",
       "660620                     6                   3                     Dry   \n",
       "660641                     1                   3                     Dry   \n",
       "660666                     2                   4                    Snow   \n",
       "660668                     2                   3            Frost or ice   \n",
       "660676                     1                   3            Frost or ice   \n",
       "\n",
       "                 Road_Type Urban_or_Rural_Area     Weather_Conditions  \\\n",
       "5       Single carriageway               Urban     Fine no high winds   \n",
       "19      Single carriageway               Urban     Fine no high winds   \n",
       "248     Single carriageway               Urban     Fine no high winds   \n",
       "336         One way street               Urban     Fine no high winds   \n",
       "354     Single carriageway               Urban  Raining no high winds   \n",
       "...                    ...                 ...                    ...   \n",
       "660620          Roundabout               Rural     Fine no high winds   \n",
       "660641  Single carriageway               Rural     Fine no high winds   \n",
       "660666  Single carriageway               Rural   Snowing + high winds   \n",
       "660668  Single carriageway               Rural                  Other   \n",
       "660676  Single carriageway               Rural     Fine no high winds   \n",
       "\n",
       "       Vehicle_Type  \n",
       "5               Car  \n",
       "19              Car  \n",
       "248             Car  \n",
       "336             Car  \n",
       "354             Car  \n",
       "...             ...  \n",
       "660620          Car  \n",
       "660641          Car  \n",
       "660666          Car  \n",
       "660668          Car  \n",
       "660676          Car  \n",
       "\n",
       "[51479 rows x 14 columns]"
      ]
     },
     "execution_count": 38,
     "metadata": {},
     "output_type": "execute_result"
    }
   ],
   "source": [
    "Data[(Data['Vehicle_Type'] == 'Car') & (Data['Number_of_Vehicles'] > 2)]"
   ]
  },
  {
   "cell_type": "markdown",
   "id": "0ad4287e-7483-47b2-a6f9-e34a039a1f41",
   "metadata": {},
   "source": [
    "<h1>INSIGHT</h1>\n",
    "<hr>\n",
    "<h3> Here are the car accidents that involve more than 3 Vehicles. </h3>"
   ]
  },
  {
   "cell_type": "markdown",
   "id": "2764c82d-d578-4b4b-a792-edcbd3876c76",
   "metadata": {},
   "source": [
    "<h1> 10. Which incident has the highest Vehicles involved?</h1>"
   ]
  },
  {
   "cell_type": "code",
   "execution_count": 39,
   "id": "ce855cec-dc8f-4a9e-868b-92ad7950fafb",
   "metadata": {},
   "outputs": [
    {
     "data": {
      "text/plain": [
       "array([ 2,  3,  4,  1,  5,  6, 14,  8,  7, 11, 10,  9, 16, 13, 12, 28, 15,\n",
       "       32, 19])"
      ]
     },
     "execution_count": 39,
     "metadata": {},
     "output_type": "execute_result"
    }
   ],
   "source": [
    "Data['Number_of_Vehicles'].unique() "
   ]
  },
  {
   "cell_type": "code",
   "execution_count": 40,
   "id": "0610234c-2b01-421d-a63c-e45cb273e526",
   "metadata": {},
   "outputs": [
    {
     "data": {
      "text/html": [
       "<div>\n",
       "<style scoped>\n",
       "    .dataframe tbody tr th:only-of-type {\n",
       "        vertical-align: middle;\n",
       "    }\n",
       "\n",
       "    .dataframe tbody tr th {\n",
       "        vertical-align: top;\n",
       "    }\n",
       "\n",
       "    .dataframe thead th {\n",
       "        text-align: right;\n",
       "    }\n",
       "</style>\n",
       "<table border=\"1\" class=\"dataframe\">\n",
       "  <thead>\n",
       "    <tr style=\"text-align: right;\">\n",
       "      <th></th>\n",
       "      <th>Index</th>\n",
       "      <th>Accident_Severity</th>\n",
       "      <th>Accident Date</th>\n",
       "      <th>Latitude</th>\n",
       "      <th>Light_Conditions</th>\n",
       "      <th>District Area</th>\n",
       "      <th>Longitude</th>\n",
       "      <th>Number_of_Casualties</th>\n",
       "      <th>Number_of_Vehicles</th>\n",
       "      <th>Road_Surface_Conditions</th>\n",
       "      <th>Road_Type</th>\n",
       "      <th>Urban_or_Rural_Area</th>\n",
       "      <th>Weather_Conditions</th>\n",
       "      <th>Vehicle_Type</th>\n",
       "    </tr>\n",
       "  </thead>\n",
       "  <tbody>\n",
       "    <tr>\n",
       "      <th>497581</th>\n",
       "      <td>2009559D05333</td>\n",
       "      <td>Slight</td>\n",
       "      <td>23-12-2021</td>\n",
       "      <td>50.752096</td>\n",
       "      <td>Daylight</td>\n",
       "      <td>Purbeck</td>\n",
       "      <td>-2.254705</td>\n",
       "      <td>5</td>\n",
       "      <td>32</td>\n",
       "      <td>Frost or ice</td>\n",
       "      <td>Dual carriageway</td>\n",
       "      <td>Rural</td>\n",
       "      <td>Fine no high winds</td>\n",
       "      <td>Car</td>\n",
       "    </tr>\n",
       "  </tbody>\n",
       "</table>\n",
       "</div>"
      ],
      "text/plain": [
       "                Index Accident_Severity Accident Date   Latitude  \\\n",
       "497581  2009559D05333            Slight    23-12-2021  50.752096   \n",
       "\n",
       "       Light_Conditions District Area  Longitude  Number_of_Casualties  \\\n",
       "497581         Daylight       Purbeck  -2.254705                     5   \n",
       "\n",
       "        Number_of_Vehicles Road_Surface_Conditions         Road_Type  \\\n",
       "497581                  32            Frost or ice  Dual carriageway   \n",
       "\n",
       "       Urban_or_Rural_Area  Weather_Conditions Vehicle_Type  \n",
       "497581               Rural  Fine no high winds          Car  "
      ]
     },
     "execution_count": 40,
     "metadata": {},
     "output_type": "execute_result"
    }
   ],
   "source": [
    "Data[Data['Number_of_Vehicles'] == 32]"
   ]
  },
  {
   "cell_type": "markdown",
   "id": "6a55ae99-4604-4e88-9a1a-b3683cc49527",
   "metadata": {},
   "source": [
    "<h1>INSIGHT</h1>\n",
    "<hr>\n",
    "<h3>The Vehicle involved in the incident is 32 Vehicles.</h3> "
   ]
  },
  {
   "cell_type": "markdown",
   "id": "b58316a6-6c82-4db8-8741-80e5479f6186",
   "metadata": {},
   "source": [
    "<h1>11. Group the accidents by Accident_Severity and count the total number of cases in each category.</h1>\n",
    "<hr>"
   ]
  },
  {
   "cell_type": "code",
   "execution_count": 41,
   "id": "08defcaa-ba08-4eb3-b85c-969117979d58",
   "metadata": {},
   "outputs": [
    {
     "data": {
      "text/plain": [
       "Accident_Severity\n",
       "Fatal        8661\n",
       "Serious     88217\n",
       "Slight     563801\n",
       "dtype: int64"
      ]
     },
     "execution_count": 41,
     "metadata": {},
     "output_type": "execute_result"
    }
   ],
   "source": [
    "Data.groupby([\"Accident_Severity\"]).size()"
   ]
  },
  {
   "cell_type": "markdown",
   "id": "895a6d97-bbdb-4163-abb1-4e2fb93a1943",
   "metadata": {},
   "source": [
    "<h1>INSIGHT</h1>\n",
    "<hr>\n",
    "<h3>We can see now which condition of the accidents has the highest count.</h3> "
   ]
  },
  {
   "cell_type": "markdown",
   "id": "86252417-5adc-41bb-a33d-aa5eea0267a6",
   "metadata": {},
   "source": [
    "<h1>12. Group accidents by District Area and find the district with the highest accident count, and what is the condition os the accidents.</h1>\n",
    "<hr>"
   ]
  },
  {
   "cell_type": "code",
   "execution_count": 42,
   "id": "120bcd1b-c566-4278-aaa3-c624039df838",
   "metadata": {},
   "outputs": [
    {
     "data": {
      "text/plain": [
       "District Area  Accident_Severity\n",
       "Aberdeen City  Fatal                  12\n",
       "               Serious               239\n",
       "               Slight               1072\n",
       "Aberdeenshire  Fatal                  66\n",
       "               Serious               463\n",
       "                                    ... \n",
       "Wyre Forest    Serious               132\n",
       "               Slight                815\n",
       "York           Fatal                  21\n",
       "               Serious               255\n",
       "               Slight               1621\n",
       "Length: 1266, dtype: int64"
      ]
     },
     "execution_count": 42,
     "metadata": {},
     "output_type": "execute_result"
    }
   ],
   "source": [
    "Data.groupby(['District Area', 'Accident_Severity']).size()"
   ]
  },
  {
   "cell_type": "markdown",
   "id": "28bf2eeb-fa36-4307-ad16-e19bd6a7c9b1",
   "metadata": {},
   "source": [
    "<h1>INSIGHT</h1>\n",
    "<hr>\n",
    "<h3>We can see now the accidents in each country/area have the highest count, and the condition of accidents.</h3> "
   ]
  },
  {
   "cell_type": "markdown",
   "id": "51dc0989-613f-4804-a301-13b42c185ebd",
   "metadata": {},
   "source": [
    "<h1>13. Group accidents by Light_Conditions and calculate the average casualties in each condition.</h1>\n",
    "<hr>"
   ]
  },
  {
   "cell_type": "code",
   "execution_count": 43,
   "id": "b97c7da6-b2c3-4e22-953e-aabc30d94238",
   "metadata": {},
   "outputs": [
    {
     "data": {
      "text/plain": [
       "Light_Conditions\n",
       "Darkness - lighting unknown    1.306447\n",
       "Darkness - lights lit          1.369374\n",
       "Darkness - lights unlit        1.331105\n",
       "Darkness - no lighting         1.541657\n",
       "Daylight                       1.340309\n",
       "Name: Number_of_Casualties, dtype: float64"
      ]
     },
     "execution_count": 43,
     "metadata": {},
     "output_type": "execute_result"
    }
   ],
   "source": [
    "Data.groupby([\"Light_Conditions\"])[\"Number_of_Casualties\"].mean()"
   ]
  },
  {
   "cell_type": "markdown",
   "id": "627f8b21-cb79-40f0-97b9-8ec6dbcb60d1",
   "metadata": {},
   "source": [
    "<h1>INSIGHT</h1>\n",
    "<hr>\n",
    "<h3>As we calculate what is the average of casualties of each incident.</h3> "
   ]
  },
  {
   "cell_type": "markdown",
   "id": "f4a4b0e8-4eba-4c57-bbfa-cc3938eaf648",
   "metadata": {},
   "source": [
    "<h1>14. Group accidents by Road_Surface_Conditions and count the number of accidents in each.</h1>\n",
    "<hr>"
   ]
  },
  {
   "cell_type": "code",
   "execution_count": 44,
   "id": "faf332f6-c360-4e53-a641-3b73d3f5110b",
   "metadata": {},
   "outputs": [
    {
     "data": {
      "text/plain": [
       "Road_Surface_Conditions\n",
       "Dry                     448547\n",
       "Flood over 3cm. deep      1017\n",
       "Frost or ice             18517\n",
       "Snow                      5890\n",
       "Wet or damp             186708\n",
       "dtype: int64"
      ]
     },
     "execution_count": 44,
     "metadata": {},
     "output_type": "execute_result"
    }
   ],
   "source": [
    "Data.groupby([\"Road_Surface_Conditions\"]).size()"
   ]
  },
  {
   "cell_type": "markdown",
   "id": "a32a03ca-109c-4f2b-8c55-f57c38f42792",
   "metadata": {},
   "source": [
    "<h1>INSIGHT</h1>\n",
    "<hr>\n",
    "<h3>By using groupby, we see each category of Road condition in each accident. </h3> "
   ]
  },
  {
   "cell_type": "markdown",
   "id": "9e2d77de-e277-4e17-b52d-44345a5f26a2",
   "metadata": {},
   "source": [
    "<h1> 15. Group accidents by Vehicle_Type and find which type has the highest accident severity in each accident condition.</h1>\n",
    "<hr>"
   ]
  },
  {
   "cell_type": "code",
   "execution_count": 45,
   "id": "8acac6bc-8e78-422e-a7c4-8feaeab615ee",
   "metadata": {},
   "outputs": [
    {
     "data": {
      "text/plain": [
       "Vehicle_Type                           Accident_Severity\n",
       "Agricultural vehicle                   Fatal                    21\n",
       "                                       Serious                 282\n",
       "                                       Slight                 1644\n",
       "Bus or coach (17 or more pass seats)   Fatal                   325\n",
       "                                       Serious                3373\n",
       "                                       Slight                22180\n",
       "Car                                    Fatal                  6577\n",
       "                                       Serious               66461\n",
       "                                       Slight               424954\n",
       "Data missing or out of range           Fatal                     0\n",
       "                                       Serious                   0\n",
       "                                       Slight                    6\n",
       "Goods 7.5 tonnes mgw and over          Fatal                   216\n",
       "                                       Serious                2321\n",
       "                                       Slight                14770\n",
       "Goods over 3.5t. and under 7.5t        Fatal                    67\n",
       "                                       Serious                 857\n",
       "                                       Slight                 5172\n",
       "Minibus (8 - 16 passenger seats)       Fatal                    29\n",
       "                                       Serious                 276\n",
       "                                       Slight                 1671\n",
       "Motorcycle 125cc and under             Fatal                   189\n",
       "                                       Serious                2031\n",
       "                                       Slight                13049\n",
       "Motorcycle 50cc and under              Fatal                    95\n",
       "                                       Serious                1014\n",
       "                                       Slight                 6494\n",
       "Motorcycle over 125cc and up to 500cc  Fatal                   105\n",
       "                                       Serious                1014\n",
       "                                       Slight                 6537\n",
       "Motorcycle over 500cc                  Fatal                   339\n",
       "                                       Serious                3457\n",
       "                                       Slight                21861\n",
       "Other vehicle                          Fatal                    70\n",
       "                                       Serious                 767\n",
       "                                       Slight                 4800\n",
       "Pedal cycle                            Fatal                     6\n",
       "                                       Serious                  39\n",
       "                                       Slight                  152\n",
       "Ridden horse                           Fatal                     0\n",
       "                                       Serious                   0\n",
       "                                       Slight                    4\n",
       "Taxi/Private hire car                  Fatal                   155\n",
       "                                       Serious                1771\n",
       "                                       Slight                11368\n",
       "Van / Goods 3.5 tonnes mgw or under    Fatal                   467\n",
       "                                       Serious                4554\n",
       "                                       Slight                29139\n",
       "dtype: int64"
      ]
     },
     "execution_count": 45,
     "metadata": {},
     "output_type": "execute_result"
    }
   ],
   "source": [
    "Data.groupby([\"Vehicle_Type\", \"Accident_Severity\"]).size()"
   ]
  },
  {
   "cell_type": "markdown",
   "id": "0d4216b0-713e-4039-b52b-55c221f08e07",
   "metadata": {},
   "source": [
    "<h1>INSIGHT</h1>\n",
    "<hr>\n",
    "<h3>The highest Serious accident condition is a Car that has 66461 incidents.\n",
    "The highest Fatal accident condition is a Car that has 6577 incidents.\n",
    "The highest Slight accident condition is a Car that has 424954 incidents.</h3> "
   ]
  },
  {
   "cell_type": "markdown",
   "id": "ba16643b-77e3-4a7e-a50e-f64783d0bcd4",
   "metadata": {},
   "source": [
    "<h1>16. Correlation between number of casualties and number of vehicles</h1>\n",
    "<hr>"
   ]
  },
  {
   "cell_type": "code",
   "execution_count": 46,
   "id": "557f2097-8d46-4cf1-8466-535f69b53dd0",
   "metadata": {},
   "outputs": [
    {
     "data": {
      "text/plain": [
       "np.float64(0.2288888612692756)"
      ]
     },
     "execution_count": 46,
     "metadata": {},
     "output_type": "execute_result"
    }
   ],
   "source": [
    " Data[\"Number_of_Casualties\"].corr(Data[\"Number_of_Vehicles\"])"
   ]
  },
  {
   "cell_type": "markdown",
   "id": "deea9c09-6656-4b64-a786-ecbbc3b95bf8",
   "metadata": {},
   "source": [
    "<h1>INSIGHT</h1>\n",
    "<hr>\n",
    "<h3>there is no correlation for Number_of_Casualties and Number_of_Vehicles.</h3> "
   ]
  },
  {
   "cell_type": "markdown",
   "id": "ef47578b-b674-4d2b-bafa-7c6d5f934b72",
   "metadata": {},
   "source": [
    "<h1>17. Correlation between casualties and latitude </h1>\n",
    "<hr>"
   ]
  },
  {
   "cell_type": "code",
   "execution_count": 47,
   "id": "e4f79887-14cc-468f-bc00-d55aa6f5784a",
   "metadata": {},
   "outputs": [
    {
     "data": {
      "text/plain": [
       "np.float64(0.032200686625906395)"
      ]
     },
     "execution_count": 47,
     "metadata": {},
     "output_type": "execute_result"
    }
   ],
   "source": [
    "Data[\"Number_of_Casualties\"].corr(Data[\"Latitude\"])"
   ]
  },
  {
   "cell_type": "markdown",
   "id": "7d5d6e2e-e939-42a4-85f1-36b87ffae5e5",
   "metadata": {},
   "source": [
    "<h1>INSIGHT</h1>\n",
    "<hr>\n",
    "<h3>there was no relation for Number_of_Casualties and Latitude. </h3> "
   ]
  },
  {
   "cell_type": "markdown",
   "id": "95874018-da92-463e-b01a-742280c06d7c",
   "metadata": {},
   "source": [
    "<h1>18. Correlation between casualties and longitude</h1>\n",
    "<hr>"
   ]
  },
  {
   "cell_type": "code",
   "execution_count": 48,
   "id": "60304bbb-39d5-4521-996f-c7ff1fe6baa7",
   "metadata": {},
   "outputs": [
    {
     "data": {
      "text/plain": [
       "np.float64(-0.04040564578845451)"
      ]
     },
     "execution_count": 48,
     "metadata": {},
     "output_type": "execute_result"
    }
   ],
   "source": [
    "Data[\"Number_of_Casualties\"].corr(Data[\"Longitude\"])"
   ]
  },
  {
   "cell_type": "markdown",
   "id": "3f9c8e94-9de1-4c6e-9c05-8989f4abbcad",
   "metadata": {},
   "source": [
    "<h1>INSIGHT</h1>\n",
    "<hr>\n",
    "<h3>there was no relation for Number_of_Casualties and Longitude.  </h3> "
   ]
  },
  {
   "cell_type": "markdown",
   "id": "8c9504b7-387e-4f2f-ae5f-d4d16bdfe175",
   "metadata": {},
   "source": [
    "<h1>19. Which vehicle type is most frequently involved in accidents?</h1>\n",
    "<hr>"
   ]
  },
  {
   "cell_type": "code",
   "execution_count": 49,
   "id": "77a49d7a-363f-4be8-ae75-bd2e86aeb72f",
   "metadata": {},
   "outputs": [
    {
     "data": {
      "text/plain": [
       "Vehicle_Type\n",
       "Car                                      497992\n",
       "Van / Goods 3.5 tonnes mgw or under       34160\n",
       "Bus or coach (17 or more pass seats)      25878\n",
       "Motorcycle over 500cc                     25657\n",
       "Goods 7.5 tonnes mgw and over             17307\n",
       "Motorcycle 125cc and under                15269\n",
       "Taxi/Private hire car                     13294\n",
       "Motorcycle over 125cc and up to 500cc      7656\n",
       "Motorcycle 50cc and under                  7603\n",
       "Goods over 3.5t. and under 7.5t            6096\n",
       "Other vehicle                              5637\n",
       "Minibus (8 - 16 passenger seats)           1976\n",
       "Agricultural vehicle                       1947\n",
       "Pedal cycle                                 197\n",
       "Data missing or out of range                  6\n",
       "Ridden horse                                  4\n",
       "Name: count, dtype: int64"
      ]
     },
     "execution_count": 49,
     "metadata": {},
     "output_type": "execute_result"
    }
   ],
   "source": [
    "Data[\"Vehicle_Type\"].value_counts()"
   ]
  },
  {
   "cell_type": "markdown",
   "id": "a9e74255-5510-4f37-8bec-44f9115755d6",
   "metadata": {},
   "source": [
    "<h1>INSIGHT</h1>\n",
    "<hr>\n",
    "<h3>there was The most frequently involved in accidents is Car that has 497992 accidents. </h3> "
   ]
  },
  {
   "cell_type": "markdown",
   "id": "dde72853-2652-4ac6-8a66-0e7bb0d534ad",
   "metadata": {},
   "source": [
    "<h1>20. Which weather condition had the least number of accidents recorded?</h1>\n",
    "<hr>"
   ]
  },
  {
   "cell_type": "code",
   "execution_count": 50,
   "id": "c99b926e-a7c5-4843-a8cd-b238587022c1",
   "metadata": {},
   "outputs": [
    {
     "data": {
      "text/plain": [
       "Weather_Conditions\n",
       "Fine no high winds       535013\n",
       "Raining no high winds     79696\n",
       "Other                     17150\n",
       "Raining + high winds       9615\n",
       "Fine + high winds          8554\n",
       "Snowing no high winds      6238\n",
       "Fog or mist                3528\n",
       "Snowing + high winds        885\n",
       "Name: count, dtype: int64"
      ]
     },
     "execution_count": 50,
     "metadata": {},
     "output_type": "execute_result"
    }
   ],
   "source": [
    "Data[\"Weather_Conditions\"].value_counts()"
   ]
  },
  {
   "cell_type": "markdown",
   "id": "70b5f555-239d-4d3e-89cb-91c231c798da",
   "metadata": {},
   "source": [
    "<h1>INSIGHT</h1>\n",
    "<hr>\n",
    "<h3>The least number of accidents in weather condition is Snowing + high winds that have 885 accidents.</h3> "
   ]
  },
  {
   "cell_type": "code",
   "execution_count": null,
   "id": "ad46c22d-de3e-4403-8ba1-802d1ff30d4d",
   "metadata": {},
   "outputs": [],
   "source": []
  }
 ],
 "metadata": {
  "kernelspec": {
   "display_name": "Python 3 (ipykernel)",
   "language": "python",
   "name": "python3"
  },
  "language_info": {
   "codemirror_mode": {
    "name": "ipython",
    "version": 3
   },
   "file_extension": ".py",
   "mimetype": "text/x-python",
   "name": "python",
   "nbconvert_exporter": "python",
   "pygments_lexer": "ipython3",
   "version": "3.12.4"
  }
 },
 "nbformat": 4,
 "nbformat_minor": 5
}
